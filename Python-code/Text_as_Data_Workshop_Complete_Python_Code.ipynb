{
  "nbformat": 4,
  "nbformat_minor": 0,
  "metadata": {
    "colab": {
      "name": "Text as Data Workshop Complete Python Code.ipynb",
      "provenance": [],
      "collapsed_sections": [],
      "authorship_tag": "ABX9TyPj6bcc2n3iRbMpDB1Z43VR",
      "include_colab_link": true
    },
    "kernelspec": {
      "name": "python3",
      "display_name": "Python 3"
    },
    "language_info": {
      "name": "python"
    }
  },
  "cells": [
    {
      "cell_type": "markdown",
      "metadata": {
        "id": "view-in-github",
        "colab_type": "text"
      },
      "source": [
        "<a href=\"https://colab.research.google.com/github/richeym-umich/UsingTextAsDataWorkshop/blob/main/Text_as_Data_Workshop_Complete_Python_Code.ipynb\" target=\"_parent\"><img src=\"https://colab.research.google.com/assets/colab-badge.svg\" alt=\"Open In Colab\"/></a>"
      ]
    },
    {
      "cell_type": "markdown",
      "metadata": {
        "id": "FbHigAo2BeHs"
      },
      "source": [
        "### Analyzing UN Dataset for Topic Modeling\n",
        "This notebook contains the completed python code for the Text as Data Workshop. Please see the github repository for the skeleton code to complete yourself. "
      ]
    },
    {
      "cell_type": "markdown",
      "metadata": {
        "id": "KiO8DT2WRXx6"
      },
      "source": [
        "To analyze the topics present in a group of UN documents, we first have to install the necessary python packages. These packages will allow us to read in the xml data, flatten the xml structure, and organize the data into a dataframe. "
      ]
    },
    {
      "cell_type": "code",
      "metadata": {
        "colab": {
          "base_uri": "https://localhost:8080/"
        },
        "id": "YQrecUJjlVpM",
        "outputId": "e431244a-4ba8-4dfe-f606-5f8beeddfe1a"
      },
      "source": [
        "#Install all our necessary packages\n",
        "!pip3 install pandas-read-xml\n",
        "import pandas_read_xml as pdx\n",
        "from pandas_read_xml import flatten, fully_flatten, auto_separate_tables\n",
        "import os\n",
        "from zipfile import ZipFile\n",
        "import pandas as pd\n",
        "!pip3 install contractions"
      ],
      "execution_count": 7,
      "outputs": [
        {
          "output_type": "stream",
          "name": "stdout",
          "text": [
            "Requirement already satisfied: pandas-read-xml in /usr/local/lib/python3.7/dist-packages (0.3.1)\n",
            "Requirement already satisfied: zipfile36 in /usr/local/lib/python3.7/dist-packages (from pandas-read-xml) (0.1.3)\n",
            "Requirement already satisfied: pyarrow in /usr/local/lib/python3.7/dist-packages (from pandas-read-xml) (3.0.0)\n",
            "Requirement already satisfied: xmltodict in /usr/local/lib/python3.7/dist-packages (from pandas-read-xml) (0.12.0)\n",
            "Requirement already satisfied: pandas in /usr/local/lib/python3.7/dist-packages (from pandas-read-xml) (1.3.4)\n",
            "Requirement already satisfied: distlib in /usr/local/lib/python3.7/dist-packages (from pandas-read-xml) (0.3.3)\n",
            "Requirement already satisfied: requests in /usr/local/lib/python3.7/dist-packages (from pandas-read-xml) (2.26.0)\n",
            "Requirement already satisfied: urllib3>=1.26.3 in /usr/local/lib/python3.7/dist-packages (from pandas-read-xml) (1.26.7)\n",
            "Requirement already satisfied: python-dateutil>=2.7.3 in /usr/local/lib/python3.7/dist-packages (from pandas->pandas-read-xml) (2.8.2)\n",
            "Requirement already satisfied: pytz>=2017.3 in /usr/local/lib/python3.7/dist-packages (from pandas->pandas-read-xml) (2018.9)\n",
            "Requirement already satisfied: numpy>=1.17.3 in /usr/local/lib/python3.7/dist-packages (from pandas->pandas-read-xml) (1.21.4)\n",
            "Requirement already satisfied: six>=1.5 in /usr/local/lib/python3.7/dist-packages (from python-dateutil>=2.7.3->pandas->pandas-read-xml) (1.15.0)\n",
            "Requirement already satisfied: charset-normalizer~=2.0.0 in /usr/local/lib/python3.7/dist-packages (from requests->pandas-read-xml) (2.0.7)\n",
            "Requirement already satisfied: idna<4,>=2.5 in /usr/local/lib/python3.7/dist-packages (from requests->pandas-read-xml) (2.10)\n",
            "Requirement already satisfied: certifi>=2017.4.17 in /usr/local/lib/python3.7/dist-packages (from requests->pandas-read-xml) (2021.10.8)\n",
            "Requirement already satisfied: contractions in /usr/local/lib/python3.7/dist-packages (0.0.55)\n",
            "Requirement already satisfied: textsearch>=0.0.21 in /usr/local/lib/python3.7/dist-packages (from contractions) (0.0.21)\n",
            "Requirement already satisfied: pyahocorasick in /usr/local/lib/python3.7/dist-packages (from textsearch>=0.0.21->contractions) (1.4.2)\n",
            "Requirement already satisfied: anyascii in /usr/local/lib/python3.7/dist-packages (from textsearch>=0.0.21->contractions) (0.3.0)\n"
          ]
        }
      ]
    },
    {
      "cell_type": "markdown",
      "metadata": {
        "id": "CrxPuJANS1M_"
      },
      "source": [
        "Next, we have to identify the source of the data. To load the data into your workspace, use the upload file in the panel on the left. Then, run this piece of code to unzip the zip file into the workspace. "
      ]
    },
    {
      "cell_type": "code",
      "metadata": {
        "colab": {
          "base_uri": "https://localhost:8080/"
        },
        "id": "Xq035sJElpM_",
        "outputId": "8d9cd988-3a9a-4539-eda1-2ce76ae7ba86"
      },
      "source": [
        "#Load in the data we'll be working with and unzip it\n",
        "file_name = 'pc_iii.zip'\n",
        "with ZipFile(file_name, 'r') as zipping:\n",
        "  zipping.extractall()\n",
        "  print('unzip done')"
      ],
      "execution_count": 8,
      "outputs": [
        {
          "output_type": "stream",
          "name": "stdout",
          "text": [
            "unzip done\n"
          ]
        }
      ]
    },
    {
      "cell_type": "markdown",
      "metadata": {
        "id": "O1H9oo3bXCsk"
      },
      "source": [
        "The body of the text that we're analyzing is located a few layers down within the xml structure. To access it, we need to traverse the xml structure and extract the body text. We then store this text in a dataframe with the name of the file as an identifier. "
      ]
    },
    {
      "cell_type": "code",
      "metadata": {
        "colab": {
          "base_uri": "https://localhost:8080/",
          "height": 1000
        },
        "id": "--VR2Cf-l4hL",
        "outputId": "73e0f693-c1d7-4895-83c0-d30b28c49f72"
      },
      "source": [
        "#Walk through our xml directory structure and find the body of text\n",
        "directory = 'pc_iii'\n",
        "paragraphs = []\n",
        "for filename in os.listdir(directory):\n",
        "  xmlFilename = os.path.join(directory, filename)\n",
        "  print(xmlFilename)\n",
        "  if os.path.isdir(xmlFilename):\n",
        "    continue\n",
        "  #Read in text and flatten columns to get text data\n",
        "  df = pdx.read_xml(xmlFilename, ['TEI.2', 'text', 'body'], encoding='utf8')\n",
        "  df = fully_flatten(df, ['p|@id'])\n",
        "  df = df.drop(['p|@id', 'p|s|@id', 'p|s|@lang'], axis=1)\n",
        "  df = df.rename(columns={'p|s':'text'})\n",
        "  paragraph = ''\n",
        "  for i in range(0, len(df)):\n",
        "    sentence = df.loc[i].values[0]\n",
        "    paragraph += sentence\n",
        "    paragraph += ' '\n",
        "  paragraphs.append([filename, paragraph])\n",
        "paragraphDF = pd.DataFrame.from_dict(paragraphs)\n",
        "#rename columns\n",
        "paragraphDF.columns=['filename', 'text']\n",
        "paragraphDF.head()"
      ],
      "execution_count": 9,
      "outputs": [
        {
          "output_type": "stream",
          "name": "stdout",
          "text": [
            "pc_iii/5.xml\n",
            "pc_iii/wp_5.xml\n",
            "pc_iii/wp_31.xml\n",
            "pc_iii/wp_32.xml\n",
            "pc_iii/wp_10.xml\n",
            "pc_iii/wp_42.xml\n",
            "pc_iii/wp_1.xml\n",
            "pc_iii/sr_17.xml\n",
            "pc_iii/wp_26.xml\n",
            "pc_iii/wp_41.xml\n",
            "pc_iii/wp_22.xml\n",
            "pc_iii/sr_2.xml\n",
            "pc_iii/wp_13.xml\n",
            "pc_iii/19.xml\n",
            "pc_iii/wp_8.xml\n",
            "pc_iii/wp_19.xml\n",
            "pc_iii/wp_3.xml\n",
            "pc_iii/wp_11.xml\n",
            "pc_iii/wp_35.xml\n",
            "pc_iii/wp_33.xml\n",
            "pc_iii/wp_43.xml\n",
            "pc_iii/wp_17.xml\n",
            "pc_iii/wp_40.xml\n",
            "pc_iii/sr_6.xml\n",
            "pc_iii/wp_44.xml\n",
            "pc_iii/wp_25.xml\n",
            "pc_iii/11.xml\n",
            "pc_iii/16.xml\n",
            "pc_iii/wp_28.xml\n",
            "pc_iii/wp_45.xml\n",
            "pc_iii/wp_18.xml\n",
            "pc_iii/wp_6.xml\n",
            "pc_iii/wp_7.xml\n",
            "pc_iii/12.xml\n",
            "pc_iii/wp_39.xml\n",
            "pc_iii/wp_38.xml\n",
            "pc_iii/wp_46.xml\n",
            "pc_iii/wp_37.xml\n",
            "pc_iii/wp_14.xml\n",
            "pc_iii/wp_15.xml\n",
            "pc_iii/wp_20.xml\n",
            "pc_iii/14.xml\n",
            "pc_iii/wp_21.xml\n",
            "pc_iii/1.xml\n",
            "pc_iii/wp_16.xml\n",
            "pc_iii/13.xml\n",
            "pc_iii/4.xml\n",
            "pc_iii/3.xml\n",
            "pc_iii/7.xml\n",
            "pc_iii/17.xml\n",
            "pc_iii/10.xml\n",
            "pc_iii/wp_34.xml\n",
            "pc_iii/21.xml\n",
            "pc_iii/8.xml\n",
            "pc_iii/wp_2.xml\n",
            "pc_iii/9.xml\n",
            "pc_iii/wp_23.xml\n",
            "pc_iii/wp_36.xml\n",
            "pc_iii/wp_24.xml\n",
            "pc_iii/20.xml\n",
            "pc_iii/wp_27.xml\n",
            "pc_iii/wp_9.xml\n",
            "pc_iii/18.xml\n",
            "pc_iii/15.xml\n",
            "pc_iii/wp_29.xml\n",
            "pc_iii/wp_30.xml\n",
            "pc_iii/2.xml\n",
            "pc_iii/sr_5.xml\n",
            "pc_iii/6.xml\n",
            "pc_iii/sr_3.xml\n",
            "pc_iii/wp_12.xml\n"
          ]
        },
        {
          "output_type": "execute_result",
          "data": {
            "text/html": [
              "<div>\n",
              "<style scoped>\n",
              "    .dataframe tbody tr th:only-of-type {\n",
              "        vertical-align: middle;\n",
              "    }\n",
              "\n",
              "    .dataframe tbody tr th {\n",
              "        vertical-align: top;\n",
              "    }\n",
              "\n",
              "    .dataframe thead th {\n",
              "        text-align: right;\n",
              "    }\n",
              "</style>\n",
              "<table border=\"1\" class=\"dataframe\">\n",
              "  <thead>\n",
              "    <tr style=\"text-align: right;\">\n",
              "      <th></th>\n",
              "      <th>filename</th>\n",
              "      <th>text</th>\n",
              "    </tr>\n",
              "  </thead>\n",
              "  <tbody>\n",
              "    <tr>\n",
              "      <th>0</th>\n",
              "      <td>5.xml</td>\n",
              "      <td>Australia's commitment to the Treaty and the o...</td>\n",
              "    </tr>\n",
              "    <tr>\n",
              "      <th>1</th>\n",
              "      <td>wp_5.xml</td>\n",
              "      <td>5. In this connection, the Group of Non-Aligne...</td>\n",
              "    </tr>\n",
              "    <tr>\n",
              "      <th>2</th>\n",
              "      <td>wp_31.xml</td>\n",
              "      <td>1. Nuclear disarmament forms one of the fundam...</td>\n",
              "    </tr>\n",
              "    <tr>\n",
              "      <th>3</th>\n",
              "      <td>wp_32.xml</td>\n",
              "      <td>1. The first atomic bombs, dropped on Hiroshim...</td>\n",
              "    </tr>\n",
              "    <tr>\n",
              "      <th>4</th>\n",
              "      <td>wp_10.xml</td>\n",
              "      <td>2. As a part of its efforts to promote the imp...</td>\n",
              "    </tr>\n",
              "  </tbody>\n",
              "</table>\n",
              "</div>"
            ],
            "text/plain": [
              "    filename                                               text\n",
              "0      5.xml  Australia's commitment to the Treaty and the o...\n",
              "1   wp_5.xml  5. In this connection, the Group of Non-Aligne...\n",
              "2  wp_31.xml  1. Nuclear disarmament forms one of the fundam...\n",
              "3  wp_32.xml  1. The first atomic bombs, dropped on Hiroshim...\n",
              "4  wp_10.xml  2. As a part of its efforts to promote the imp..."
            ]
          },
          "metadata": {},
          "execution_count": 9
        }
      ]
    },
    {
      "cell_type": "markdown",
      "metadata": {
        "id": "7qZ5onIsXThu"
      },
      "source": [
        "Now we can start our data processing. First, we import some packages from nltk. We also define some utility functions. "
      ]
    },
    {
      "cell_type": "code",
      "metadata": {
        "colab": {
          "base_uri": "https://localhost:8080/"
        },
        "id": "GktjFXp3vEyy",
        "outputId": "ec776bb1-5703-4e89-c452-6d4889c3d4fc"
      },
      "source": [
        "#Import libraries necessary for processing text\n",
        "import string\n",
        "import contractions\n",
        "import nltk\n",
        "nltk.download('stopwords')\n",
        "from nltk.corpus import stopwords\n",
        "from nltk.stem import PorterStemmer\n",
        "from nltk.stem import WordNetLemmatizer\n",
        "from nltk.tokenize import TweetTokenizer\n",
        "from nltk.corpus import stopwords\n",
        "from nltk.corpus import wordnet\n",
        "nltk.download('wordnet')\n",
        "nltk.download('averaged_perceptron_tagger')\n",
        "\n",
        "#Utility functions to get part of speech and key words\n",
        "def get_wordnet_pos(word):\n",
        "    \"\"\"Map POS tag to first character lemmatize() accepts\"\"\"\n",
        "    tag = nltk.pos_tag([word])[0][1][0].upper()\n",
        "    tag_dict = {\"J\": wordnet.ADJ,\n",
        "                \"N\": wordnet.NOUN,\n",
        "                \"V\": wordnet.VERB,\n",
        "                \"R\": wordnet.ADV}\n",
        "\n",
        "    return tag_dict.get(tag, wordnet.NOUN)\n",
        "\n",
        "def get_key_words(comment):\n",
        "    words = TweetTokenizer().tokenize(comment)\n",
        "    words = [w for w in words if len(w) > 3] #word length\n",
        "    words = [w for w in words if w.lower() not in stopwords]\n",
        "    words = [WordNetLemmatizer().lemmatize(w, get_wordnet_pos(w)) for w in words]\n",
        "    return words"
      ],
      "execution_count": 10,
      "outputs": [
        {
          "output_type": "stream",
          "name": "stdout",
          "text": [
            "[nltk_data] Downloading package stopwords to /root/nltk_data...\n",
            "[nltk_data]   Package stopwords is already up-to-date!\n",
            "[nltk_data] Downloading package wordnet to /root/nltk_data...\n",
            "[nltk_data]   Package wordnet is already up-to-date!\n",
            "[nltk_data] Downloading package averaged_perceptron_tagger to\n",
            "[nltk_data]     /root/nltk_data...\n",
            "[nltk_data]   Package averaged_perceptron_tagger is already up-to-\n",
            "[nltk_data]       date!\n"
          ]
        }
      ]
    },
    {
      "cell_type": "markdown",
      "metadata": {
        "id": "upGkXZSCXyy3"
      },
      "source": [
        "The next few lines of code manipulate and clean the text. We convert all text to lowercase and expand contractions. We also remove punctuation and stopwords. "
      ]
    },
    {
      "cell_type": "code",
      "metadata": {
        "id": "lW02AYAgXsbN",
        "colab": {
          "base_uri": "https://localhost:8080/",
          "height": 202
        },
        "outputId": "3304c6c2-1a1c-453b-880a-c0ded3f2c89b"
      },
      "source": [
        "#Manipulate text to get clean output\n",
        "paragraphDF['text'] = paragraphDF['text'].apply(lambda x: \" \".join(x.lower() for x in x.split()))\n",
        "#Expand contractions\n",
        "paragraphDF['text'] = paragraphDF['text'].apply(lambda x: \" \".join(contractions.fix(word) for word in x.split()))\n",
        "\n",
        "#Remove all punctuation\n",
        "paragraphDF['text'] = paragraphDF['text'].str.translate(str.maketrans('', '', string.punctuation))\n",
        "\n",
        "#Remove stopwords\n",
        "stopwords  = [w.lower() for w in list(stopwords.words('english'))]\n",
        "paragraphDF['keywords'] = paragraphDF['text'].apply(get_key_words)\n",
        "\n",
        "#Stemming\n",
        "#st = PorterStemmer()\n",
        "#paragraphDF['keywords'] = paragraphDF['keywords'].apply(lambda x: [st.stem(word) for word in x])\n",
        "paragraphDF.head()"
      ],
      "execution_count": 11,
      "outputs": [
        {
          "output_type": "execute_result",
          "data": {
            "text/html": [
              "<div>\n",
              "<style scoped>\n",
              "    .dataframe tbody tr th:only-of-type {\n",
              "        vertical-align: middle;\n",
              "    }\n",
              "\n",
              "    .dataframe tbody tr th {\n",
              "        vertical-align: top;\n",
              "    }\n",
              "\n",
              "    .dataframe thead th {\n",
              "        text-align: right;\n",
              "    }\n",
              "</style>\n",
              "<table border=\"1\" class=\"dataframe\">\n",
              "  <thead>\n",
              "    <tr style=\"text-align: right;\">\n",
              "      <th></th>\n",
              "      <th>filename</th>\n",
              "      <th>text</th>\n",
              "      <th>keywords</th>\n",
              "    </tr>\n",
              "  </thead>\n",
              "  <tbody>\n",
              "    <tr>\n",
              "      <th>0</th>\n",
              "      <td>5.xml</td>\n",
              "      <td>australias commitment to the treaty and the ob...</td>\n",
              "      <td>[australia, commitment, treaty, objective, ach...</td>\n",
              "    </tr>\n",
              "    <tr>\n",
              "      <th>1</th>\n",
              "      <td>wp_5.xml</td>\n",
              "      <td>5 in this connection the group of nonaligned s...</td>\n",
              "      <td>[connection, group, nonaligned, state, party, ...</td>\n",
              "    </tr>\n",
              "    <tr>\n",
              "      <th>2</th>\n",
              "      <td>wp_31.xml</td>\n",
              "      <td>1 nuclear disarmament forms one of the fundame...</td>\n",
              "      <td>[nuclear, disarmament, form, fundamental, pill...</td>\n",
              "    </tr>\n",
              "    <tr>\n",
              "      <th>3</th>\n",
              "      <td>wp_32.xml</td>\n",
              "      <td>1 the first atomic bombs dropped on hiroshima ...</td>\n",
              "      <td>[first, atomic, bomb, drop, hiroshima, nagasak...</td>\n",
              "    </tr>\n",
              "    <tr>\n",
              "      <th>4</th>\n",
              "      <td>wp_10.xml</td>\n",
              "      <td>2 as a part of its efforts to promote the impl...</td>\n",
              "      <td>[part, effort, promote, implementation, 2010, ...</td>\n",
              "    </tr>\n",
              "  </tbody>\n",
              "</table>\n",
              "</div>"
            ],
            "text/plain": [
              "    filename  ...                                           keywords\n",
              "0      5.xml  ...  [australia, commitment, treaty, objective, ach...\n",
              "1   wp_5.xml  ...  [connection, group, nonaligned, state, party, ...\n",
              "2  wp_31.xml  ...  [nuclear, disarmament, form, fundamental, pill...\n",
              "3  wp_32.xml  ...  [first, atomic, bomb, drop, hiroshima, nagasak...\n",
              "4  wp_10.xml  ...  [part, effort, promote, implementation, 2010, ...\n",
              "\n",
              "[5 rows x 3 columns]"
            ]
          },
          "metadata": {},
          "execution_count": 11
        }
      ]
    },
    {
      "cell_type": "markdown",
      "metadata": {
        "id": "XoVPP4k7X-IL"
      },
      "source": [
        "Finally, we identify the unigrams, bigrams, and trigrams in the text. For each text, we identify the n-grams, and then count the number of times it occurs in that text. After analyzing all the data, we graph the results. "
      ]
    },
    {
      "cell_type": "code",
      "metadata": {
        "colab": {
          "base_uri": "https://localhost:8080/",
          "height": 1000
        },
        "id": "9dKyoStxeE-T",
        "outputId": "9f524018-249e-442e-e5e8-945ca358b201"
      },
      "source": [
        "#Libraries needed for analysis\n",
        "import collections\n",
        "from collections import Counter\n",
        "from decimal import Decimal\n",
        "import matplotlib.pyplot as plt\n",
        "\n",
        "#We will be gathering unigrams, bigrams, and trigrams\n",
        "N = 3 #N-grams\n",
        "#Looking at the top 10 results for each n-gram\n",
        "T = 10 #Max top words\n",
        "\n",
        "#Utility function to form n-grams\n",
        "def n_grams(kw, n):\n",
        "    output = []\n",
        "    for i in range(len(kw)-n+1):\n",
        "        output.append(kw[i:i+n])\n",
        "    return output\n",
        "\n",
        "#Loop through each length of n-gram, form keywords, and count the occurrences of each\n",
        "for n in range(1, N+1):\n",
        "    key_words = paragraphDF[\"keywords\"].tolist()\n",
        "    key_words = [[' '.join(x) for x in n_grams(kw, n)] for kw in key_words]\n",
        "    row_key_words = key_words\n",
        "    key_words = [[each_word] for each_list in key_words for each_word in each_list]\n",
        "    count = dict(Counter(map(tuple, key_words)))\n",
        "    count = sorted(count.items(), key=lambda x: x[1], reverse=True)\n",
        "    count = [(c[0][0],c[1]) for c in count]\n",
        "    data = count[:T]\n",
        "    x, y = zip(*data)\n",
        "\n",
        "    #Format data into plotting\n",
        "    most_important_words = list(x)\n",
        "    allMatches = []\n",
        "    for row in row_key_words:\n",
        "      matches = []\n",
        "      for word in most_important_words:\n",
        "        if word in row:\n",
        "          matches.append(word)\n",
        "      allMatches.append(matches)\n",
        "    columnName = str(n) + '-grams'\n",
        "    paragraphDF[columnName] = allMatches\n",
        "\n",
        "    plt.bar(x,y)\n",
        "    plt.xticks(rotation = 90)\n",
        "    plt.show()\n",
        "    sumc = sum([c[1] for c in count])\n",
        "    def get_sci_val(x):\n",
        "        x = round(x/sumc, 6)\n",
        "        x = \"{:.2E}\".format(Decimal(x))\n",
        "        return x\n",
        "    count = [(c[0],c[1],get_sci_val(c[1])) for c in count]\n",
        "    print(\"{}-grams(word,count,perentage):\\n{}\\n\".format(n,count[:T]))"
      ],
      "execution_count": 12,
      "outputs": [
        {
          "output_type": "display_data",
          "data": {
            "image/png": "[encoded data removed]",
            "text/plain": [
              "<Figure size 432x288 with 1 Axes>"
            ]
          },
          "metadata": {
            "needs_background": "light"
          }
        },
        {
          "output_type": "stream",
          "name": "stdout",
          "text": [
            "1-grams(word,count,perentage):\n",
            "[('nuclear', 5464, '4.39E-2'), ('state', 2976, '2.39E-2'), ('treaty', 2489, '2.00E-2'), ('weapon', 2019, '1.62E-2'), ('conference', 1378, '1.11E-2'), ('disarmament', 1152, '9.26E-3'), ('nonproliferation', 1098, '8.82E-3'), ('security', 1086, '8.73E-3'), ('international', 1057, '8.49E-3'), ('party', 1050, '8.44E-3')]\n",
            "\n"
          ]
        },
        {
          "output_type": "display_data",
          "data": {
            "image/png": "[encoded data removed]",
            "text/plain": [
              "<Figure size 432x288 with 1 Axes>"
            ]
          },
          "metadata": {
            "needs_background": "light"
          }
        },
        {
          "output_type": "stream",
          "name": "stdout",
          "text": [
            "2-grams(word,count,perentage):\n",
            "[('nuclear weapon', 1652, '1.33E-2'), ('state party', 774, '6.22E-3'), ('review conference', 618, '4.97E-3'), ('nuclear disarmament', 587, '4.72E-3'), ('nuclearweapon state', 535, '4.30E-3'), ('party treaty', 480, '3.86E-3'), ('united state', 379, '3.05E-3'), ('nuclear energy', 366, '2.94E-3'), ('nuclear security', 327, '2.63E-3'), ('middle east', 318, '2.56E-3')]\n",
            "\n"
          ]
        },
        {
          "output_type": "display_data",
          "data": {
            "image/png": "[encoded data removed]",
            "text/plain": [
              "<Figure size 432x288 with 1 Axes>"
            ]
          },
          "metadata": {
            "needs_background": "light"
          }
        },
        {
          "output_type": "stream",
          "name": "stdout",
          "text": [
            "3-grams(word,count,perentage):\n",
            "[('state party treaty', 336, '2.70E-3'), ('nonproliferation nuclear weapon', 252, '2.03E-3'), ('2010 review conference', 234, '1.88E-3'), ('treaty nonproliferation nuclear', 229, '1.84E-3'), ('comprehensive nucleartestban treaty', 186, '1.50E-3'), ('2015 review conference', 175, '1.41E-3'), ('peaceful us nuclear', 160, '1.29E-3'), ('weapon mass destruction', 156, '1.26E-3'), ('islamic republic iran', 151, '1.21E-3'), ('us nuclear energy', 145, '1.17E-3')]\n",
            "\n"
          ]
        }
      ]
    },
    {
      "cell_type": "code",
      "metadata": {
        "id": "eGln5G9xgha9",
        "colab": {
          "base_uri": "https://localhost:8080/",
          "height": 414
        },
        "outputId": "b3b3b53d-d03a-4247-878c-14206d354141"
      },
      "source": [
        "paragraphDF"
      ],
      "execution_count": 13,
      "outputs": [
        {
          "output_type": "execute_result",
          "data": {
            "text/html": [
              "<div>\n",
              "<style scoped>\n",
              "    .dataframe tbody tr th:only-of-type {\n",
              "        vertical-align: middle;\n",
              "    }\n",
              "\n",
              "    .dataframe tbody tr th {\n",
              "        vertical-align: top;\n",
              "    }\n",
              "\n",
              "    .dataframe thead th {\n",
              "        text-align: right;\n",
              "    }\n",
              "</style>\n",
              "<table border=\"1\" class=\"dataframe\">\n",
              "  <thead>\n",
              "    <tr style=\"text-align: right;\">\n",
              "      <th></th>\n",
              "      <th>filename</th>\n",
              "      <th>text</th>\n",
              "      <th>keywords</th>\n",
              "      <th>1-grams</th>\n",
              "      <th>2-grams</th>\n",
              "      <th>3-grams</th>\n",
              "    </tr>\n",
              "  </thead>\n",
              "  <tbody>\n",
              "    <tr>\n",
              "      <th>0</th>\n",
              "      <td>5.xml</td>\n",
              "      <td>australias commitment to the treaty and the ob...</td>\n",
              "      <td>[australia, commitment, treaty, objective, ach...</td>\n",
              "      <td>[nuclear, state, treaty, weapon, conference, d...</td>\n",
              "      <td>[nuclear weapon, state party, review conferenc...</td>\n",
              "      <td>[state party treaty, nonproliferation nuclear ...</td>\n",
              "    </tr>\n",
              "    <tr>\n",
              "      <th>1</th>\n",
              "      <td>wp_5.xml</td>\n",
              "      <td>5 in this connection the group of nonaligned s...</td>\n",
              "      <td>[connection, group, nonaligned, state, party, ...</td>\n",
              "      <td>[nuclear, state, treaty, weapon, conference, d...</td>\n",
              "      <td>[nuclear weapon, state party, review conferenc...</td>\n",
              "      <td>[state party treaty, nonproliferation nuclear ...</td>\n",
              "    </tr>\n",
              "    <tr>\n",
              "      <th>2</th>\n",
              "      <td>wp_31.xml</td>\n",
              "      <td>1 nuclear disarmament forms one of the fundame...</td>\n",
              "      <td>[nuclear, disarmament, form, fundamental, pill...</td>\n",
              "      <td>[nuclear, state, treaty, weapon, conference, d...</td>\n",
              "      <td>[nuclear weapon, state party, review conferenc...</td>\n",
              "      <td>[state party treaty, nonproliferation nuclear ...</td>\n",
              "    </tr>\n",
              "    <tr>\n",
              "      <th>3</th>\n",
              "      <td>wp_32.xml</td>\n",
              "      <td>1 the first atomic bombs dropped on hiroshima ...</td>\n",
              "      <td>[first, atomic, bomb, drop, hiroshima, nagasak...</td>\n",
              "      <td>[nuclear, state, treaty, weapon, conference, d...</td>\n",
              "      <td>[nuclear weapon, state party, review conferenc...</td>\n",
              "      <td>[state party treaty, nonproliferation nuclear ...</td>\n",
              "    </tr>\n",
              "    <tr>\n",
              "      <th>4</th>\n",
              "      <td>wp_10.xml</td>\n",
              "      <td>2 as a part of its efforts to promote the impl...</td>\n",
              "      <td>[part, effort, promote, implementation, 2010, ...</td>\n",
              "      <td>[nuclear, state, treaty, weapon, conference, d...</td>\n",
              "      <td>[nuclear weapon, state party, review conferenc...</td>\n",
              "      <td>[nonproliferation nuclear weapon, 2010 review ...</td>\n",
              "    </tr>\n",
              "    <tr>\n",
              "      <th>...</th>\n",
              "      <td>...</td>\n",
              "      <td>...</td>\n",
              "      <td>...</td>\n",
              "      <td>...</td>\n",
              "      <td>...</td>\n",
              "      <td>...</td>\n",
              "    </tr>\n",
              "    <tr>\n",
              "      <th>66</th>\n",
              "      <td>2.xml</td>\n",
              "      <td>1 germany considers the treaty on the nonproli...</td>\n",
              "      <td>[germany, considers, treaty, nonproliferation,...</td>\n",
              "      <td>[nuclear, state, treaty, weapon, conference, d...</td>\n",
              "      <td>[nuclear weapon, review conference, nuclear di...</td>\n",
              "      <td>[nonproliferation nuclear weapon, 2010 review ...</td>\n",
              "    </tr>\n",
              "    <tr>\n",
              "      <th>67</th>\n",
              "      <td>sr_5.xml</td>\n",
              "      <td>1 mr tiendrebeogo burkina faso said that while...</td>\n",
              "      <td>[tiendrebeogo, burkina, faso, say, treaty, non...</td>\n",
              "      <td>[nuclear, state, treaty, weapon, conference, d...</td>\n",
              "      <td>[nuclear weapon, state party, review conferenc...</td>\n",
              "      <td>[state party treaty, nonproliferation nuclear ...</td>\n",
              "    </tr>\n",
              "    <tr>\n",
              "      <th>68</th>\n",
              "      <td>6.xml</td>\n",
              "      <td>1 the treaty on the nonproliferation of nuclea...</td>\n",
              "      <td>[treaty, nonproliferation, nuclear, weapon, co...</td>\n",
              "      <td>[nuclear, state, treaty, weapon, conference, d...</td>\n",
              "      <td>[nuclear weapon, state party, review conferenc...</td>\n",
              "      <td>[state party treaty, nonproliferation nuclear ...</td>\n",
              "    </tr>\n",
              "    <tr>\n",
              "      <th>69</th>\n",
              "      <td>sr_3.xml</td>\n",
              "      <td>1 ms gottemoeller united states of america sai...</td>\n",
              "      <td>[gottemoeller, united, state, america, say, tr...</td>\n",
              "      <td>[nuclear, state, treaty, weapon, conference, d...</td>\n",
              "      <td>[nuclear weapon, state party, review conferenc...</td>\n",
              "      <td>[state party treaty, nonproliferation nuclear ...</td>\n",
              "    </tr>\n",
              "    <tr>\n",
              "      <th>70</th>\n",
              "      <td>wp_12.xml</td>\n",
              "      <td>1 at the eighteenth session of the council of ...</td>\n",
              "      <td>[eighteenth, session, council, league, arab, s...</td>\n",
              "      <td>[nuclear, state, treaty, weapon, conference, d...</td>\n",
              "      <td>[nuclear weapon, state party, review conferenc...</td>\n",
              "      <td>[state party treaty, nonproliferation nuclear ...</td>\n",
              "    </tr>\n",
              "  </tbody>\n",
              "</table>\n",
              "<p>71 rows × 6 columns</p>\n",
              "</div>"
            ],
            "text/plain": [
              "     filename  ...                                            3-grams\n",
              "0       5.xml  ...  [state party treaty, nonproliferation nuclear ...\n",
              "1    wp_5.xml  ...  [state party treaty, nonproliferation nuclear ...\n",
              "2   wp_31.xml  ...  [state party treaty, nonproliferation nuclear ...\n",
              "3   wp_32.xml  ...  [state party treaty, nonproliferation nuclear ...\n",
              "4   wp_10.xml  ...  [nonproliferation nuclear weapon, 2010 review ...\n",
              "..        ...  ...                                                ...\n",
              "66      2.xml  ...  [nonproliferation nuclear weapon, 2010 review ...\n",
              "67   sr_5.xml  ...  [state party treaty, nonproliferation nuclear ...\n",
              "68      6.xml  ...  [state party treaty, nonproliferation nuclear ...\n",
              "69   sr_3.xml  ...  [state party treaty, nonproliferation nuclear ...\n",
              "70  wp_12.xml  ...  [state party treaty, nonproliferation nuclear ...\n",
              "\n",
              "[71 rows x 6 columns]"
            ]
          },
          "metadata": {},
          "execution_count": 13
        }
      ]
    },
    {
      "cell_type": "markdown",
      "metadata": {
        "id": "vyp2XuxoQWzJ"
      },
      "source": [
        "### LDA (Latent Dirichlet Allocation) Topic Modeling\n",
        "An LDA Topic Model combines dimensionality reduction and unsupervised learning to discover structures of text. In this case, we are looking for topics relevant to the text. We will build clusters of texts that have a topic made up of a combination of keywords. \n",
        "\n",
        "First, we will load some libraries and write auxiliary functions to put the data in the right format. "
      ]
    },
    {
      "cell_type": "code",
      "metadata": {
        "colab": {
          "base_uri": "https://localhost:8080/"
        },
        "id": "ZfYW3912EaDI",
        "outputId": "6b46361c-e645-4ac7-ed36-91c7db71be59"
      },
      "source": [
        "import gensim\n",
        "from gensim.utils import simple_preprocess\n",
        "import nltk\n",
        "nltk.download('stopwords')\n",
        "from nltk.corpus import stopwords\n",
        "stop_words = stopwords.words('english')\n",
        "stop_words.extend(['from', 'subject', 're', 'edu', 'use'])\n",
        "\n",
        "#Auxiliary functions to remove stopwords and convert sentences into words\n",
        "def remove_stopwords(texts):\n",
        "    return [[word for word in simple_preprocess(str(doc)) \n",
        "             if word not in stop_words] for doc in texts]\n",
        "\n",
        "def sent_to_words(sentences):\n",
        "  for sentence in sentences:\n",
        "    yield(gensim.utils.simple_preprocess(str(sentence), deacc=True))\n",
        "\n",
        "#We take the text and convert it to words\n",
        "data = paragraphDF.text.values.tolist()\n",
        "data_words = list(sent_to_words(data))\n",
        "data_words = remove_stopwords(data_words)\n",
        "print(data_words[:1][0][:30])"
      ],
      "execution_count": 14,
      "outputs": [
        {
          "output_type": "stream",
          "name": "stdout",
          "text": [
            "[nltk_data] Downloading package stopwords to /root/nltk_data...\n",
            "[nltk_data]   Package stopwords is already up-to-date!\n",
            "['australias', 'commitment', 'treaty', 'objective', 'achieving', 'world', 'without', 'nuclear', 'weapons', 'remains', 'undiminished', 'hold', 'highest', 'standards', 'compliance', 'obligations', 'australia', 'continues', 'prominent', 'active', 'advocate', 'nuclear', 'disarmament', 'initiatives', 'promoted', 'include', 'comprehensive', 'ban', 'nuclear', 'tests']\n"
          ]
        }
      ]
    },
    {
      "cell_type": "markdown",
      "metadata": {
        "id": "iJS4-PflQpin"
      },
      "source": [
        "Next, we create a dictionary and corpus to represent our words"
      ]
    },
    {
      "cell_type": "code",
      "metadata": {
        "colab": {
          "base_uri": "https://localhost:8080/"
        },
        "id": "GuC4mRAQL_jC",
        "outputId": "4d023bfb-737c-44b4-8270-ac7d1768fd5b"
      },
      "source": [
        "import gensim.corpora as corpora\n",
        "id2word = corpora.Dictionary(data_words)\n",
        "texts = data_words\n",
        "corpus = [id2word.doc2bow(text) for text in texts]\n",
        "print(corpus[:1][0][:30])"
      ],
      "execution_count": 15,
      "outputs": [
        {
          "output_type": "stream",
          "name": "stdout",
          "text": [
            "[(0, 2), (1, 1), (2, 1), (3, 2), (4, 1), (5, 1), (6, 1), (7, 1), (8, 1), (9, 1), (10, 5), (11, 1), (12, 1), (13, 1), (14, 9), (15, 3), (16, 1), (17, 1), (18, 1), (19, 6), (20, 4), (21, 1), (22, 6), (23, 2), (24, 1), (25, 11), (26, 1), (27, 94), (28, 7), (29, 5)]\n"
          ]
        }
      ]
    },
    {
      "cell_type": "markdown",
      "metadata": {
        "id": "zdO4xXxYRBg1"
      },
      "source": [
        "We will train an LDA model by building a model with a specified number of topics where each topic is a combination of keywords, and each keyword contributes a certain amount to the overall topic. In this example, we will use 3 topics. "
      ]
    },
    {
      "cell_type": "code",
      "metadata": {
        "colab": {
          "base_uri": "https://localhost:8080/"
        },
        "id": "L3jyBYivM4iI",
        "outputId": "a1592ec1-da16-454c-caa6-22fbf4e41f72"
      },
      "source": [
        "from pprint import pprint\n",
        "num_topics = 3\n",
        "\n",
        "lda_model = gensim.models.LdaMulticore(corpus=corpus, id2word=id2word, num_topics=num_topics)\n",
        "pprint(lda_model.print_topics())\n",
        "doc_lda = lda_model[corpus]"
      ],
      "execution_count": 23,
      "outputs": [
        {
          "output_type": "stream",
          "name": "stderr",
          "text": [
            "/usr/local/lib/python3.7/dist-packages/gensim/models/ldamodel.py:1077: DeprecationWarning: Calling np.sum(generator) is deprecated, and in the future will give a different result. Use np.sum(np.fromiter(generator)) or the python sum builtin instead.\n",
            "  score += np.sum(cnt * logsumexp(Elogthetad + Elogbeta[:, int(id)]) for id, cnt in doc)\n",
            "/usr/local/lib/python3.7/dist-packages/gensim/models/ldamodel.py:1077: DeprecationWarning: Calling np.sum(generator) is deprecated, and in the future will give a different result. Use np.sum(np.fromiter(generator)) or the python sum builtin instead.\n",
            "  score += np.sum(cnt * logsumexp(Elogthetad + Elogbeta[:, int(id)]) for id, cnt in doc)\n",
            "/usr/local/lib/python3.7/dist-packages/gensim/models/ldamodel.py:1077: DeprecationWarning: Calling np.sum(generator) is deprecated, and in the future will give a different result. Use np.sum(np.fromiter(generator)) or the python sum builtin instead.\n",
            "  score += np.sum(cnt * logsumexp(Elogthetad + Elogbeta[:, int(id)]) for id, cnt in doc)\n",
            "/usr/local/lib/python3.7/dist-packages/gensim/models/ldamodel.py:1077: DeprecationWarning: Calling np.sum(generator) is deprecated, and in the future will give a different result. Use np.sum(np.fromiter(generator)) or the python sum builtin instead.\n",
            "  score += np.sum(cnt * logsumexp(Elogthetad + Elogbeta[:, int(id)]) for id, cnt in doc)\n",
            "/usr/local/lib/python3.7/dist-packages/gensim/models/ldamodel.py:1077: DeprecationWarning: Calling np.sum(generator) is deprecated, and in the future will give a different result. Use np.sum(np.fromiter(generator)) or the python sum builtin instead.\n",
            "  score += np.sum(cnt * logsumexp(Elogthetad + Elogbeta[:, int(id)]) for id, cnt in doc)\n",
            "/usr/local/lib/python3.7/dist-packages/gensim/models/ldamodel.py:1077: DeprecationWarning: Calling np.sum(generator) is deprecated, and in the future will give a different result. Use np.sum(np.fromiter(generator)) or the python sum builtin instead.\n",
            "  score += np.sum(cnt * logsumexp(Elogthetad + Elogbeta[:, int(id)]) for id, cnt in doc)\n",
            "/usr/local/lib/python3.7/dist-packages/gensim/models/ldamodel.py:1077: DeprecationWarning: Calling np.sum(generator) is deprecated, and in the future will give a different result. Use np.sum(np.fromiter(generator)) or the python sum builtin instead.\n",
            "  score += np.sum(cnt * logsumexp(Elogthetad + Elogbeta[:, int(id)]) for id, cnt in doc)\n",
            "/usr/local/lib/python3.7/dist-packages/gensim/models/ldamodel.py:1077: DeprecationWarning: Calling np.sum(generator) is deprecated, and in the future will give a different result. Use np.sum(np.fromiter(generator)) or the python sum builtin instead.\n",
            "  score += np.sum(cnt * logsumexp(Elogthetad + Elogbeta[:, int(id)]) for id, cnt in doc)\n",
            "/usr/local/lib/python3.7/dist-packages/gensim/models/ldamodel.py:1077: DeprecationWarning: Calling np.sum(generator) is deprecated, and in the future will give a different result. Use np.sum(np.fromiter(generator)) or the python sum builtin instead.\n",
            "  score += np.sum(cnt * logsumexp(Elogthetad + Elogbeta[:, int(id)]) for id, cnt in doc)\n",
            "/usr/local/lib/python3.7/dist-packages/gensim/models/ldamodel.py:1077: DeprecationWarning: Calling np.sum(generator) is deprecated, and in the future will give a different result. Use np.sum(np.fromiter(generator)) or the python sum builtin instead.\n",
            "  score += np.sum(cnt * logsumexp(Elogthetad + Elogbeta[:, int(id)]) for id, cnt in doc)\n",
            "/usr/local/lib/python3.7/dist-packages/gensim/models/ldamodel.py:1077: DeprecationWarning: Calling np.sum(generator) is deprecated, and in the future will give a different result. Use np.sum(np.fromiter(generator)) or the python sum builtin instead.\n",
            "  score += np.sum(cnt * logsumexp(Elogthetad + Elogbeta[:, int(id)]) for id, cnt in doc)\n",
            "/usr/local/lib/python3.7/dist-packages/gensim/models/ldamodel.py:1077: DeprecationWarning: Calling np.sum(generator) is deprecated, and in the future will give a different result. Use np.sum(np.fromiter(generator)) or the python sum builtin instead.\n",
            "  score += np.sum(cnt * logsumexp(Elogthetad + Elogbeta[:, int(id)]) for id, cnt in doc)\n",
            "/usr/local/lib/python3.7/dist-packages/gensim/models/ldamodel.py:1077: DeprecationWarning: Calling np.sum(generator) is deprecated, and in the future will give a different result. Use np.sum(np.fromiter(generator)) or the python sum builtin instead.\n",
            "  score += np.sum(cnt * logsumexp(Elogthetad + Elogbeta[:, int(id)]) for id, cnt in doc)\n",
            "/usr/local/lib/python3.7/dist-packages/gensim/models/ldamodel.py:1077: DeprecationWarning: Calling np.sum(generator) is deprecated, and in the future will give a different result. Use np.sum(np.fromiter(generator)) or the python sum builtin instead.\n",
            "  score += np.sum(cnt * logsumexp(Elogthetad + Elogbeta[:, int(id)]) for id, cnt in doc)\n",
            "/usr/local/lib/python3.7/dist-packages/gensim/models/ldamodel.py:1077: DeprecationWarning: Calling np.sum(generator) is deprecated, and in the future will give a different result. Use np.sum(np.fromiter(generator)) or the python sum builtin instead.\n",
            "  score += np.sum(cnt * logsumexp(Elogthetad + Elogbeta[:, int(id)]) for id, cnt in doc)\n",
            "/usr/local/lib/python3.7/dist-packages/gensim/models/ldamodel.py:1077: DeprecationWarning: Calling np.sum(generator) is deprecated, and in the future will give a different result. Use np.sum(np.fromiter(generator)) or the python sum builtin instead.\n",
            "  score += np.sum(cnt * logsumexp(Elogthetad + Elogbeta[:, int(id)]) for id, cnt in doc)\n",
            "/usr/local/lib/python3.7/dist-packages/gensim/models/ldamodel.py:1077: DeprecationWarning: Calling np.sum(generator) is deprecated, and in the future will give a different result. Use np.sum(np.fromiter(generator)) or the python sum builtin instead.\n",
            "  score += np.sum(cnt * logsumexp(Elogthetad + Elogbeta[:, int(id)]) for id, cnt in doc)\n",
            "/usr/local/lib/python3.7/dist-packages/gensim/models/ldamodel.py:1077: DeprecationWarning: Calling np.sum(generator) is deprecated, and in the future will give a different result. Use np.sum(np.fromiter(generator)) or the python sum builtin instead.\n",
            "  score += np.sum(cnt * logsumexp(Elogthetad + Elogbeta[:, int(id)]) for id, cnt in doc)\n",
            "/usr/local/lib/python3.7/dist-packages/gensim/models/ldamodel.py:1077: DeprecationWarning: Calling np.sum(generator) is deprecated, and in the future will give a different result. Use np.sum(np.fromiter(generator)) or the python sum builtin instead.\n",
            "  score += np.sum(cnt * logsumexp(Elogthetad + Elogbeta[:, int(id)]) for id, cnt in doc)\n",
            "/usr/local/lib/python3.7/dist-packages/gensim/models/ldamodel.py:1077: DeprecationWarning: Calling np.sum(generator) is deprecated, and in the future will give a different result. Use np.sum(np.fromiter(generator)) or the python sum builtin instead.\n",
            "  score += np.sum(cnt * logsumexp(Elogthetad + Elogbeta[:, int(id)]) for id, cnt in doc)\n",
            "/usr/local/lib/python3.7/dist-packages/gensim/models/ldamodel.py:1077: DeprecationWarning: Calling np.sum(generator) is deprecated, and in the future will give a different result. Use np.sum(np.fromiter(generator)) or the python sum builtin instead.\n",
            "  score += np.sum(cnt * logsumexp(Elogthetad + Elogbeta[:, int(id)]) for id, cnt in doc)\n",
            "/usr/local/lib/python3.7/dist-packages/gensim/models/ldamodel.py:1077: DeprecationWarning: Calling np.sum(generator) is deprecated, and in the future will give a different result. Use np.sum(np.fromiter(generator)) or the python sum builtin instead.\n",
            "  score += np.sum(cnt * logsumexp(Elogthetad + Elogbeta[:, int(id)]) for id, cnt in doc)\n",
            "/usr/local/lib/python3.7/dist-packages/gensim/models/ldamodel.py:1077: DeprecationWarning: Calling np.sum(generator) is deprecated, and in the future will give a different result. Use np.sum(np.fromiter(generator)) or the python sum builtin instead.\n",
            "  score += np.sum(cnt * logsumexp(Elogthetad + Elogbeta[:, int(id)]) for id, cnt in doc)\n",
            "/usr/local/lib/python3.7/dist-packages/gensim/models/ldamodel.py:1077: DeprecationWarning: Calling np.sum(generator) is deprecated, and in the future will give a different result. Use np.sum(np.fromiter(generator)) or the python sum builtin instead.\n",
            "  score += np.sum(cnt * logsumexp(Elogthetad + Elogbeta[:, int(id)]) for id, cnt in doc)\n",
            "/usr/local/lib/python3.7/dist-packages/gensim/models/ldamodel.py:1077: DeprecationWarning: Calling np.sum(generator) is deprecated, and in the future will give a different result. Use np.sum(np.fromiter(generator)) or the python sum builtin instead.\n",
            "  score += np.sum(cnt * logsumexp(Elogthetad + Elogbeta[:, int(id)]) for id, cnt in doc)\n",
            "/usr/local/lib/python3.7/dist-packages/gensim/models/ldamodel.py:1077: DeprecationWarning: Calling np.sum(generator) is deprecated, and in the future will give a different result. Use np.sum(np.fromiter(generator)) or the python sum builtin instead.\n",
            "  score += np.sum(cnt * logsumexp(Elogthetad + Elogbeta[:, int(id)]) for id, cnt in doc)\n",
            "/usr/local/lib/python3.7/dist-packages/gensim/models/ldamodel.py:1077: DeprecationWarning: Calling np.sum(generator) is deprecated, and in the future will give a different result. Use np.sum(np.fromiter(generator)) or the python sum builtin instead.\n",
            "  score += np.sum(cnt * logsumexp(Elogthetad + Elogbeta[:, int(id)]) for id, cnt in doc)\n",
            "/usr/local/lib/python3.7/dist-packages/gensim/models/ldamodel.py:1077: DeprecationWarning: Calling np.sum(generator) is deprecated, and in the future will give a different result. Use np.sum(np.fromiter(generator)) or the python sum builtin instead.\n",
            "  score += np.sum(cnt * logsumexp(Elogthetad + Elogbeta[:, int(id)]) for id, cnt in doc)\n",
            "/usr/local/lib/python3.7/dist-packages/gensim/models/ldamodel.py:1077: DeprecationWarning: Calling np.sum(generator) is deprecated, and in the future will give a different result. Use np.sum(np.fromiter(generator)) or the python sum builtin instead.\n",
            "  score += np.sum(cnt * logsumexp(Elogthetad + Elogbeta[:, int(id)]) for id, cnt in doc)\n",
            "/usr/local/lib/python3.7/dist-packages/gensim/models/ldamodel.py:1077: DeprecationWarning: Calling np.sum(generator) is deprecated, and in the future will give a different result. Use np.sum(np.fromiter(generator)) or the python sum builtin instead.\n",
            "  score += np.sum(cnt * logsumexp(Elogthetad + Elogbeta[:, int(id)]) for id, cnt in doc)\n",
            "/usr/local/lib/python3.7/dist-packages/gensim/models/ldamodel.py:1077: DeprecationWarning: Calling np.sum(generator) is deprecated, and in the future will give a different result. Use np.sum(np.fromiter(generator)) or the python sum builtin instead.\n",
            "  score += np.sum(cnt * logsumexp(Elogthetad + Elogbeta[:, int(id)]) for id, cnt in doc)\n",
            "/usr/local/lib/python3.7/dist-packages/gensim/models/ldamodel.py:1077: DeprecationWarning: Calling np.sum(generator) is deprecated, and in the future will give a different result. Use np.sum(np.fromiter(generator)) or the python sum builtin instead.\n",
            "  score += np.sum(cnt * logsumexp(Elogthetad + Elogbeta[:, int(id)]) for id, cnt in doc)\n",
            "/usr/local/lib/python3.7/dist-packages/gensim/models/ldamodel.py:1077: DeprecationWarning: Calling np.sum(generator) is deprecated, and in the future will give a different result. Use np.sum(np.fromiter(generator)) or the python sum builtin instead.\n",
            "  score += np.sum(cnt * logsumexp(Elogthetad + Elogbeta[:, int(id)]) for id, cnt in doc)\n",
            "/usr/local/lib/python3.7/dist-packages/gensim/models/ldamodel.py:1077: DeprecationWarning: Calling np.sum(generator) is deprecated, and in the future will give a different result. Use np.sum(np.fromiter(generator)) or the python sum builtin instead.\n",
            "  score += np.sum(cnt * logsumexp(Elogthetad + Elogbeta[:, int(id)]) for id, cnt in doc)\n",
            "/usr/local/lib/python3.7/dist-packages/gensim/models/ldamodel.py:1077: DeprecationWarning: Calling np.sum(generator) is deprecated, and in the future will give a different result. Use np.sum(np.fromiter(generator)) or the python sum builtin instead.\n",
            "  score += np.sum(cnt * logsumexp(Elogthetad + Elogbeta[:, int(id)]) for id, cnt in doc)\n",
            "/usr/local/lib/python3.7/dist-packages/gensim/models/ldamodel.py:1077: DeprecationWarning: Calling np.sum(generator) is deprecated, and in the future will give a different result. Use np.sum(np.fromiter(generator)) or the python sum builtin instead.\n",
            "  score += np.sum(cnt * logsumexp(Elogthetad + Elogbeta[:, int(id)]) for id, cnt in doc)\n",
            "/usr/local/lib/python3.7/dist-packages/gensim/models/ldamodel.py:1077: DeprecationWarning: Calling np.sum(generator) is deprecated, and in the future will give a different result. Use np.sum(np.fromiter(generator)) or the python sum builtin instead.\n",
            "  score += np.sum(cnt * logsumexp(Elogthetad + Elogbeta[:, int(id)]) for id, cnt in doc)\n",
            "/usr/local/lib/python3.7/dist-packages/gensim/models/ldamodel.py:1077: DeprecationWarning: Calling np.sum(generator) is deprecated, and in the future will give a different result. Use np.sum(np.fromiter(generator)) or the python sum builtin instead.\n",
            "  score += np.sum(cnt * logsumexp(Elogthetad + Elogbeta[:, int(id)]) for id, cnt in doc)\n",
            "/usr/local/lib/python3.7/dist-packages/gensim/models/ldamodel.py:1077: DeprecationWarning: Calling np.sum(generator) is deprecated, and in the future will give a different result. Use np.sum(np.fromiter(generator)) or the python sum builtin instead.\n",
            "  score += np.sum(cnt * logsumexp(Elogthetad + Elogbeta[:, int(id)]) for id, cnt in doc)\n",
            "/usr/local/lib/python3.7/dist-packages/gensim/models/ldamodel.py:1077: DeprecationWarning: Calling np.sum(generator) is deprecated, and in the future will give a different result. Use np.sum(np.fromiter(generator)) or the python sum builtin instead.\n",
            "  score += np.sum(cnt * logsumexp(Elogthetad + Elogbeta[:, int(id)]) for id, cnt in doc)\n",
            "/usr/local/lib/python3.7/dist-packages/gensim/models/ldamodel.py:1077: DeprecationWarning: Calling np.sum(generator) is deprecated, and in the future will give a different result. Use np.sum(np.fromiter(generator)) or the python sum builtin instead.\n",
            "  score += np.sum(cnt * logsumexp(Elogthetad + Elogbeta[:, int(id)]) for id, cnt in doc)\n",
            "/usr/local/lib/python3.7/dist-packages/gensim/models/ldamodel.py:1077: DeprecationWarning: Calling np.sum(generator) is deprecated, and in the future will give a different result. Use np.sum(np.fromiter(generator)) or the python sum builtin instead.\n",
            "  score += np.sum(cnt * logsumexp(Elogthetad + Elogbeta[:, int(id)]) for id, cnt in doc)\n",
            "/usr/local/lib/python3.7/dist-packages/gensim/models/ldamodel.py:1077: DeprecationWarning: Calling np.sum(generator) is deprecated, and in the future will give a different result. Use np.sum(np.fromiter(generator)) or the python sum builtin instead.\n",
            "  score += np.sum(cnt * logsumexp(Elogthetad + Elogbeta[:, int(id)]) for id, cnt in doc)\n",
            "/usr/local/lib/python3.7/dist-packages/gensim/models/ldamodel.py:1077: DeprecationWarning: Calling np.sum(generator) is deprecated, and in the future will give a different result. Use np.sum(np.fromiter(generator)) or the python sum builtin instead.\n",
            "  score += np.sum(cnt * logsumexp(Elogthetad + Elogbeta[:, int(id)]) for id, cnt in doc)\n",
            "/usr/local/lib/python3.7/dist-packages/gensim/models/ldamodel.py:1077: DeprecationWarning: Calling np.sum(generator) is deprecated, and in the future will give a different result. Use np.sum(np.fromiter(generator)) or the python sum builtin instead.\n",
            "  score += np.sum(cnt * logsumexp(Elogthetad + Elogbeta[:, int(id)]) for id, cnt in doc)\n",
            "/usr/local/lib/python3.7/dist-packages/gensim/models/ldamodel.py:1077: DeprecationWarning: Calling np.sum(generator) is deprecated, and in the future will give a different result. Use np.sum(np.fromiter(generator)) or the python sum builtin instead.\n",
            "  score += np.sum(cnt * logsumexp(Elogthetad + Elogbeta[:, int(id)]) for id, cnt in doc)\n",
            "/usr/local/lib/python3.7/dist-packages/gensim/models/ldamodel.py:1077: DeprecationWarning: Calling np.sum(generator) is deprecated, and in the future will give a different result. Use np.sum(np.fromiter(generator)) or the python sum builtin instead.\n",
            "  score += np.sum(cnt * logsumexp(Elogthetad + Elogbeta[:, int(id)]) for id, cnt in doc)\n",
            "/usr/local/lib/python3.7/dist-packages/gensim/models/ldamodel.py:1077: DeprecationWarning: Calling np.sum(generator) is deprecated, and in the future will give a different result. Use np.sum(np.fromiter(generator)) or the python sum builtin instead.\n",
            "  score += np.sum(cnt * logsumexp(Elogthetad + Elogbeta[:, int(id)]) for id, cnt in doc)\n",
            "/usr/local/lib/python3.7/dist-packages/gensim/models/ldamodel.py:1077: DeprecationWarning: Calling np.sum(generator) is deprecated, and in the future will give a different result. Use np.sum(np.fromiter(generator)) or the python sum builtin instead.\n",
            "  score += np.sum(cnt * logsumexp(Elogthetad + Elogbeta[:, int(id)]) for id, cnt in doc)\n",
            "/usr/local/lib/python3.7/dist-packages/gensim/models/ldamodel.py:1077: DeprecationWarning: Calling np.sum(generator) is deprecated, and in the future will give a different result. Use np.sum(np.fromiter(generator)) or the python sum builtin instead.\n",
            "  score += np.sum(cnt * logsumexp(Elogthetad + Elogbeta[:, int(id)]) for id, cnt in doc)\n",
            "/usr/local/lib/python3.7/dist-packages/gensim/models/ldamodel.py:1077: DeprecationWarning: Calling np.sum(generator) is deprecated, and in the future will give a different result. Use np.sum(np.fromiter(generator)) or the python sum builtin instead.\n",
            "  score += np.sum(cnt * logsumexp(Elogthetad + Elogbeta[:, int(id)]) for id, cnt in doc)\n",
            "/usr/local/lib/python3.7/dist-packages/gensim/models/ldamodel.py:1077: DeprecationWarning: Calling np.sum(generator) is deprecated, and in the future will give a different result. Use np.sum(np.fromiter(generator)) or the python sum builtin instead.\n",
            "  score += np.sum(cnt * logsumexp(Elogthetad + Elogbeta[:, int(id)]) for id, cnt in doc)\n",
            "/usr/local/lib/python3.7/dist-packages/gensim/models/ldamodel.py:1077: DeprecationWarning: Calling np.sum(generator) is deprecated, and in the future will give a different result. Use np.sum(np.fromiter(generator)) or the python sum builtin instead.\n",
            "  score += np.sum(cnt * logsumexp(Elogthetad + Elogbeta[:, int(id)]) for id, cnt in doc)\n",
            "/usr/local/lib/python3.7/dist-packages/gensim/models/ldamodel.py:1077: DeprecationWarning: Calling np.sum(generator) is deprecated, and in the future will give a different result. Use np.sum(np.fromiter(generator)) or the python sum builtin instead.\n",
            "  score += np.sum(cnt * logsumexp(Elogthetad + Elogbeta[:, int(id)]) for id, cnt in doc)\n",
            "/usr/local/lib/python3.7/dist-packages/gensim/models/ldamodel.py:1077: DeprecationWarning: Calling np.sum(generator) is deprecated, and in the future will give a different result. Use np.sum(np.fromiter(generator)) or the python sum builtin instead.\n",
            "  score += np.sum(cnt * logsumexp(Elogthetad + Elogbeta[:, int(id)]) for id, cnt in doc)\n",
            "/usr/local/lib/python3.7/dist-packages/gensim/models/ldamodel.py:1077: DeprecationWarning: Calling np.sum(generator) is deprecated, and in the future will give a different result. Use np.sum(np.fromiter(generator)) or the python sum builtin instead.\n",
            "  score += np.sum(cnt * logsumexp(Elogthetad + Elogbeta[:, int(id)]) for id, cnt in doc)\n",
            "/usr/local/lib/python3.7/dist-packages/gensim/models/ldamodel.py:1077: DeprecationWarning: Calling np.sum(generator) is deprecated, and in the future will give a different result. Use np.sum(np.fromiter(generator)) or the python sum builtin instead.\n",
            "  score += np.sum(cnt * logsumexp(Elogthetad + Elogbeta[:, int(id)]) for id, cnt in doc)\n",
            "/usr/local/lib/python3.7/dist-packages/gensim/models/ldamodel.py:1077: DeprecationWarning: Calling np.sum(generator) is deprecated, and in the future will give a different result. Use np.sum(np.fromiter(generator)) or the python sum builtin instead.\n",
            "  score += np.sum(cnt * logsumexp(Elogthetad + Elogbeta[:, int(id)]) for id, cnt in doc)\n",
            "/usr/local/lib/python3.7/dist-packages/gensim/models/ldamodel.py:1077: DeprecationWarning: Calling np.sum(generator) is deprecated, and in the future will give a different result. Use np.sum(np.fromiter(generator)) or the python sum builtin instead.\n",
            "  score += np.sum(cnt * logsumexp(Elogthetad + Elogbeta[:, int(id)]) for id, cnt in doc)\n",
            "/usr/local/lib/python3.7/dist-packages/gensim/models/ldamodel.py:1077: DeprecationWarning: Calling np.sum(generator) is deprecated, and in the future will give a different result. Use np.sum(np.fromiter(generator)) or the python sum builtin instead.\n",
            "  score += np.sum(cnt * logsumexp(Elogthetad + Elogbeta[:, int(id)]) for id, cnt in doc)\n",
            "/usr/local/lib/python3.7/dist-packages/gensim/models/ldamodel.py:1077: DeprecationWarning: Calling np.sum(generator) is deprecated, and in the future will give a different result. Use np.sum(np.fromiter(generator)) or the python sum builtin instead.\n",
            "  score += np.sum(cnt * logsumexp(Elogthetad + Elogbeta[:, int(id)]) for id, cnt in doc)\n"
          ]
        },
        {
          "output_type": "stream",
          "name": "stdout",
          "text": [
            "[(0,\n",
            "  '0.036*\"nuclear\" + 0.016*\"weapons\" + 0.015*\"treaty\" + 0.015*\"states\" + '\n",
            "  '0.010*\"security\" + 0.009*\"disarmament\" + 0.009*\"international\" + '\n",
            "  '0.008*\"conference\" + 0.007*\"iaea\" + 0.006*\"parties\"'),\n",
            " (1,\n",
            "  '0.044*\"nuclear\" + 0.019*\"treaty\" + 0.014*\"states\" + 0.012*\"weapons\" + '\n",
            "  '0.009*\"security\" + 0.009*\"iaea\" + 0.008*\"review\" + 0.008*\"international\" + '\n",
            "  '0.007*\"parties\" + 0.007*\"conference\"'),\n",
            " (2,\n",
            "  '0.044*\"nuclear\" + 0.028*\"states\" + 0.019*\"treaty\" + 0.017*\"weapons\" + '\n",
            "  '0.012*\"conference\" + 0.010*\"disarmament\" + 0.008*\"international\" + '\n",
            "  '0.008*\"iaea\" + 0.008*\"security\" + 0.007*\"parties\"')]\n"
          ]
        },
        {
          "output_type": "stream",
          "name": "stderr",
          "text": [
            "/usr/local/lib/python3.7/dist-packages/gensim/models/ldamodel.py:1077: DeprecationWarning: Calling np.sum(generator) is deprecated, and in the future will give a different result. Use np.sum(np.fromiter(generator)) or the python sum builtin instead.\n",
            "  score += np.sum(cnt * logsumexp(Elogthetad + Elogbeta[:, int(id)]) for id, cnt in doc)\n",
            "/usr/local/lib/python3.7/dist-packages/gensim/models/ldamodel.py:1077: DeprecationWarning: Calling np.sum(generator) is deprecated, and in the future will give a different result. Use np.sum(np.fromiter(generator)) or the python sum builtin instead.\n",
            "  score += np.sum(cnt * logsumexp(Elogthetad + Elogbeta[:, int(id)]) for id, cnt in doc)\n",
            "/usr/local/lib/python3.7/dist-packages/gensim/models/ldamodel.py:1077: DeprecationWarning: Calling np.sum(generator) is deprecated, and in the future will give a different result. Use np.sum(np.fromiter(generator)) or the python sum builtin instead.\n",
            "  score += np.sum(cnt * logsumexp(Elogthetad + Elogbeta[:, int(id)]) for id, cnt in doc)\n",
            "/usr/local/lib/python3.7/dist-packages/gensim/models/ldamodel.py:1077: DeprecationWarning: Calling np.sum(generator) is deprecated, and in the future will give a different result. Use np.sum(np.fromiter(generator)) or the python sum builtin instead.\n",
            "  score += np.sum(cnt * logsumexp(Elogthetad + Elogbeta[:, int(id)]) for id, cnt in doc)\n",
            "/usr/local/lib/python3.7/dist-packages/gensim/models/ldamodel.py:1077: DeprecationWarning: Calling np.sum(generator) is deprecated, and in the future will give a different result. Use np.sum(np.fromiter(generator)) or the python sum builtin instead.\n",
            "  score += np.sum(cnt * logsumexp(Elogthetad + Elogbeta[:, int(id)]) for id, cnt in doc)\n",
            "/usr/local/lib/python3.7/dist-packages/gensim/models/ldamodel.py:1077: DeprecationWarning: Calling np.sum(generator) is deprecated, and in the future will give a different result. Use np.sum(np.fromiter(generator)) or the python sum builtin instead.\n",
            "  score += np.sum(cnt * logsumexp(Elogthetad + Elogbeta[:, int(id)]) for id, cnt in doc)\n",
            "/usr/local/lib/python3.7/dist-packages/gensim/models/ldamodel.py:1077: DeprecationWarning: Calling np.sum(generator) is deprecated, and in the future will give a different result. Use np.sum(np.fromiter(generator)) or the python sum builtin instead.\n",
            "  score += np.sum(cnt * logsumexp(Elogthetad + Elogbeta[:, int(id)]) for id, cnt in doc)\n",
            "/usr/local/lib/python3.7/dist-packages/gensim/models/ldamodel.py:1077: DeprecationWarning: Calling np.sum(generator) is deprecated, and in the future will give a different result. Use np.sum(np.fromiter(generator)) or the python sum builtin instead.\n",
            "  score += np.sum(cnt * logsumexp(Elogthetad + Elogbeta[:, int(id)]) for id, cnt in doc)\n",
            "/usr/local/lib/python3.7/dist-packages/gensim/models/ldamodel.py:1077: DeprecationWarning: Calling np.sum(generator) is deprecated, and in the future will give a different result. Use np.sum(np.fromiter(generator)) or the python sum builtin instead.\n",
            "  score += np.sum(cnt * logsumexp(Elogthetad + Elogbeta[:, int(id)]) for id, cnt in doc)\n",
            "/usr/local/lib/python3.7/dist-packages/gensim/models/ldamodel.py:1077: DeprecationWarning: Calling np.sum(generator) is deprecated, and in the future will give a different result. Use np.sum(np.fromiter(generator)) or the python sum builtin instead.\n",
            "  score += np.sum(cnt * logsumexp(Elogthetad + Elogbeta[:, int(id)]) for id, cnt in doc)\n"
          ]
        }
      ]
    },
    {
      "cell_type": "markdown",
      "metadata": {
        "id": "nydSiOToRRBm"
      },
      "source": [
        "Finally, we will visualize our results. Note that in this unsupervised machine learning problem, we didn't need to know what the topics would be. We only needed to specify the number of topics we wanted, and we can analyze what pieces of information each text has in common with others in its same topic. "
      ]
    },
    {
      "cell_type": "code",
      "metadata": {
        "colab": {
          "base_uri": "https://localhost:8080/",
          "height": 1000
        },
        "id": "l3TheuM8NF6f",
        "outputId": "3c200ec6-b18e-4590-ee84-3e1a44265616"
      },
      "source": [
        "!pip3 install pyLDAvis\n",
        "import pyLDAvis\n",
        "import pyLDAvis.gensim_models as gensimvis\n",
        "\n",
        "pyLDAvis.enable_notebook()\n",
        "LDAvis_prepared = gensimvis.prepare(lda_model, corpus, id2word)\n",
        "LDAvis_prepared"
      ],
      "execution_count": 24,
      "outputs": [
        {
          "output_type": "stream",
          "name": "stdout",
          "text": [
            "Requirement already satisfied: pyLDAvis in /usr/local/lib/python3.7/dist-packages (3.3.1)\n",
            "Requirement already satisfied: joblib in /usr/local/lib/python3.7/dist-packages (from pyLDAvis) (1.1.0)\n",
            "Requirement already satisfied: pandas>=1.2.0 in /usr/local/lib/python3.7/dist-packages (from pyLDAvis) (1.3.4)\n",
            "Requirement already satisfied: gensim in /usr/local/lib/python3.7/dist-packages (from pyLDAvis) (3.6.0)\n",
            "Requirement already satisfied: jinja2 in /usr/local/lib/python3.7/dist-packages (from pyLDAvis) (2.11.3)\n",
            "Requirement already satisfied: numexpr in /usr/local/lib/python3.7/dist-packages (from pyLDAvis) (2.7.3)\n",
            "Requirement already satisfied: scikit-learn in /usr/local/lib/python3.7/dist-packages (from pyLDAvis) (0.22.2.post1)\n",
            "Requirement already satisfied: funcy in /usr/local/lib/python3.7/dist-packages (from pyLDAvis) (1.16)\n",
            "Requirement already satisfied: future in /usr/local/lib/python3.7/dist-packages (from pyLDAvis) (0.16.0)\n",
            "Requirement already satisfied: setuptools in /usr/local/lib/python3.7/dist-packages (from pyLDAvis) (57.4.0)\n",
            "Requirement already satisfied: numpy>=1.20.0 in /usr/local/lib/python3.7/dist-packages (from pyLDAvis) (1.21.4)\n",
            "Requirement already satisfied: sklearn in /usr/local/lib/python3.7/dist-packages (from pyLDAvis) (0.0)\n",
            "Requirement already satisfied: scipy in /usr/local/lib/python3.7/dist-packages (from pyLDAvis) (1.4.1)\n",
            "Requirement already satisfied: pytz>=2017.3 in /usr/local/lib/python3.7/dist-packages (from pandas>=1.2.0->pyLDAvis) (2018.9)\n",
            "Requirement already satisfied: python-dateutil>=2.7.3 in /usr/local/lib/python3.7/dist-packages (from pandas>=1.2.0->pyLDAvis) (2.8.2)\n",
            "Requirement already satisfied: six>=1.5 in /usr/local/lib/python3.7/dist-packages (from python-dateutil>=2.7.3->pandas>=1.2.0->pyLDAvis) (1.15.0)\n",
            "Requirement already satisfied: smart-open>=1.2.1 in /usr/local/lib/python3.7/dist-packages (from gensim->pyLDAvis) (5.2.1)\n",
            "Requirement already satisfied: MarkupSafe>=0.23 in /usr/local/lib/python3.7/dist-packages (from jinja2->pyLDAvis) (2.0.1)\n"
          ]
        },
        {
          "output_type": "stream",
          "name": "stderr",
          "text": [
            "/usr/local/lib/python3.7/dist-packages/pyLDAvis/_prepare.py:247: FutureWarning: In a future version of pandas all arguments of DataFrame.drop except for the argument 'labels' will be keyword-only\n",
            "  by='saliency', ascending=False).head(R).drop('saliency', 1)\n"
          ]
        },
        {
          "output_type": "execute_result",
          "data": {
            "text/html": [
              "\n",
              "<link rel=\"stylesheet\" type=\"text/css\" href=\"https://cdn.jsdelivr.net/gh/bmabey/pyLDAvis@3.3.1/pyLDAvis/js/ldavis.v1.0.0.css\">\n",
              "\n",
              "\n",
              "<div id=\"ldavis_el2871406605120156967213990214\"></div>\n",
              "<script type=\"text/javascript\">\n",
              "\n",
              "var ldavis_el2871406605120156967213990214_data = {\"mdsDat\": {\"x\": [-0.0062374032690395344, 0.0014454438854172886, 0.00479195938362225], \"y\": [0.0016870450179657355, -0.005560121064579259, 0.0038730760466135217], \"topics\": [1, 2, 3], \"cluster\": [1, 1, 1], \"Freq\": [59.05732136197115, 26.7043875778759, 14.238291060152955]}, \"tinfo\": {\"Term\": [\"nuclear\", \"weapons\", \"treaty\", \"security\", \"international\", \"disarmament\", \"iaea\", \"states\", \"action\", \"united\", \"parties\", \"review\", \"conference\", \"group\", \"energy\", \"also\", \"comprehensive\", \"support\", \"nuclearweapon\", \"national\", \"china\", \"new\", \"zone\", \"safety\", \"france\", \"regime\", \"material\", \"canada\", \"obligations\", \"peaceful\", \"concern\", \"short\", \"doha\", \"agenda\", \"exempted\", \"thousands\", \"acquisition\", \"positively\", \"commitments\", \"states\", \"majority\", \"nagasaki\", \"awaited\", \"underpin\", \"modalities\", \"nevada\", \"affirm\", \"progress\", \"province\", \"successive\", \"legally\", \"instrument\", \"organizers\", \"refrain\", \"article\", \"affirmed\", \"metric\", \"statesrussian\", \"underline\", \"conveners\", \"final\", \"conference\", \"threat\", \"arrangements\", \"universality\", \"recommendation\", \"catastrophic\", \"unilateral\", \"arab\", \"reaffirm\", \"would\", \"facilitator\", \"safeguards\", \"weapons\", \"disarmament\", \"nucleartestban\", \"fulfilment\", \"nuclear\", \"development\", \"upon\", \"treaty\", \"working\", \"world\", \"united\", \"implementation\", \"peaceful\", \"verification\", \"measures\", \"international\", \"parties\", \"material\", \"iaea\", \"east\", \"middle\", \"nuclearweapon\", \"review\", \"security\", \"action\", \"including\", \"new\", \"cooperation\", \"comprehensive\", \"energy\", \"also\", \"efforts\", \"group\", \"safety\", \"irrs\", \"anrf\", \"cfe\", \"asn\", \"fukushima\", \"subsistence\", \"etc\", \"edf\", \"arabic\", \"payments\", \"mobilization\", \"sound\", \"rigorously\", \"aid\", \"integrating\", \"description\", \"table\", \"feedback\", \"temporary\", \"ecas\", \"embark\", \"trimester\", \"balance\", \"companys\", \"embodying\", \"areva\", \"prioritised\", \"anticipated\", \"damages\", \"cea\", \"costs\", \"staff\", \"aegis\", \"germany\", \"french\", \"france\", \"canada\", \"regulatory\", \"democratic\", \"group\", \"safety\", \"assessments\", \"outstanding\", \"assistance\", \"member\", \"irsn\", \"operators\", \"april\", \"european\", \"review\", \"joint\", \"within\", \"nuclear\", \"withdrawal\", \"republic\", \"treaty\", \"cooperation\", \"support\", \"iaea\", \"committee\", \"security\", \"countries\", \"convention\", \"parties\", \"energy\", \"action\", \"comprehensive\", \"international\", \"efforts\", \"weapons\", \"nuclearweapon\", \"regard\", \"states\", \"including\", \"disarmament\", \"also\", \"conference\", \"implementation\", \"united\", \"safeguards\", \"new\", \"peaceful\", \"barrow\", \"goes\", \"business\", \"poised\", \"weston\", \"tripartite\", \"warning\", \"eskdalemuir\", \"embolden\", \"kingdoms\", \"multilingual\", \"canwfz\", \"excellent\", \"culminating\", \"recourse\", \"fellow\", \"fresh\", \"compulsory\", \"kong\", \"premises\", \"perceives\", \"kingdom\", \"departure\", \"normscompliant\", \"detargeted\", \"sellafield\", \"mainland\", \"exclusions\", \"energyrelated\", \"outward\", \"aware\", \"testban\", \"presidents\", \"reduced\", \"users\", \"threaten\", \"experts\", \"accounting\", \"enemy\", \"missiles\", \"china\", \"inspected\", \"enriched\", \"bilateral\", \"russia\", \"organisation\", \"relevant\", \"zone\", \"regime\", \"arms\", \"france\", \"national\", \"control\", \"power\", \"security\", \"requirements\", \"russian\", \"shared\", \"weapons\", \"towards\", \"international\", \"vi\", \"done\", \"community\", \"united\", \"nuclear\", \"also\", \"disarmament\", \"support\", \"action\", \"take\", \"treaty\", \"energy\", \"new\", \"iaea\", \"parties\", \"states\", \"conference\", \"comprehensive\", \"material\", \"nuclearweapon\", \"review\", \"east\", \"peaceful\", \"obligations\", \"safeguards\", \"middle\", \"group\", \"would\"], \"Freq\": [5250.0, 1865.0, 2275.0, 1001.0, 999.0, 1112.0, 964.0, 2762.0, 673.0, 681.0, 882.0, 804.0, 1233.0, 464.0, 470.0, 408.0, 444.0, 306.0, 544.0, 277.0, 231.0, 419.0, 260.0, 399.0, 188.0, 242.0, 404.0, 239.0, 315.0, 445.0, 79.910697828316, 10.784729770781325, 2.3075135905030737, 48.53207669857129, 2.2854966200870113, 6.795071201733039, 20.529338675894884, 3.7341731098800066, 126.38386482400844, 2034.7338987147607, 14.201250834807814, 8.81365023596637, 2.9193161877243656, 5.901210612515091, 3.689359088940254, 4.355536168609546, 11.716145419288859, 146.61383827114042, 3.626888639969847, 6.5886778176893515, 74.75965599503152, 57.808734522040496, 6.388799683787815, 31.815042216768596, 270.53903396198, 7.925163239111439, 11.420659507817929, 3.6116251603774563, 16.91600972568776, 16.658591723469065, 100.52337435960091, 859.4194326187471, 165.5682668927718, 80.82847683321235, 38.91530816482561, 68.15681761506411, 28.848446058926413, 34.2626321040845, 87.60310571947632, 40.66546216110539, 293.8879700785708, 34.13659645858724, 379.31671002259014, 1199.9927936487775, 724.4419944966498, 127.15973671570424, 29.549805542071446, 3185.568523370585, 223.88128736287516, 142.1132736147375, 1379.7455143541476, 160.3713985156511, 152.76012738898254, 429.52276694909364, 293.13986903870654, 285.5045630114246, 130.4905354092009, 206.6618243669956, 595.6132405491576, 528.561906079482, 256.1102337597772, 559.2892024858498, 199.77757103403917, 198.62590292962986, 326.46927655176364, 456.990087502439, 546.8164552618482, 388.15484054274486, 237.48222438837112, 249.41911982817095, 242.2800122157279, 250.14276430249873, 258.34100986863876, 231.39215163806895, 219.05845263908967, 232.6232108141886, 207.27128198016362, 4.681958566988861, 2.3056262183339493, 3.2298033040032528, 11.620101160943026, 23.646422944997184, 1.7246562192475563, 4.316668505976778, 3.747941138887304, 1.2562241733568864, 0.8423009464166311, 1.2237211085549813, 2.5581946896495333, 0.8379368684716738, 1.6557184095203765, 1.6937447502304455, 1.2543180955957465, 2.5290993272332214, 2.7734748221040477, 1.6503302691033745, 1.2084266071324419, 2.054297084856181, 1.2002369673664781, 10.616642680451877, 1.1960806572600047, 0.8052470688243979, 4.823226397105841, 0.7817558967770071, 2.0293187074034114, 4.114138299862988, 1.5973511982129636, 11.782485877811181, 6.5240945990604295, 2.4112280504863994, 45.57359449455779, 25.303387127378766, 78.61023808913512, 98.43753852653009, 24.214430542803928, 30.851959827486, 176.28059217393277, 150.07466012617536, 8.659896021817937, 11.013963904550696, 40.54839988338077, 74.8118849770211, 5.49126142847106, 11.195935879277124, 48.68036277304612, 50.73871988099214, 257.64593547673934, 36.467992546115916, 46.18779126024311, 1444.2074447252326, 22.69975950426592, 98.61729208652682, 632.7507742414931, 136.2199613433914, 102.33418447589806, 280.85750528122463, 95.47458301074184, 283.83267876142014, 98.99177803429549, 87.51509781462846, 242.49951871909312, 140.74024209274805, 183.68039240248874, 129.97845769809922, 249.17649136046887, 110.26070709887276, 385.5866014483059, 146.8179090892282, 73.71798057446297, 469.18084618558345, 107.50413755987911, 228.54099011893058, 109.67452699501645, 236.37456621741632, 116.87568234158019, 144.796423235294, 123.69620462469969, 105.1860038010854, 100.60716529222877, 0.505940906068589, 1.0057972496328609, 0.49552469139745814, 0.4996357406068144, 0.4971776569042934, 0.7573198504539402, 2.956596826954503, 0.4846800736616221, 0.49844062789705224, 3.3857920799296903, 0.4885402124219579, 0.9788358449212867, 0.95685160382419, 0.4742398417330261, 0.4688794821403157, 0.7137290364564997, 1.6979541506322604, 0.47441993939515537, 0.47136158310030185, 0.4787231266642326, 0.4706466249266875, 31.330890031440777, 0.48388620164205093, 0.46487253948216734, 0.46822920536379, 0.709196573331436, 0.46428827839481157, 0.4603394727487811, 0.46943785160752055, 0.4675249215268268, 2.0306761467840384, 3.5219013090212843, 1.8725732094753413, 5.084045239063619, 1.1674757084933882, 4.354262699198671, 23.40745396090853, 7.386914428943581, 1.1540609900579122, 13.101460202679684, 50.618245232870684, 1.1452442421349243, 17.35576790517512, 15.796654978439973, 15.6477967791238, 2.4746749256382796, 35.376935326251086, 53.45802135706224, 49.27102195507508, 24.205312845218888, 38.49167016333471, 54.76538971161288, 41.22212888097648, 29.563638722646353, 171.16019457500235, 11.681677867346925, 39.810802653478426, 5.622960473570872, 280.19940961280366, 34.13140492882587, 154.4587167427829, 29.884458452205774, 18.267939785588016, 22.75043939059805, 107.5452552121744, 620.3290426390773, 67.59656046123277, 159.5756318225077, 52.04153485024597, 101.52681615699714, 24.314117883609427, 262.5193248620615, 71.38009840270372, 64.6315713183126, 123.87699028845338, 111.46332639317566, 258.76215354872244, 137.8309711285288, 64.61746899469118, 58.62231829227629, 71.28811611887542, 90.30531910871676, 48.42162534020593, 59.68493325684718, 48.18123114599382, 61.07811514524524, 47.19987533163252, 55.301395935231824, 48.08284426017482], \"Total\": [5250.0, 1865.0, 2275.0, 1001.0, 999.0, 1112.0, 964.0, 2762.0, 673.0, 681.0, 882.0, 804.0, 1233.0, 464.0, 470.0, 408.0, 444.0, 306.0, 544.0, 277.0, 231.0, 419.0, 260.0, 399.0, 188.0, 242.0, 404.0, 239.0, 315.0, 445.0, 103.17608184373219, 14.31331393966435, 3.0671624927147993, 64.52506441926624, 3.050095678197863, 9.123019023759092, 27.566571708130272, 5.022169352651979, 170.19646512561917, 2762.6768984490664, 19.314126191417397, 12.032060882067135, 3.987695652547648, 8.073836729119344, 5.0565354784003755, 5.977327085910823, 16.086257743338987, 201.37372442627407, 4.9861721842690905, 9.0805856120593, 103.08529265406796, 79.75022565520952, 8.815739234912659, 43.90190760616536, 373.4922889558206, 10.942616519872681, 15.7693637634651, 4.987567858192126, 23.367096763811837, 23.17600466595447, 140.13973894968214, 1233.6249699646921, 234.00859299426378, 113.49101713921084, 54.29536828795628, 95.95161834900128, 40.329468885215924, 48.008415383154166, 124.6584584485468, 57.1918893620591, 431.5944872305083, 48.062940826553906, 564.0910297925351, 1865.778804709887, 1112.5586164380882, 186.29105678257025, 41.523892251292224, 5250.105010734895, 336.2284651514759, 210.42388125197792, 2275.0156134577023, 241.36396995393466, 229.47725436710644, 681.864445396562, 456.3586129579828, 445.7966615605005, 194.92511753869556, 318.93634239320215, 999.2484486524094, 882.5247511917507, 404.41332600468843, 964.0236980555279, 310.22691496609275, 309.43247808538905, 544.5753017598673, 804.941342087895, 1001.8093285982707, 673.3620491022308, 385.4915901804927, 419.23669494756894, 419.4505513821042, 444.7386909952892, 470.4613503640905, 408.6632390943182, 374.94469443917427, 464.2051989233532, 399.9486388596023, 8.41113452980941, 4.365139308301929, 6.160729470813529, 23.026192112863583, 48.413921462443376, 3.53715694207798, 8.873984514536513, 7.80275698950642, 2.6362833885845713, 1.7712785884245947, 2.5764447489802533, 5.399725740079769, 1.7689374524653927, 3.506102805971761, 3.5900989286190086, 2.677860778745466, 5.414397398734799, 5.980448407134595, 3.5635747324437377, 2.6199750991151247, 4.458163126034349, 2.6084324791902995, 23.18302123815664, 2.635052481750796, 1.777413788487385, 10.660470396972654, 1.7324120969563899, 4.4996673222074985, 9.133745343797642, 3.5479983975460154, 26.411458847524887, 14.602227863764902, 5.375847679549605, 105.18352279243827, 58.035696329476195, 188.8757211942469, 239.0587873827035, 57.525339164152896, 75.21080756027007, 464.2051989233532, 399.9486388596023, 20.106067480197247, 25.946068172141207, 102.38536446380408, 198.4618285177346, 12.520376340078045, 26.751312918581828, 130.2281991126932, 136.95880975843798, 804.941342087895, 96.17090511120082, 124.3890844606462, 5250.105010734895, 57.532552189477535, 291.5816870176168, 2275.0156134577023, 419.4505513821042, 306.6220901728922, 964.0236980555279, 290.2565442153717, 1001.8093285982707, 303.1610210715389, 264.3897491662303, 882.5247511917507, 470.4613503640905, 673.3620491022308, 444.7386909952892, 999.2484486524094, 374.94469443917427, 1865.778804709887, 544.5753017598673, 231.74397201549357, 2762.6768984490664, 385.4915901804927, 1112.5586164380882, 408.6632390943182, 1233.6249699646921, 456.3586129579828, 681.864445396562, 564.0910297925351, 419.23669494756894, 445.7966615605005, 1.7079987067117508, 3.4001890406126187, 1.6889498705572206, 1.7038958581321075, 1.710198885847092, 2.6074186760839266, 10.330504601253514, 1.6968971932549546, 1.7452166591605907, 11.895778100497774, 1.71687716905521, 3.44595333128534, 3.423269725478545, 1.700053463361234, 1.68488987888657, 2.5714337618991667, 6.133504414137273, 1.714341571029907, 1.708254446552535, 1.7364345924433005, 1.7086330316276754, 114.3643542701187, 1.7678647960204763, 1.699880850078472, 1.7134681073897466, 2.595584403434648, 1.7003679141462458, 1.6924665658520686, 1.7307246608216285, 1.724406783425037, 7.494009156997199, 13.12683985332758, 6.9782295684404225, 19.314286926758896, 4.348426066416752, 16.77520066028523, 95.58208706979433, 29.21472902187971, 4.328208716509857, 55.314405165343025, 231.9283477194541, 4.3073266366216325, 75.70587418376701, 68.57583965376597, 68.00796496667715, 9.704373507379977, 165.53071128308858, 260.0340402571994, 242.88367082169844, 113.84699517494036, 188.8757211942469, 277.26181679584306, 205.32791205415495, 143.68896706126117, 1001.8093285982707, 53.36686608906689, 207.8131007096007, 23.938428667389722, 1865.778804709887, 181.0492006766504, 999.2484486524094, 156.64501353848894, 90.39871189791623, 116.55556706876422, 681.864445396562, 5250.105010734895, 408.6632390943182, 1112.5586164380882, 306.6220901728922, 673.3620491022308, 126.12328359375365, 2275.0156134577023, 470.4613503640905, 419.23669494756894, 964.0236980555279, 882.5247511917507, 2762.6768984490664, 1233.6249699646921, 444.7386909952892, 404.41332600468843, 544.5753017598673, 804.941342087895, 310.22691496609275, 445.7966615605005, 315.43949055470557, 564.0910297925351, 309.43247808538905, 464.2051989233532, 431.5944872305083], \"Category\": [\"Default\", \"Default\", \"Default\", \"Default\", \"Default\", \"Default\", \"Default\", \"Default\", \"Default\", \"Default\", \"Default\", \"Default\", \"Default\", \"Default\", \"Default\", \"Default\", \"Default\", \"Default\", \"Default\", \"Default\", \"Default\", \"Default\", \"Default\", \"Default\", \"Default\", \"Default\", \"Default\", \"Default\", \"Default\", \"Default\", \"Topic1\", \"Topic1\", \"Topic1\", \"Topic1\", \"Topic1\", \"Topic1\", \"Topic1\", \"Topic1\", \"Topic1\", \"Topic1\", \"Topic1\", \"Topic1\", \"Topic1\", \"Topic1\", \"Topic1\", \"Topic1\", \"Topic1\", \"Topic1\", \"Topic1\", \"Topic1\", \"Topic1\", \"Topic1\", \"Topic1\", \"Topic1\", \"Topic1\", \"Topic1\", \"Topic1\", \"Topic1\", \"Topic1\", \"Topic1\", \"Topic1\", \"Topic1\", \"Topic1\", \"Topic1\", \"Topic1\", \"Topic1\", \"Topic1\", \"Topic1\", \"Topic1\", \"Topic1\", \"Topic1\", \"Topic1\", \"Topic1\", \"Topic1\", \"Topic1\", \"Topic1\", \"Topic1\", \"Topic1\", \"Topic1\", \"Topic1\", \"Topic1\", \"Topic1\", \"Topic1\", \"Topic1\", \"Topic1\", \"Topic1\", \"Topic1\", \"Topic1\", \"Topic1\", \"Topic1\", \"Topic1\", \"Topic1\", \"Topic1\", \"Topic1\", \"Topic1\", \"Topic1\", \"Topic1\", \"Topic1\", \"Topic1\", \"Topic1\", \"Topic1\", \"Topic1\", \"Topic1\", \"Topic1\", \"Topic1\", \"Topic1\", \"Topic1\", \"Topic2\", \"Topic2\", \"Topic2\", \"Topic2\", \"Topic2\", \"Topic2\", \"Topic2\", \"Topic2\", \"Topic2\", \"Topic2\", \"Topic2\", \"Topic2\", \"Topic2\", \"Topic2\", \"Topic2\", \"Topic2\", \"Topic2\", \"Topic2\", \"Topic2\", \"Topic2\", \"Topic2\", \"Topic2\", \"Topic2\", \"Topic2\", \"Topic2\", \"Topic2\", \"Topic2\", \"Topic2\", \"Topic2\", \"Topic2\", \"Topic2\", \"Topic2\", \"Topic2\", \"Topic2\", \"Topic2\", \"Topic2\", \"Topic2\", \"Topic2\", \"Topic2\", \"Topic2\", \"Topic2\", \"Topic2\", \"Topic2\", \"Topic2\", \"Topic2\", \"Topic2\", \"Topic2\", \"Topic2\", \"Topic2\", \"Topic2\", \"Topic2\", \"Topic2\", \"Topic2\", \"Topic2\", \"Topic2\", \"Topic2\", \"Topic2\", \"Topic2\", \"Topic2\", \"Topic2\", \"Topic2\", \"Topic2\", \"Topic2\", \"Topic2\", \"Topic2\", \"Topic2\", \"Topic2\", \"Topic2\", \"Topic2\", \"Topic2\", \"Topic2\", \"Topic2\", \"Topic2\", \"Topic2\", \"Topic2\", \"Topic2\", \"Topic2\", \"Topic2\", \"Topic2\", \"Topic2\", \"Topic2\", \"Topic2\", \"Topic3\", \"Topic3\", \"Topic3\", \"Topic3\", \"Topic3\", \"Topic3\", \"Topic3\", \"Topic3\", \"Topic3\", \"Topic3\", \"Topic3\", \"Topic3\", \"Topic3\", \"Topic3\", \"Topic3\", \"Topic3\", \"Topic3\", \"Topic3\", \"Topic3\", \"Topic3\", \"Topic3\", \"Topic3\", \"Topic3\", \"Topic3\", \"Topic3\", \"Topic3\", \"Topic3\", \"Topic3\", \"Topic3\", \"Topic3\", \"Topic3\", \"Topic3\", \"Topic3\", \"Topic3\", \"Topic3\", \"Topic3\", \"Topic3\", \"Topic3\", \"Topic3\", \"Topic3\", \"Topic3\", \"Topic3\", \"Topic3\", \"Topic3\", \"Topic3\", \"Topic3\", \"Topic3\", \"Topic3\", \"Topic3\", \"Topic3\", \"Topic3\", \"Topic3\", \"Topic3\", \"Topic3\", \"Topic3\", \"Topic3\", \"Topic3\", \"Topic3\", \"Topic3\", \"Topic3\", \"Topic3\", \"Topic3\", \"Topic3\", \"Topic3\", \"Topic3\", \"Topic3\", \"Topic3\", \"Topic3\", \"Topic3\", \"Topic3\", \"Topic3\", \"Topic3\", \"Topic3\", \"Topic3\", \"Topic3\", \"Topic3\", \"Topic3\", \"Topic3\", \"Topic3\", \"Topic3\", \"Topic3\", \"Topic3\", \"Topic3\", \"Topic3\", \"Topic3\", \"Topic3\", \"Topic3\", \"Topic3\", \"Topic3\"], \"logprob\": [30.0, 29.0, 28.0, 27.0, 26.0, 25.0, 24.0, 23.0, 22.0, 21.0, 20.0, 19.0, 18.0, 17.0, 16.0, 15.0, 14.0, 13.0, 12.0, 11.0, 10.0, 9.0, 8.0, 7.0, 6.0, 5.0, 4.0, 3.0, 2.0, 1.0, -6.8096, -8.8124, -10.3544, -7.3083, -10.364, -9.2743, -8.1687, -9.873, -6.3512, -3.5724, -8.5372, -9.0142, -10.1192, -9.4154, -9.8851, -9.7191, -8.7296, -6.2027, -9.9022, -9.3052, -6.8763, -7.1334, -9.336, -7.7306, -5.5901, -9.1205, -8.7551, -9.9064, -8.3623, -8.3776, -6.5801, -4.4343, -6.0812, -6.7982, -7.5291, -6.9687, -7.8285, -7.6565, -6.7177, -7.4852, -5.5073, -7.6602, -5.2522, -4.1005, -4.6051, -6.3451, -7.8045, -3.1241, -5.7794, -6.2339, -3.9609, -6.113, -6.1617, -5.1279, -5.5099, -5.5363, -6.3192, -5.8595, -4.8009, -4.9204, -5.6449, -4.8639, -5.8933, -5.8991, -5.4022, -5.0659, -4.8864, -5.2291, -5.7204, -5.6714, -5.7004, -5.6685, -5.6363, -5.7464, -5.8012, -5.7411, -5.8565, -8.8531, -9.5615, -9.2244, -7.9441, -7.2336, -9.8518, -8.9344, -9.0756, -10.1687, -10.5685, -10.195, -9.4576, -10.5737, -9.8926, -9.8699, -10.1703, -9.469, -9.3768, -9.8959, -10.2075, -9.6769, -10.2143, -8.0344, -10.2178, -10.6135, -8.8234, -10.6431, -9.6892, -8.9824, -9.9285, -7.9302, -8.5214, -9.5167, -6.5775, -7.1659, -6.0324, -5.8074, -7.2099, -6.9677, -5.2248, -5.3857, -8.2382, -7.9977, -6.6944, -6.0819, -8.6937, -7.9813, -6.5116, -6.4702, -4.8453, -6.8004, -6.5641, -3.1215, -7.2745, -5.8056, -3.9468, -5.4826, -5.7686, -4.759, -5.838, -4.7485, -5.8018, -5.925, -4.9059, -5.4499, -5.1837, -5.5295, -4.8787, -5.694, -4.4421, -5.4077, -6.0966, -4.2459, -5.7193, -4.9651, -5.6993, -4.9314, -5.6357, -5.4215, -5.579, -5.7411, -5.7856, -10.4493, -9.7622, -10.4701, -10.4618, -10.4668, -10.0459, -8.6839, -10.4922, -10.4642, -8.5484, -10.4843, -9.7894, -9.8121, -10.514, -10.5254, -10.1052, -9.2385, -10.5136, -10.5201, -10.5046, -10.5216, -6.3234, -10.4939, -10.534, -10.5268, -10.1116, -10.5352, -10.5438, -10.5242, -10.5283, -9.0596, -8.509, -9.1406, -8.1419, -9.6131, -8.2968, -6.6149, -7.7683, -9.6247, -7.1952, -5.8436, -9.6323, -6.914, -7.0082, -7.0176, -8.8619, -6.2019, -5.7891, -5.8706, -6.5814, -6.1175, -5.7649, -6.049, -6.3814, -4.6254, -7.3099, -6.0838, -8.0411, -4.1325, -6.2377, -4.728, -6.3706, -6.8628, -6.6434, -5.09, -3.3377, -5.5544, -4.6954, -5.8159, -5.1476, -6.5769, -4.1976, -5.4999, -5.5993, -4.9487, -5.0543, -4.2121, -4.8419, -5.5995, -5.6968, -5.5012, -5.2648, -5.888, -5.6789, -5.893, -5.6558, -5.9136, -5.7552, -5.895], \"loglift\": [30.0, 29.0, 28.0, 27.0, 26.0, 25.0, 24.0, 23.0, 22.0, 21.0, 20.0, 19.0, 18.0, 17.0, 16.0, 15.0, 14.0, 13.0, 12.0, 11.0, 10.0, 9.0, 8.0, 7.0, 6.0, 5.0, 4.0, 3.0, 2.0, 1.0, 0.2711, 0.2436, 0.2421, 0.2418, 0.2381, 0.2321, 0.2319, 0.2303, 0.229, 0.2208, 0.2192, 0.2154, 0.2148, 0.2132, 0.2114, 0.2101, 0.2097, 0.2093, 0.2084, 0.2059, 0.2054, 0.2049, 0.2047, 0.2046, 0.2042, 0.204, 0.204, 0.2039, 0.2036, 0.1965, 0.1944, 0.1652, 0.1807, 0.1873, 0.1936, 0.1846, 0.1916, 0.1893, 0.1739, 0.1856, 0.1424, 0.1845, 0.1298, 0.0853, 0.0976, 0.1448, 0.1865, 0.027, 0.12, 0.1342, 0.0266, 0.1178, 0.1197, 0.0645, 0.084, 0.0811, 0.1253, 0.0928, 0.0092, 0.014, 0.0698, -0.0178, 0.0866, 0.0833, 0.015, -0.0394, -0.0788, -0.0242, 0.0422, 0.0074, -0.0222, -0.0488, -0.0728, -0.0421, -0.0108, -0.1642, -0.1306, 0.7345, 0.682, 0.6746, 0.6364, 0.6038, 0.602, 0.5997, 0.5871, 0.5791, 0.577, 0.5758, 0.5733, 0.5732, 0.5701, 0.5691, 0.5619, 0.5591, 0.5519, 0.5506, 0.5465, 0.5455, 0.5441, 0.5393, 0.5305, 0.5286, 0.5272, 0.5246, 0.524, 0.5228, 0.5223, 0.5132, 0.5147, 0.5186, 0.484, 0.4902, 0.4438, 0.4331, 0.4551, 0.4292, 0.3521, 0.3401, 0.478, 0.4635, 0.3941, 0.3447, 0.4961, 0.4493, 0.3363, 0.3274, 0.1812, 0.3507, 0.3296, 0.0297, 0.3903, 0.2363, 0.0407, 0.1957, 0.223, 0.0871, 0.2084, 0.0592, 0.2011, 0.2147, 0.0286, 0.1135, 0.0213, 0.0902, -0.0685, 0.0964, -0.2563, 0.0095, 0.175, -0.4526, 0.0434, -0.2624, 0.005, -0.332, -0.0418, -0.2292, -0.197, -0.0624, -0.1683, 0.7326, 0.7312, 0.723, 0.7224, 0.7138, 0.7129, 0.6982, 0.6962, 0.6961, 0.6926, 0.6924, 0.6906, 0.6745, 0.6725, 0.6701, 0.6675, 0.6649, 0.6645, 0.6616, 0.6608, 0.6599, 0.6545, 0.6536, 0.6527, 0.6519, 0.6518, 0.6511, 0.6473, 0.6445, 0.644, 0.6435, 0.6336, 0.6338, 0.6145, 0.6343, 0.6005, 0.5423, 0.5743, 0.6274, 0.5089, 0.4271, 0.6245, 0.4763, 0.4811, 0.4799, 0.5828, 0.4061, 0.3673, 0.354, 0.401, 0.3586, 0.3273, 0.3436, 0.3681, 0.1823, 0.4301, 0.2967, 0.5006, 0.0533, 0.2807, 0.0822, 0.2926, 0.3502, 0.3155, 0.1023, -0.1865, 0.1499, 0.0073, 0.1757, 0.0573, 0.303, -0.2102, 0.0635, 0.0795, -0.1026, -0.1199, -0.4188, -0.2424, 0.0202, 0.0179, -0.084, -0.2383, 0.0919, -0.0615, 0.0702, -0.2738, 0.0689, -0.1783, -0.2453]}, \"token.table\": {\"Topic\": [1, 2, 3, 1, 2, 3, 1, 2, 3, 1, 2, 3, 1, 2, 3, 1, 2, 3, 1, 2, 3, 1, 2, 3, 1, 2, 3, 1, 2, 3, 1, 2, 3, 1, 2, 3, 1, 2, 3, 1, 2, 1, 2, 3, 1, 2, 3, 1, 2, 3, 1, 2, 3, 1, 2, 3, 1, 2, 3, 1, 2, 3, 1, 3, 1, 2, 3, 1, 2, 3, 1, 3, 1, 2, 3, 1, 2, 1, 2, 3, 1, 2, 3, 1, 2, 3, 1, 2, 3, 1, 2, 3, 1, 2, 3, 1, 2, 3, 1, 2, 3, 1, 2, 3, 1, 2, 1, 2, 3, 1, 1, 2, 3, 1, 2, 3, 1, 2, 3, 1, 2, 3, 1, 2, 3, 1, 2, 3, 1, 2, 3, 1, 2, 3, 1, 2, 1, 2, 3, 1, 2, 3, 1, 1, 2, 1, 2, 1, 2, 3, 1, 2, 3, 1, 1, 2, 3, 1, 2, 3, 1, 2, 1, 2, 3, 1, 2, 3, 1, 2, 3, 1, 2, 1, 1, 2, 3, 1, 2, 3, 1, 1, 2, 3, 1, 2, 1, 2, 3, 1, 2, 3, 1, 2, 3, 1, 2, 1, 1, 2, 3, 1, 2, 3, 1, 2, 3, 1, 2, 3, 1, 2, 3, 1, 2, 3, 1, 2, 3, 1, 2, 3, 1, 2, 3, 1, 2, 3, 1, 2, 3, 1, 2, 3, 1, 2, 3, 1, 2, 3, 1, 2, 3, 1, 2, 3, 1, 2, 3, 1, 2, 3, 1, 2, 1, 2, 3, 1, 2, 3, 1, 2, 3, 1, 2, 3, 1, 2, 3, 1, 2, 3, 1, 2, 1, 2, 3, 1, 2, 1, 2, 3, 1, 2, 3, 1, 2, 3, 1, 2, 3, 1, 2, 3, 1, 2, 3, 1, 2, 3, 1, 2, 1, 2, 3, 1, 1, 2, 3, 1, 2, 3, 1, 2, 3, 1, 2, 3, 1, 2, 1, 2, 3, 1, 2, 3, 1, 2, 3, 1, 2, 3, 1, 2, 3, 1, 2, 3, 1, 2, 3, 1, 2, 3, 1, 1, 2, 3, 1, 2, 1, 2, 3, 1, 2, 1, 1, 2, 3, 1, 2, 3, 1, 1, 2, 3, 1, 2, 1, 2, 3, 1, 2, 3, 1, 2, 3, 1, 2, 3, 1, 2, 1, 2, 3, 1, 2, 3, 1, 2, 3, 1, 2, 3, 1, 2, 3, 1, 2, 3, 1, 2, 3, 1, 2, 3, 1, 2, 3, 1, 2, 1, 2, 3, 1, 2, 3, 1, 2, 3, 1, 2, 3, 1, 2, 3, 1, 2, 3, 1, 2, 3, 1, 2, 3, 1, 2, 3, 1, 2, 3, 1, 2, 3, 1, 2, 3, 1, 2, 1, 2, 3, 1, 2, 3, 1, 2, 3, 1, 2, 3, 1, 2, 1, 2, 3, 1, 2, 3, 1, 2, 3, 1, 2, 3, 1, 2, 3, 1, 2, 3, 1, 2, 1, 2, 3, 1, 2, 3, 1, 2, 3, 1, 2, 3, 1, 2, 3, 1, 2, 3, 1, 2, 3, 1, 2, 3, 1, 2, 3, 1, 2, 3, 1, 2, 3, 1, 2, 3, 1, 1, 2, 3, 1, 2, 3, 1, 2, 3, 1, 2, 3, 1, 2, 3, 1, 2, 3], \"Freq\": [0.5134396416535676, 0.2396051661049982, 0.2396051661049982, 0.7617922251030738, 0.14510328097201405, 0.10882746072901053, 0.5762130498998367, 0.2732556731483762, 0.15147868837573025, 0.3720343505282431, 0.3720343505282431, 0.18601717526412154, 0.745978349437362, 0.12432972490622698, 0.12432972490622698, 0.7310865719795032, 0.0913858214974379, 0.1827716429948758, 0.7593948249568785, 0.15497853570548542, 0.09298712142329126, 0.2852169646300024, 0.5704339292600048, 0.2852169646300024, 0.5652575957454443, 0.26917028368830687, 0.16639617537095333, 0.2290877631552628, 0.4581755263105256, 0.2290877631552628, 0.44447730393962037, 0.44447730393962037, 0.22223865196981019, 0.4991238490808902, 0.3762625939225172, 0.12286125515837297, 0.7059288322285993, 0.18450412660520207, 0.1123068596727317, 0.37932189093559593, 0.37932189093559593, 0.3752179642219085, 0.4690224552773856, 0.18760898211095425, 0.5533742889146306, 0.2371604095348417, 0.21080925291985927, 0.7137128738624612, 0.1586028608583247, 0.12335778066758588, 0.7255839223820116, 0.20883965293651996, 0.06693578619760256, 0.39085924220063073, 0.5211456562675076, 0.1302864140668769, 0.44762607152613154, 0.44762607152613154, 0.09947246033914034, 0.4590499847916812, 0.40044785907359426, 0.13673829334220292, 0.7523141837776331, 0.2507713945925444, 0.4003197670500419, 0.4003197670500419, 0.26687984470002796, 0.3882151470916575, 0.4744851797786925, 0.1294050490305525, 0.5854805369994722, 0.5854805369994722, 0.5395486250960994, 0.23331832436588082, 0.23331832436588082, 0.5920838844495003, 0.5920838844495003, 0.4601378648503877, 0.40994100686670903, 0.12967521645783653, 0.5803909129709544, 0.2901954564854772, 0.2901954564854772, 0.7190771612326116, 0.19836611344347904, 0.09918305672173952, 0.28184905627117907, 0.5636981125423581, 0.28184905627117907, 0.3246368809854425, 0.4869553214781638, 0.16231844049272126, 0.5087778236696427, 0.2759472941937045, 0.2198955000606083, 0.7403208985979909, 0.17626688061856927, 0.08225787762199899, 0.5581269508941553, 0.3272966687342269, 0.1136925270339946, 0.4632983336449442, 0.3431839508481068, 0.19733077173766142, 0.37949908281734657, 0.37949908281734657, 0.5621278405989824, 0.29230647711147084, 0.14615323855573542, 0.5833143271438261, 0.7753735029516426, 0.12599819422964192, 0.09692168786895533, 0.6963218327402902, 0.1913061146993114, 0.11186543995129228, 0.5941715316708752, 0.20455085516538327, 0.1996805967090646, 0.7335172841491953, 0.17259230215275184, 0.08629615107637592, 0.5635619401655355, 0.3328419512387055, 0.10590425721231539, 0.5769452422999601, 0.3242336898875809, 0.09774692121610895, 0.4543482459366141, 0.4543482459366141, 0.11358706148415353, 0.5343694892813142, 0.3265591323385809, 0.13854023796182222, 0.5882167952664651, 0.5882167952664651, 0.43793644878836463, 0.43793644878836463, 0.10948411219709116, 0.47865461318376956, 0.4121748057971349, 0.11966365329594239, 0.5656541169047735, 0.37343240841239095, 0.37343240841239095, 0.5836116795446951, 0.5836116795446951, 0.6662136708118531, 0.2200884448217729, 0.11599255875742086, 0.650752229413244, 0.20583185156855366, 0.14381264738414232, 0.6520684850412881, 0.5531052262831252, 0.2544284040902376, 0.19911788146192508, 0.6446893881591791, 0.1998537103293455, 0.15472545315820296, 0.38168301688735207, 0.38168301688735207, 0.3844794864218591, 0.5126393152291455, 0.12815982880728638, 0.5840861418977286, 0.29337660095319695, 0.12268476039860964, 0.44861525777748995, 0.44861525777748995, 0.22430762888874498, 0.562615192071296, 0.562615192071296, 0.5729947595623899, 0.4620849249646959, 0.23104246248234794, 0.23104246248234794, 0.5483978647774861, 0.299705809820254, 0.1509156914697733, 0.5777926568199873, 0.5679876292772554, 0.19813521951532168, 0.22455324878403124, 0.5893108928312975, 0.5893108928312975, 0.33806685092651295, 0.45075580123535064, 0.11268895030883766, 0.5038011072212092, 0.372374731424372, 0.12412491047479066, 0.2921183780983569, 0.2921183780983569, 0.2921183780983569, 0.5908536216764508, 0.5908536216764508, 0.6557171351364598, 0.4394128783705201, 0.3138663416932287, 0.24063086196480865, 0.7074057353813775, 0.18725445936565877, 0.10403025520314375, 0.33442308399718434, 0.5016346259957765, 0.16721154199859217, 0.3888881039118957, 0.3888881039118957, 0.3888881039118957, 0.7207092060893916, 0.18552910255766517, 0.09990028599258893, 0.38120304475741745, 0.4182644518866108, 0.20119049584419255, 0.36184626580131424, 0.4307693640491836, 0.20676929474360814, 0.48911679154990456, 0.16303893051663484, 0.3260778610332697, 0.3717938860615396, 0.49572518141538613, 0.1445865112461543, 0.7224756248390082, 0.21674268745170244, 0.07224756248390082, 0.48486681797718256, 0.43733085543039996, 0.08556473258420869, 0.29410129497383125, 0.29410129497383125, 0.29410129497383125, 0.5019331979486761, 0.3791426731286137, 0.11848208535269178, 0.5798612639165656, 0.2914866103051072, 0.12862754333748502, 0.6420389397295689, 0.2563773240558347, 0.10079792227836236, 0.6147994042854039, 0.2801617538515765, 0.10635770285106144, 0.4643251298835003, 0.23216256494175014, 0.23216256494175014, 0.7272706694367989, 0.2006263915687721, 0.07523489683828954, 0.27854385627882033, 0.5570877125576407, 0.5964482614946944, 0.24918727703385724, 0.1541158259566828, 0.23778005130127416, 0.5944501282531854, 0.11889002565063708, 0.39934901828748326, 0.39934901828748326, 0.15973960731499331, 0.4887132958315686, 0.37433358829652064, 0.1351760179959658, 0.48966306291322953, 0.23608754819030708, 0.27106348125553775, 0.4203171879770334, 0.3362537503816267, 0.25219031278622006, 0.5853928857133206, 0.5853928857133206, 0.7275528649046363, 0.14551057298092726, 0.12610916325013696, 0.5881080157302896, 0.5881080157302896, 0.7248580578406477, 0.15532672668013878, 0.10355115112009253, 0.633015737955757, 0.22254459537507085, 0.14589034585699087, 0.6490323380732795, 0.2351566442294491, 0.11914603307625421, 0.508913984892438, 0.3779064244250777, 0.11589130349035716, 0.6975550925830696, 0.1268281986514672, 0.1902422979772008, 0.6431128407441613, 0.2068302603398308, 0.15189097243706323, 0.5061972539757739, 0.25309862698788693, 0.23502015363160927, 0.3881317464291816, 0.3881317464291816, 0.7910554602230125, 0.19776386505575314, 0.19776386505575314, 0.5824528498741093, 0.7480015342520258, 0.16622256316711684, 0.16622256316711684, 0.5482182932961251, 0.2524689508600576, 0.19836846139004527, 0.6691954351014876, 0.1672988587753719, 0.1672988587753719, 0.593936558991194, 0.25045517547821433, 0.15504368005794222, 0.5882765253540193, 0.5882765253540193, 0.6068450047162072, 0.27504211764287606, 0.11809287599624872, 0.6817289149217085, 0.19324599163135045, 0.12346271687558501, 0.5986316289895773, 0.26993512104744743, 0.13037682717257665, 0.5769727806748293, 0.2694653096558268, 0.1521686454527022, 0.4111947713922949, 0.4111947713922949, 0.14952537141537997, 0.5152316114170176, 0.20609264456680704, 0.20609264456680704, 0.6806008934836019, 0.11343348224726697, 0.22686696449453395, 0.42395633615928413, 0.42395633615928413, 0.15416594042155787, 0.5799095721566279, 0.5994166161182957, 0.27421327240194243, 0.12577550924221326, 0.5645639294321381, 0.5645639294321381, 0.6415480972846765, 0.2265606916984347, 0.1345905099198622, 0.5852631790966732, 0.5852631790966732, 0.586890328553441, 0.7964685615167044, 0.1991171403791761, 0.1991171403791761, 0.5010823132252257, 0.2922980160480483, 0.20878429717717736, 0.5758926966508546, 0.4299084704188767, 0.2866056469459178, 0.2866056469459178, 0.5772298645090638, 0.5772298645090638, 0.7299860019911332, 0.1738061909502698, 0.09931782340015417, 0.8022185861570581, 0.20055464653926453, 0.20055464653926453, 0.7168848670210091, 0.17484996756609977, 0.10490998053965986, 0.7086904960025386, 0.19801646211835638, 0.0833753524708869, 0.5935105982480188, 0.5935105982480188, 0.5177514467875872, 0.2588757233937936, 0.2588757233937936, 0.7288977118503636, 0.20500248145791475, 0.06833416048597157, 0.5911696378054687, 0.319317906551859, 0.09061724375120322, 0.5805248229450076, 0.21821145827010924, 0.20174266896670476, 0.41720744890376377, 0.41720744890376377, 0.1564527933389114, 0.5799528030530962, 0.2053999510813049, 0.211441126113108, 0.5384425942720963, 0.33952749575119445, 0.12346454390952526, 0.5434083378926601, 0.24359684112429586, 0.22485862257627312, 0.5677432330840552, 0.3205202497498605, 0.11180938944762575, 0.5653111129544384, 0.5653111129544384, 0.5587580810368229, 0.22056240040927216, 0.235266560436557, 0.606314036842524, 0.20210467894750803, 0.1924806466166743, 0.6718773743652526, 0.21982267657332805, 0.10813857476591138, 0.5175664570086589, 0.3750481572526514, 0.1075138050790934, 0.5460120847201145, 0.28348707872122947, 0.17069116359623324, 0.3852696905855707, 0.3852696905855707, 0.3852696905855707, 0.5012860353840634, 0.2506430176920317, 0.2506430176920317, 0.7685152471586152, 0.13973004493793004, 0.06986502246896502, 0.3703891820199102, 0.5555837730298653, 0.1851945910099551, 0.47937890473345796, 0.47937890473345796, 0.13696540135241655, 0.7366044147769957, 0.16976288478152873, 0.09374965278979945, 0.8019941008782394, 0.20049852521955985, 0.20049852521955985, 0.28271292916183927, 0.5654258583236785, 0.7708753927394046, 0.22025011221125845, 0.11012505610562923, 0.49572423146125305, 0.33265705005952506, 0.1695898686577971, 0.3693855202551898, 0.5540782803827847, 0.1846927601275949, 0.5867275089217936, 0.22200500337581378, 0.1902900028935547, 0.28061709802118995, 0.5612341960423799, 0.4570787841583238, 0.2285393920791619, 0.30471918943888254, 0.767289861149022, 0.10961283730700315, 0.10961283730700315, 0.7093756595684891, 0.19230063060591573, 0.09828698897635693, 0.47689444448433654, 0.23844722224216827, 0.23844722224216827, 0.5965229318680365, 0.2154110587301243, 0.18779425632882632, 0.6065892435360455, 0.27823984866544693, 0.1156036022101304, 0.38337200904292396, 0.38337200904292396, 0.3835210697738411, 0.3835210697738411, 0.3835210697738411, 0.7275187059749573, 0.1711808719941076, 0.0855904359970538, 0.7431411113826736, 0.12385685189711226, 0.12385685189711226, 0.7082091697600662, 0.16663745170825087, 0.12497808878118814, 0.6306238767881768, 0.21265223752159448, 0.15838925277470486, 0.7182933135873198, 0.1841777727146974, 0.11050666362881843, 0.6748283472157713, 0.22811099060814807, 0.09979855839106479, 0.45993653093153924, 0.22996826546576962, 0.22996826546576962, 0.6669227734296123, 0.21546735756956703, 0.11286385396501131, 0.5298604668293908, 0.2808898860300385, 0.19151583138411718, 0.48400346285052664, 0.290402077710316, 0.290402077710316, 0.6431630571484543, 0.20688411671608617, 0.15007138000130602, 0.5847273134578627, 0.451918070910042, 0.39977367811272946, 0.1564331783919376, 0.4502002747493257, 0.36980736854408897, 0.18490368427204448, 0.6628992721263935, 0.20715602253949797, 0.12843673397448874, 0.6667327462234585, 0.17866694506641698, 0.15687829322904906, 0.6811949844090082, 0.20852907685990046, 0.11121550765861359, 0.5883845047697134, 0.2038194689725151, 0.2038194689725151], \"Term\": [\"accounting\", \"accounting\", \"accounting\", \"acquisition\", \"acquisition\", \"acquisition\", \"action\", \"action\", \"action\", \"aegis\", \"aegis\", \"aegis\", \"affirm\", \"affirm\", \"affirm\", \"affirmed\", \"affirmed\", \"affirmed\", \"agenda\", \"agenda\", \"agenda\", \"aid\", \"aid\", \"aid\", \"also\", \"also\", \"also\", \"anrf\", \"anrf\", \"anrf\", \"anticipated\", \"anticipated\", \"anticipated\", \"april\", \"april\", \"april\", \"arab\", \"arab\", \"arab\", \"arabic\", \"arabic\", \"areva\", \"areva\", \"areva\", \"arms\", \"arms\", \"arms\", \"arrangements\", \"arrangements\", \"arrangements\", \"article\", \"article\", \"article\", \"asn\", \"asn\", \"asn\", \"assessments\", \"assessments\", \"assessments\", \"assistance\", \"assistance\", \"assistance\", \"awaited\", \"awaited\", \"aware\", \"aware\", \"aware\", \"balance\", \"balance\", \"balance\", \"barrow\", \"barrow\", \"bilateral\", \"bilateral\", \"bilateral\", \"business\", \"business\", \"canada\", \"canada\", \"canada\", \"canwfz\", \"canwfz\", \"canwfz\", \"catastrophic\", \"catastrophic\", \"catastrophic\", \"cea\", \"cea\", \"cea\", \"cfe\", \"cfe\", \"cfe\", \"china\", \"china\", \"china\", \"commitments\", \"commitments\", \"commitments\", \"committee\", \"committee\", \"committee\", \"community\", \"community\", \"community\", \"companys\", \"companys\", \"comprehensive\", \"comprehensive\", \"comprehensive\", \"compulsory\", \"concern\", \"concern\", \"concern\", \"conference\", \"conference\", \"conference\", \"control\", \"control\", \"control\", \"conveners\", \"conveners\", \"conveners\", \"convention\", \"convention\", \"convention\", \"cooperation\", \"cooperation\", \"cooperation\", \"costs\", \"costs\", \"costs\", \"countries\", \"countries\", \"countries\", \"culminating\", \"culminating\", \"damages\", \"damages\", \"damages\", \"democratic\", \"democratic\", \"democratic\", \"departure\", \"description\", \"description\", \"detargeted\", \"detargeted\", \"development\", \"development\", \"development\", \"disarmament\", \"disarmament\", \"disarmament\", \"doha\", \"done\", \"done\", \"done\", \"east\", \"east\", \"east\", \"ecas\", \"ecas\", \"edf\", \"edf\", \"edf\", \"efforts\", \"efforts\", \"efforts\", \"embark\", \"embark\", \"embark\", \"embodying\", \"embodying\", \"embolden\", \"enemy\", \"enemy\", \"enemy\", \"energy\", \"energy\", \"energy\", \"energyrelated\", \"enriched\", \"enriched\", \"enriched\", \"eskdalemuir\", \"eskdalemuir\", \"etc\", \"etc\", \"etc\", \"european\", \"european\", \"european\", \"excellent\", \"excellent\", \"excellent\", \"exclusions\", \"exclusions\", \"exempted\", \"experts\", \"experts\", \"experts\", \"facilitator\", \"facilitator\", \"facilitator\", \"feedback\", \"feedback\", \"feedback\", \"fellow\", \"fellow\", \"fellow\", \"final\", \"final\", \"final\", \"france\", \"france\", \"france\", \"french\", \"french\", \"french\", \"fresh\", \"fresh\", \"fresh\", \"fukushima\", \"fukushima\", \"fukushima\", \"fulfilment\", \"fulfilment\", \"fulfilment\", \"germany\", \"germany\", \"germany\", \"goes\", \"goes\", \"goes\", \"group\", \"group\", \"group\", \"iaea\", \"iaea\", \"iaea\", \"implementation\", \"implementation\", \"implementation\", \"including\", \"including\", \"including\", \"inspected\", \"inspected\", \"inspected\", \"instrument\", \"instrument\", \"instrument\", \"integrating\", \"integrating\", \"international\", \"international\", \"international\", \"irrs\", \"irrs\", \"irrs\", \"irsn\", \"irsn\", \"irsn\", \"joint\", \"joint\", \"joint\", \"kingdom\", \"kingdom\", \"kingdom\", \"kingdoms\", \"kingdoms\", \"kingdoms\", \"kong\", \"kong\", \"legally\", \"legally\", \"legally\", \"mainland\", \"mainland\", \"majority\", \"majority\", \"majority\", \"material\", \"material\", \"material\", \"measures\", \"measures\", \"measures\", \"member\", \"member\", \"member\", \"metric\", \"metric\", \"metric\", \"middle\", \"middle\", \"middle\", \"missiles\", \"missiles\", \"missiles\", \"mobilization\", \"mobilization\", \"modalities\", \"modalities\", \"modalities\", \"multilingual\", \"nagasaki\", \"nagasaki\", \"nagasaki\", \"national\", \"national\", \"national\", \"nevada\", \"nevada\", \"nevada\", \"new\", \"new\", \"new\", \"normscompliant\", \"normscompliant\", \"nuclear\", \"nuclear\", \"nuclear\", \"nucleartestban\", \"nucleartestban\", \"nucleartestban\", \"nuclearweapon\", \"nuclearweapon\", \"nuclearweapon\", \"obligations\", \"obligations\", \"obligations\", \"operators\", \"operators\", \"operators\", \"organisation\", \"organisation\", \"organisation\", \"organizers\", \"organizers\", \"organizers\", \"outstanding\", \"outstanding\", \"outstanding\", \"outward\", \"parties\", \"parties\", \"parties\", \"payments\", \"payments\", \"peaceful\", \"peaceful\", \"peaceful\", \"perceives\", \"perceives\", \"poised\", \"positively\", \"positively\", \"positively\", \"power\", \"power\", \"power\", \"premises\", \"presidents\", \"presidents\", \"presidents\", \"prioritised\", \"prioritised\", \"progress\", \"progress\", \"progress\", \"province\", \"province\", \"province\", \"reaffirm\", \"reaffirm\", \"reaffirm\", \"recommendation\", \"recommendation\", \"recommendation\", \"recourse\", \"recourse\", \"reduced\", \"reduced\", \"reduced\", \"refrain\", \"refrain\", \"refrain\", \"regard\", \"regard\", \"regard\", \"regime\", \"regime\", \"regime\", \"regulatory\", \"regulatory\", \"regulatory\", \"relevant\", \"relevant\", \"relevant\", \"republic\", \"republic\", \"republic\", \"requirements\", \"requirements\", \"requirements\", \"review\", \"review\", \"review\", \"rigorously\", \"rigorously\", \"russia\", \"russia\", \"russia\", \"russian\", \"russian\", \"russian\", \"safeguards\", \"safeguards\", \"safeguards\", \"safety\", \"safety\", \"safety\", \"security\", \"security\", \"security\", \"sellafield\", \"sellafield\", \"sellafield\", \"shared\", \"shared\", \"shared\", \"short\", \"short\", \"short\", \"sound\", \"sound\", \"sound\", \"staff\", \"staff\", \"staff\", \"states\", \"states\", \"states\", \"statesrussian\", \"statesrussian\", \"statesrussian\", \"subsistence\", \"subsistence\", \"successive\", \"successive\", \"successive\", \"support\", \"support\", \"support\", \"table\", \"table\", \"table\", \"take\", \"take\", \"take\", \"temporary\", \"temporary\", \"testban\", \"testban\", \"testban\", \"thousands\", \"thousands\", \"thousands\", \"threat\", \"threat\", \"threat\", \"threaten\", \"threaten\", \"threaten\", \"towards\", \"towards\", \"towards\", \"treaty\", \"treaty\", \"treaty\", \"trimester\", \"trimester\", \"tripartite\", \"tripartite\", \"tripartite\", \"underline\", \"underline\", \"underline\", \"underpin\", \"underpin\", \"underpin\", \"unilateral\", \"unilateral\", \"unilateral\", \"united\", \"united\", \"united\", \"universality\", \"universality\", \"universality\", \"upon\", \"upon\", \"upon\", \"users\", \"users\", \"users\", \"verification\", \"verification\", \"verification\", \"vi\", \"vi\", \"vi\", \"warning\", \"warning\", \"warning\", \"weapons\", \"weapons\", \"weapons\", \"weston\", \"withdrawal\", \"withdrawal\", \"withdrawal\", \"within\", \"within\", \"within\", \"working\", \"working\", \"working\", \"world\", \"world\", \"world\", \"would\", \"would\", \"would\", \"zone\", \"zone\", \"zone\"]}, \"R\": 30, \"lambda.step\": 0.01, \"plot.opts\": {\"xlab\": \"PC1\", \"ylab\": \"PC2\"}, \"topic.order\": [3, 2, 1]};\n",
              "\n",
              "function LDAvis_load_lib(url, callback){\n",
              "  var s = document.createElement('script');\n",
              "  s.src = url;\n",
              "  s.async = true;\n",
              "  s.onreadystatechange = s.onload = callback;\n",
              "  s.onerror = function(){console.warn(\"failed to load library \" + url);};\n",
              "  document.getElementsByTagName(\"head\")[0].appendChild(s);\n",
              "}\n",
              "\n",
              "if(typeof(LDAvis) !== \"undefined\"){\n",
              "   // already loaded: just create the visualization\n",
              "   !function(LDAvis){\n",
              "       new LDAvis(\"#\" + \"ldavis_el2871406605120156967213990214\", ldavis_el2871406605120156967213990214_data);\n",
              "   }(LDAvis);\n",
              "}else if(typeof define === \"function\" && define.amd){\n",
              "   // require.js is available: use it to load d3/LDAvis\n",
              "   require.config({paths: {d3: \"https://d3js.org/d3.v5\"}});\n",
              "   require([\"d3\"], function(d3){\n",
              "      window.d3 = d3;\n",
              "      LDAvis_load_lib(\"https://cdn.jsdelivr.net/gh/bmabey/pyLDAvis@3.3.1/pyLDAvis/js/ldavis.v3.0.0.js\", function(){\n",
              "        new LDAvis(\"#\" + \"ldavis_el2871406605120156967213990214\", ldavis_el2871406605120156967213990214_data);\n",
              "      });\n",
              "    });\n",
              "}else{\n",
              "    // require.js not available: dynamically load d3 & LDAvis\n",
              "    LDAvis_load_lib(\"https://d3js.org/d3.v5.js\", function(){\n",
              "         LDAvis_load_lib(\"https://cdn.jsdelivr.net/gh/bmabey/pyLDAvis@3.3.1/pyLDAvis/js/ldavis.v3.0.0.js\", function(){\n",
              "                 new LDAvis(\"#\" + \"ldavis_el2871406605120156967213990214\", ldavis_el2871406605120156967213990214_data);\n",
              "            })\n",
              "         });\n",
              "}\n",
              "</script>"
            ],
            "text/plain": [
              "PreparedData(topic_coordinates=              x         y  topics  cluster       Freq\n",
              "topic                                                \n",
              "2     -0.006237  0.001687       1        1  59.057321\n",
              "1      0.001445 -0.005560       2        1  26.704388\n",
              "0      0.004792  0.003873       3        1  14.238291, topic_info=               Term         Freq        Total Category  logprob  loglift\n",
              "741         nuclear  5250.000000  5250.000000  Default  30.0000  30.0000\n",
              "1240        weapons  1865.000000  1865.000000  Default  29.0000  29.0000\n",
              "1181         treaty  2275.000000  2275.000000  Default  28.0000  28.0000\n",
              "1040       security  1001.000000  1001.000000  Default  27.0000  27.0000\n",
              "595   international   999.000000   999.000000  Default  26.0000  26.0000\n",
              "...             ...          ...          ...      ...      ...      ...\n",
              "749     obligations    48.181231   315.439491   Topic3  -5.8930   0.0702\n",
              "1029     safeguards    61.078115   564.091030   Topic3  -5.6558  -0.2738\n",
              "690          middle    47.199875   309.432478   Topic3  -5.9136   0.0689\n",
              "522           group    55.301396   464.205199   Topic3  -5.7552  -0.1783\n",
              "1260          would    48.082844   431.594487   Topic3  -5.8950  -0.2453\n",
              "\n",
              "[278 rows x 6 columns], token_table=      Topic      Freq         Term\n",
              "term                              \n",
              "17        1  0.513440   accounting\n",
              "17        2  0.239605   accounting\n",
              "17        3  0.239605   accounting\n",
              "1367      1  0.761792  acquisition\n",
              "1367      2  0.145103  acquisition\n",
              "...     ...       ...          ...\n",
              "1260      2  0.208529        would\n",
              "1260      3  0.111216        would\n",
              "1268      1  0.588385         zone\n",
              "1268      2  0.203819         zone\n",
              "1268      3  0.203819         zone\n",
              "\n",
              "[538 rows x 3 columns], R=30, lambda_step=0.01, plot_opts={'xlab': 'PC1', 'ylab': 'PC2'}, topic_order=[3, 2, 1])"
            ]
          },
          "metadata": {},
          "execution_count": 24
        }
      ]
    }
  ]
}