{
  "nbformat": 4,
  "nbformat_minor": 0,
  "metadata": {
    "colab": {
      "name": "Text as Data Workshop Skeleton Python Code.ipynb",
      "provenance": [],
      "collapsed_sections": [],
      "authorship_tag": "ABX9TyMECBfj2aXokDcT79OOs39X",
      "include_colab_link": true
    },
    "kernelspec": {
      "name": "python3",
      "display_name": "Python 3"
    },
    "language_info": {
      "name": "python"
    }
  },
  "cells": [
    {
      "cell_type": "markdown",
      "metadata": {
        "id": "view-in-github",
        "colab_type": "text"
      },
      "source": [
        "<a href=\"https://colab.research.google.com/github/richeym-umich/UsingTextAsDataWorkshop/blob/main/Text_as_Data_Workshop_Skeleton_Python_Code.ipynb\" target=\"_parent\"><img src=\"https://colab.research.google.com/assets/colab-badge.svg\" alt=\"Open In Colab\"/></a>"
      ]
    },
    {
      "cell_type": "markdown",
      "metadata": {
        "id": "FbHigAo2BeHs"
      },
      "source": [
        "### Analyzing UN Dataset for Topic Modeling\n",
        "This notebook contains the skeleton python code for the Text as Data Workshop. This workbook is meant to be filled in by the user. Please see the github repository for the completed, working code. "
      ]
    },
    {
      "cell_type": "markdown",
      "metadata": {
        "id": "KiO8DT2WRXx6"
      },
      "source": [
        "To analyze the topics present in a group of UN documents, we first have to install the necessary python packages. These packages will allow us to read in the xml data, flatten the xml structure, and organize the data into a dataframe. "
      ]
    },
    {
      "cell_type": "code",
      "metadata": {
        "colab": {
          "base_uri": "https://localhost:8080/"
        },
        "id": "YQrecUJjlVpM",
        "outputId": "01ca12d1-ed35-4ab8-f05b-17dc7044893d"
      },
      "source": [
        "#Install all our necessary packages\n",
        "!pip3 install pandas-read-xml\n",
        "import pandas_read_xml as pdx\n",
        "from pandas_read_xml import flatten, fully_flatten, auto_separate_tables\n",
        "import os\n",
        "from zipfile import ZipFile\n",
        "import pandas as pd\n",
        "!pip3 install contractions"
      ],
      "execution_count": null,
      "outputs": [
        {
          "output_type": "stream",
          "name": "stdout",
          "text": [
            "Collecting pandas-read-xml\n",
            "  Downloading pandas_read_xml-0.3.1-py3-none-any.whl (6.3 kB)\n",
            "Requirement already satisfied: pandas in /usr/local/lib/python3.7/dist-packages (from pandas-read-xml) (1.1.5)\n",
            "Requirement already satisfied: pyarrow in /usr/local/lib/python3.7/dist-packages (from pandas-read-xml) (3.0.0)\n",
            "Collecting urllib3>=1.26.3\n",
            "  Downloading urllib3-1.26.7-py2.py3-none-any.whl (138 kB)\n",
            "\u001b[K     |████████████████████████████████| 138 kB 4.7 MB/s \n",
            "\u001b[?25hCollecting distlib\n",
            "  Downloading distlib-0.3.3-py2.py3-none-any.whl (496 kB)\n",
            "\u001b[K     |████████████████████████████████| 496 kB 20.5 MB/s \n",
            "\u001b[?25hCollecting zipfile36\n",
            "  Downloading zipfile36-0.1.3-py3-none-any.whl (20 kB)\n",
            "Collecting xmltodict\n",
            "  Downloading xmltodict-0.12.0-py2.py3-none-any.whl (9.2 kB)\n",
            "Requirement already satisfied: requests in /usr/local/lib/python3.7/dist-packages (from pandas-read-xml) (2.23.0)\n",
            "Requirement already satisfied: numpy>=1.15.4 in /usr/local/lib/python3.7/dist-packages (from pandas->pandas-read-xml) (1.19.5)\n",
            "Requirement already satisfied: python-dateutil>=2.7.3 in /usr/local/lib/python3.7/dist-packages (from pandas->pandas-read-xml) (2.8.2)\n",
            "Requirement already satisfied: pytz>=2017.2 in /usr/local/lib/python3.7/dist-packages (from pandas->pandas-read-xml) (2018.9)\n",
            "Requirement already satisfied: six>=1.5 in /usr/local/lib/python3.7/dist-packages (from python-dateutil>=2.7.3->pandas->pandas-read-xml) (1.15.0)\n",
            "Requirement already satisfied: chardet<4,>=3.0.2 in /usr/local/lib/python3.7/dist-packages (from requests->pandas-read-xml) (3.0.4)\n",
            "Collecting requests\n",
            "  Downloading requests-2.26.0-py2.py3-none-any.whl (62 kB)\n",
            "\u001b[K     |████████████████████████████████| 62 kB 622 kB/s \n",
            "\u001b[?25hRequirement already satisfied: charset-normalizer~=2.0.0 in /usr/local/lib/python3.7/dist-packages (from requests->pandas-read-xml) (2.0.6)\n",
            "Requirement already satisfied: certifi>=2017.4.17 in /usr/local/lib/python3.7/dist-packages (from requests->pandas-read-xml) (2021.5.30)\n",
            "Requirement already satisfied: idna<4,>=2.5 in /usr/local/lib/python3.7/dist-packages (from requests->pandas-read-xml) (2.10)\n",
            "Installing collected packages: urllib3, zipfile36, xmltodict, requests, distlib, pandas-read-xml\n",
            "  Attempting uninstall: urllib3\n",
            "    Found existing installation: urllib3 1.24.3\n",
            "    Uninstalling urllib3-1.24.3:\n",
            "      Successfully uninstalled urllib3-1.24.3\n",
            "  Attempting uninstall: requests\n",
            "    Found existing installation: requests 2.23.0\n",
            "    Uninstalling requests-2.23.0:\n",
            "      Successfully uninstalled requests-2.23.0\n",
            "\u001b[31mERROR: pip's dependency resolver does not currently take into account all the packages that are installed. This behaviour is the source of the following dependency conflicts.\n",
            "google-colab 1.0.0 requires requests~=2.23.0, but you have requests 2.26.0 which is incompatible.\n",
            "datascience 0.10.6 requires folium==0.2.1, but you have folium 0.8.3 which is incompatible.\u001b[0m\n",
            "Successfully installed distlib-0.3.3 pandas-read-xml-0.3.1 requests-2.26.0 urllib3-1.26.7 xmltodict-0.12.0 zipfile36-0.1.3\n",
            "Collecting contractions\n",
            "  Downloading contractions-0.0.52-py2.py3-none-any.whl (7.2 kB)\n",
            "Collecting textsearch>=0.0.21\n",
            "  Downloading textsearch-0.0.21-py2.py3-none-any.whl (7.5 kB)\n",
            "Collecting anyascii\n",
            "  Downloading anyascii-0.3.0-py3-none-any.whl (284 kB)\n",
            "\u001b[K     |████████████████████████████████| 284 kB 5.2 MB/s \n",
            "\u001b[?25hCollecting pyahocorasick\n",
            "  Downloading pyahocorasick-1.4.2.tar.gz (321 kB)\n",
            "\u001b[K     |████████████████████████████████| 321 kB 54.4 MB/s \n",
            "\u001b[?25hBuilding wheels for collected packages: pyahocorasick\n",
            "  Building wheel for pyahocorasick (setup.py) ... \u001b[?25l\u001b[?25hdone\n",
            "  Created wheel for pyahocorasick: filename=pyahocorasick-1.4.2-cp37-cp37m-linux_x86_64.whl size=85457 sha256=a862f182023f7ff3f6a9088ba2a7b82494bcbfa585a262f6af6ffa88088bf9d5\n",
            "  Stored in directory: /root/.cache/pip/wheels/25/19/a6/8f363d9939162782bb8439d886469756271abc01f76fbd790f\n",
            "Successfully built pyahocorasick\n",
            "Installing collected packages: pyahocorasick, anyascii, textsearch, contractions\n",
            "Successfully installed anyascii-0.3.0 contractions-0.0.52 pyahocorasick-1.4.2 textsearch-0.0.21\n"
          ]
        }
      ]
    },
    {
      "cell_type": "markdown",
      "metadata": {
        "id": "CrxPuJANS1M_"
      },
      "source": [
        "Next, we have to identify the source of the data. To load the data into your workspace, use the upload file in the panel on the left. Then, run this piece of code to unzip the zip file into the workspace. "
      ]
    },
    {
      "cell_type": "code",
      "metadata": {
        "colab": {
          "base_uri": "https://localhost:8080/"
        },
        "id": "Xq035sJElpM_",
        "outputId": "f0dc3bbd-4d22-437b-8113-f9e1113b967b"
      },
      "source": [
        "#Load in the data we'll be working with and unzip it\n",
        "#TODO: indicate file name\n",
        "file_name = #<load zip file into workspace and indicate file name here>#\n",
        "with ZipFile(file_name, 'r') as zipping:\n",
        "  #TODO: extract the zip file\n",
        "  print('unzip done')"
      ],
      "execution_count": null,
      "outputs": [
        {
          "output_type": "stream",
          "name": "stdout",
          "text": [
            "unzip done\n"
          ]
        }
      ]
    },
    {
      "cell_type": "markdown",
      "metadata": {
        "id": "O1H9oo3bXCsk"
      },
      "source": [
        "The body of the text that we're analyzing is located a few layers down within the xml structure. To access it, we need to traverse the xml structure and extract the body text. We then store this text in a dataframe with the name of the file as an identifier. "
      ]
    },
    {
      "cell_type": "code",
      "metadata": {
        "colab": {
          "base_uri": "https://localhost:8080/",
          "height": 1000
        },
        "id": "--VR2Cf-l4hL",
        "outputId": "c14e62a0-cca0-415c-f0de-825897eb31dc"
      },
      "source": [
        "#Walk through our xml directory structure and find the body of text\n",
        "'''TODO: indicate directory name'''\n",
        "directory = #<directory name here>#\n",
        "paragraphs = []\n",
        "for filename in os.listdir(directory):\n",
        "  xmlFilename = os.path.join(directory, filename)\n",
        "  print(xmlFilename)\n",
        "  if os.path.isdir(xmlFilename):\n",
        "    continue\n",
        "\n",
        "  '''TODO: Read in text\n",
        "  example: df = pdx.read_xml(<name of file>, [<level to read>], encoding='utf8')'''\n",
        "\n",
        "  '''TODO: Flatten data to get text and drop unecessary columns\n",
        "  example: df = fully_flatten(df, [<level to flatten to>])\n",
        "  example: df = df.drop([<columns to drop>], axis=<axis to drop>)'''\n",
        "  \n",
        "  '''TODO: for readability, change the name of the column'''\n",
        "  \n",
        "  '''TODO: for each line in the dataframe, combine all the text into a paragraph. Then, add the paragraph to the list of paragraphs defined above\n",
        "  in the form of a list, where the list contains [<filename>, <paragraph>]'''\n",
        "\n",
        "'''TODO: turn the paragraphs list into a dataframe'''\n",
        "\n",
        "'''TODO: rename columns to be 'filename', 'text''''\n",
        "\n",
        "'''\n",
        "Final output should look like the following:\n",
        "    filename      text\n",
        "0   file1.xml     text from file 1\n",
        "1   file2.xml     text from file 2\n",
        "2   file3.xml     text from file 3\n",
        "... ...           ...\n",
        "'''"
      ],
      "execution_count": null,
      "outputs": [
        {
          "output_type": "stream",
          "name": "stdout",
          "text": [
            "pc_iii/wp_6.xml\n",
            "pc_iii/20.xml\n",
            "pc_iii/14.xml\n",
            "pc_iii/wp_39.xml\n",
            "pc_iii/15.xml\n",
            "pc_iii/wp_18.xml\n",
            "pc_iii/sr_6.xml\n",
            "pc_iii/18.xml\n",
            "pc_iii/wp_13.xml\n",
            "pc_iii/wp_41.xml\n",
            "pc_iii/sr_17.xml\n",
            "pc_iii/wp_20.xml\n",
            "pc_iii/9.xml\n",
            "pc_iii/wp_28.xml\n",
            "pc_iii/wp_30.xml\n",
            "pc_iii/wp_10.xml\n",
            "pc_iii/16.xml\n",
            "pc_iii/wp_17.xml\n",
            "pc_iii/wp_31.xml\n",
            "pc_iii/wp_8.xml\n",
            "pc_iii/wp_9.xml\n",
            "pc_iii/wp_21.xml\n",
            "pc_iii/wp_29.xml\n",
            "pc_iii/3.xml\n",
            "pc_iii/wp_43.xml\n",
            "pc_iii/6.xml\n",
            "pc_iii/21.xml\n",
            "pc_iii/wp_19.xml\n",
            "pc_iii/wp_46.xml\n",
            "pc_iii/wp_24.xml\n",
            "pc_iii/wp_26.xml\n",
            "pc_iii/wp_16.xml\n",
            "pc_iii/wp_32.xml\n",
            "pc_iii/wp_35.xml\n",
            "pc_iii/wp_5.xml\n",
            "pc_iii/19.xml\n",
            "pc_iii/wp_34.xml\n",
            "pc_iii/wp_25.xml\n",
            "pc_iii/1.xml\n",
            "pc_iii/10.xml\n",
            "pc_iii/wp_36.xml\n",
            "pc_iii/wp_15.xml\n",
            "pc_iii/sr_3.xml\n",
            "pc_iii/2.xml\n",
            "pc_iii/wp_2.xml\n",
            "pc_iii/sr_5.xml\n",
            "pc_iii/wp_38.xml\n",
            "pc_iii/wp_14.xml\n",
            "pc_iii/11.xml\n",
            "pc_iii/wp_3.xml\n",
            "pc_iii/wp_45.xml\n",
            "pc_iii/wp_22.xml\n",
            "pc_iii/12.xml\n",
            "pc_iii/17.xml\n",
            "pc_iii/wp_23.xml\n",
            "pc_iii/wp_12.xml\n",
            "pc_iii/wp_44.xml\n",
            "pc_iii/wp_40.xml\n",
            "pc_iii/13.xml\n",
            "pc_iii/8.xml\n",
            "pc_iii/wp_11.xml\n",
            "pc_iii/wp_1.xml\n",
            "pc_iii/4.xml\n",
            "pc_iii/wp_42.xml\n",
            "pc_iii/wp_33.xml\n",
            "pc_iii/wp_7.xml\n",
            "pc_iii/5.xml\n",
            "pc_iii/wp_27.xml\n",
            "pc_iii/sr_2.xml\n",
            "pc_iii/7.xml\n",
            "pc_iii/wp_37.xml\n"
          ]
        },
        {
          "output_type": "execute_result",
          "data": {
            "text/html": [
              "<div>\n",
              "<style scoped>\n",
              "    .dataframe tbody tr th:only-of-type {\n",
              "        vertical-align: middle;\n",
              "    }\n",
              "\n",
              "    .dataframe tbody tr th {\n",
              "        vertical-align: top;\n",
              "    }\n",
              "\n",
              "    .dataframe thead th {\n",
              "        text-align: right;\n",
              "    }\n",
              "</style>\n",
              "<table border=\"1\" class=\"dataframe\">\n",
              "  <thead>\n",
              "    <tr style=\"text-align: right;\">\n",
              "      <th></th>\n",
              "      <th>filename</th>\n",
              "      <th>text</th>\n",
              "    </tr>\n",
              "  </thead>\n",
              "  <tbody>\n",
              "    <tr>\n",
              "      <th>0</th>\n",
              "      <td>wp_6.xml</td>\n",
              "      <td>2. Action 5 of the action plan adopted at the ...</td>\n",
              "    </tr>\n",
              "    <tr>\n",
              "      <th>1</th>\n",
              "      <td>20.xml</td>\n",
              "      <td>2. The present report describes the activities...</td>\n",
              "    </tr>\n",
              "    <tr>\n",
              "      <th>2</th>\n",
              "      <td>14.xml</td>\n",
              "      <td>As indicated in the action plan of the 2010 Re...</td>\n",
              "    </tr>\n",
              "    <tr>\n",
              "      <th>3</th>\n",
              "      <td>wp_39.xml</td>\n",
              "      <td>Nuclear disarmament, non-proliferation and the...</td>\n",
              "    </tr>\n",
              "    <tr>\n",
              "      <th>4</th>\n",
              "      <td>15.xml</td>\n",
              "      <td>2. Action 21 states that \"as a confidence-buil...</td>\n",
              "    </tr>\n",
              "  </tbody>\n",
              "</table>\n",
              "</div>"
            ],
            "text/plain": [
              "    filename                                               text\n",
              "0   wp_6.xml  2. Action 5 of the action plan adopted at the ...\n",
              "1     20.xml  2. The present report describes the activities...\n",
              "2     14.xml  As indicated in the action plan of the 2010 Re...\n",
              "3  wp_39.xml  Nuclear disarmament, non-proliferation and the...\n",
              "4     15.xml  2. Action 21 states that \"as a confidence-buil..."
            ]
          },
          "metadata": {},
          "execution_count": 12
        }
      ]
    },
    {
      "cell_type": "markdown",
      "metadata": {
        "id": "7qZ5onIsXThu"
      },
      "source": [
        "Now we can start our data processing. First, we import some packages from nltk. We also define some utility functions. "
      ]
    },
    {
      "cell_type": "code",
      "metadata": {
        "colab": {
          "base_uri": "https://localhost:8080/",
          "height": 345
        },
        "id": "GktjFXp3vEyy",
        "outputId": "b4d5efb7-24e7-4850-cbfb-a994e59b23f3"
      },
      "source": [
        "#Import libraries necessary for processing text\n",
        "import string\n",
        "import contractions\n",
        "import nltk\n",
        "nltk.download('stopwords')\n",
        "from nltk.corpus import stopwords\n",
        "from nltk.stem import PorterStemmer\n",
        "from nltk.stem import WordNetLemmatizer\n",
        "from nltk.tokenize import TweetTokenizer\n",
        "from nltk.corpus import stopwords\n",
        "from nltk.corpus import wordnet\n",
        "nltk.download('wordnet')\n",
        "nltk.download('averaged_perceptron_tagger')\n",
        "\n",
        "#Utility functions to get part of speech and key words\n",
        "def get_wordnet_pos(word):\n",
        "    tag = nltk.pos_tag([word])[0][1][0].upper()\n",
        "    tag_dict = {\"J\": wordnet.ADJ,\n",
        "                \"N\": wordnet.NOUN,\n",
        "                \"V\": wordnet.VERB,\n",
        "                \"R\": wordnet.ADV}\n",
        "\n",
        "    return tag_dict.get(tag, wordnet.NOUN)\n",
        "\n",
        "def get_key_words(comment):\n",
        "    '''TODO: Use the tweet tokenizer to tokenize the comment'''\n",
        "    words = #<tweet tokenizer here>#\n",
        "    '''TODO: Only keep words of length 3 or longer'''\n",
        "    words = #<modify list here>#\n",
        "    '''TODO: Get rid of stopwords'''\n",
        "    words = #<modify list here>#\n",
        "    '''TODO: Use the wordnet lemmatizer to lemmatize each word according to its word position (using utility function)\n",
        "    example: lemmatize(word, get_wordnet_pos(word))'''\n",
        "\n",
        "    return words"
      ],
      "execution_count": null,
      "outputs": [
        {
          "output_type": "stream",
          "name": "stdout",
          "text": [
            "[nltk_data] Downloading package stopwords to /root/nltk_data...\n",
            "[nltk_data]   Package stopwords is already up-to-date!\n",
            "[nltk_data] Downloading package wordnet to /root/nltk_data...\n",
            "[nltk_data]   Package wordnet is already up-to-date!\n",
            "[nltk_data] Downloading package averaged_perceptron_tagger to\n",
            "[nltk_data]     /root/nltk_data...\n",
            "[nltk_data]   Package averaged_perceptron_tagger is already up-to-\n",
            "[nltk_data]       date!\n"
          ]
        },
        {
          "output_type": "execute_result",
          "data": {
            "text/html": [
              "<div>\n",
              "<style scoped>\n",
              "    .dataframe tbody tr th:only-of-type {\n",
              "        vertical-align: middle;\n",
              "    }\n",
              "\n",
              "    .dataframe tbody tr th {\n",
              "        vertical-align: top;\n",
              "    }\n",
              "\n",
              "    .dataframe thead th {\n",
              "        text-align: right;\n",
              "    }\n",
              "</style>\n",
              "<table border=\"1\" class=\"dataframe\">\n",
              "  <thead>\n",
              "    <tr style=\"text-align: right;\">\n",
              "      <th></th>\n",
              "      <th>filename</th>\n",
              "      <th>text</th>\n",
              "      <th>keywords</th>\n",
              "    </tr>\n",
              "  </thead>\n",
              "  <tbody>\n",
              "    <tr>\n",
              "      <th>0</th>\n",
              "      <td>wp_6.xml</td>\n",
              "      <td>2 action 5 of the action plan adopted at the 2...</td>\n",
              "      <td>[action, action, plan, adopt, 2010, review, co...</td>\n",
              "    </tr>\n",
              "    <tr>\n",
              "      <th>1</th>\n",
              "      <td>20.xml</td>\n",
              "      <td>2 the present report describes the activities ...</td>\n",
              "      <td>[present, report, describes, activity, netherl...</td>\n",
              "    </tr>\n",
              "    <tr>\n",
              "      <th>2</th>\n",
              "      <td>14.xml</td>\n",
              "      <td>as indicated in the action plan of the 2010 re...</td>\n",
              "      <td>[indicate, action, plan, 2010, review, confere...</td>\n",
              "    </tr>\n",
              "    <tr>\n",
              "      <th>3</th>\n",
              "      <td>wp_39.xml</td>\n",
              "      <td>nuclear disarmament nonproliferation and the p...</td>\n",
              "      <td>[nuclear, disarmament, nonproliferation, peace...</td>\n",
              "    </tr>\n",
              "    <tr>\n",
              "      <th>4</th>\n",
              "      <td>15.xml</td>\n",
              "      <td>2 action 21 states that as a confidencebuildin...</td>\n",
              "      <td>[action, state, confidencebuilding, measure, n...</td>\n",
              "    </tr>\n",
              "  </tbody>\n",
              "</table>\n",
              "</div>"
            ],
            "text/plain": [
              "    filename  ...                                           keywords\n",
              "0   wp_6.xml  ...  [action, action, plan, adopt, 2010, review, co...\n",
              "1     20.xml  ...  [present, report, describes, activity, netherl...\n",
              "2     14.xml  ...  [indicate, action, plan, 2010, review, confere...\n",
              "3  wp_39.xml  ...  [nuclear, disarmament, nonproliferation, peace...\n",
              "4     15.xml  ...  [action, state, confidencebuilding, measure, n...\n",
              "\n",
              "[5 rows x 3 columns]"
            ]
          },
          "metadata": {},
          "execution_count": 13
        }
      ]
    },
    {
      "cell_type": "markdown",
      "metadata": {
        "id": "upGkXZSCXyy3"
      },
      "source": [
        "The next few lines of code manipulate and clean the text. We convert all text to lowercase and expand contractions. We also remove punctuation and stopwords. "
      ]
    },
    {
      "cell_type": "code",
      "metadata": {
        "id": "lW02AYAgXsbN"
      },
      "source": [
        "#Manipulate text to get clean output\n",
        "'''TODO: Convert all text to lowercase'''\n",
        "\n",
        "#Expand contractions\n",
        "'''TODO: Expand all contractions\n",
        "example: contractions.fix(word)'''\n",
        "\n",
        "#Remove all punctuation\n",
        "'''TODO: Remove punctuation using the string translate and string.punctuation functions'''\n",
        "\n",
        "#Get a list of stopwords and apply to get_key_words\n",
        "stopwords  = [w.lower() for w in list(stopwords.words('english'))]\n",
        "'''TODO: Apply the get_key_words function to the text'''\n",
        "\n",
        "paragraphDF.head()"
      ],
      "execution_count": null,
      "outputs": []
    },
    {
      "cell_type": "markdown",
      "metadata": {
        "id": "XoVPP4k7X-IL"
      },
      "source": [
        "Finally, we identify the unigrams, bigrams, and trigrams in the text. For each text, we identify the n-grams, and then count the number of times it occurs in that text. After analyzing all the data, we graph the results. "
      ]
    },
    {
      "cell_type": "code",
      "metadata": {
        "colab": {
          "base_uri": "https://localhost:8080/",
          "height": 1000
        },
        "id": "9dKyoStxeE-T",
        "outputId": "b979e27c-0008-4889-8ce3-39efc82973da"
      },
      "source": [
        "#Libraries needed for analysis\n",
        "import collections\n",
        "from collections import Counter\n",
        "from decimal import Decimal\n",
        "import matplotlib.pyplot as plt\n",
        "\n",
        "#We will be gathering unigrams, bigrams, and trigrams\n",
        "N = 3 #N-grams\n",
        "#Looking at the top 10 results for each n-gram\n",
        "T = 10 #Max top words\n",
        "\n",
        "#Utility function to form n-grams\n",
        "def n_grams(kw, n):\n",
        "    output = []\n",
        "    for i in range(len(kw)-n+1):\n",
        "        output.append(kw[i:i+n])\n",
        "    return output\n",
        "\n",
        "#Loop through each length of n-gram, form keywords, and count the occurrences of each\n",
        "for n in range(1, N+1):\n",
        "    '''TODO: Get keywords in list form'''\n",
        "    key_words = #<convert to list>#\n",
        "    '''TODO: Use utility function to get list of ngrams'''\n",
        "    key_words = #<convert to list of ngrams>#\n",
        "    \n",
        "    #Save keywords into a separate variable and manipulate storage\n",
        "    row_key_words = key_words\n",
        "    key_words = [[each_word] for each_list in key_words for each_word in each_list]\n",
        "\n",
        "    '''TODO: Count the occurrence of the ngrams'''\n",
        "    count = #<count ngrams>#\n",
        "    '''TODO: Sort ngrams according to occurrence\n",
        "    example: sorted(items, key=lambda function, reverse=True)'''\n",
        "    count = #<fill in here>#\n",
        "\n",
        "    #Manipulate data for graphing\n",
        "    count = [(c[0][0],c[1]) for c in count]\n",
        "    data = count[:T]\n",
        "    x, y = zip(*data)\n",
        "\n",
        "    #Format data into plotting\n",
        "    most_important_words = list(x)\n",
        "    allMatches = []\n",
        "    for row in row_key_words:\n",
        "      matches = []\n",
        "      for word in most_important_words:\n",
        "        if word in row:\n",
        "          matches.append(word)\n",
        "      allMatches.append(matches)\n",
        "    columnName = str(n) + '-grams'\n",
        "    paragraphDF[columnName] = allMatches\n",
        "\n",
        "    plt.bar(x,y)\n",
        "    plt.xticks(rotation = 90)\n",
        "    plt.show()\n",
        "    sumc = sum([c[1] for c in count])\n",
        "    def get_sci_val(x):\n",
        "        x = round(x/sumc, 6)\n",
        "        x = \"{:.2E}\".format(Decimal(x))\n",
        "        return x\n",
        "    count = [(c[0],c[1],get_sci_val(c[1])) for c in count]\n",
        "    print(\"{}-grams(word,count,perentage):\\n{}\\n\".format(n,count[:T]))"
      ],
      "execution_count": null,
      "outputs": [
        {
          "output_type": "display_data",
          "data": {
            "image/png": "[encoded data removed]",
            "text/plain": [
              "<Figure size 432x288 with 1 Axes>"
            ]
          },
          "metadata": {
            "needs_background": "light"
          }
        },
        {
          "output_type": "stream",
          "name": "stdout",
          "text": [
            "1-grams(word,count,perentage):\n",
            "[('nuclear', 5464, '4.39E-2'), ('state', 2976, '2.39E-2'), ('treaty', 2489, '2.00E-2'), ('weapon', 2019, '1.62E-2'), ('conference', 1378, '1.11E-2'), ('disarmament', 1152, '9.26E-3'), ('nonproliferation', 1098, '8.82E-3'), ('security', 1086, '8.73E-3'), ('international', 1057, '8.49E-3'), ('party', 1050, '8.44E-3')]\n",
            "\n"
          ]
        },
        {
          "output_type": "display_data",
          "data": {
            "image/png": "[encoded data removed]",
            "text/plain": [
              "<Figure size 432x288 with 1 Axes>"
            ]
          },
          "metadata": {
            "needs_background": "light"
          }
        },
        {
          "output_type": "stream",
          "name": "stdout",
          "text": [
            "2-grams(word,count,perentage):\n",
            "[('nuclear weapon', 1652, '1.33E-2'), ('state party', 774, '6.22E-3'), ('review conference', 618, '4.97E-3'), ('nuclear disarmament', 587, '4.72E-3'), ('nuclearweapon state', 535, '4.30E-3'), ('party treaty', 480, '3.86E-3'), ('united state', 379, '3.05E-3'), ('nuclear energy', 366, '2.94E-3'), ('nuclear security', 327, '2.63E-3'), ('middle east', 318, '2.56E-3')]\n",
            "\n"
          ]
        },
        {
          "output_type": "display_data",
          "data": {
            "image/png": "[encoded data removed]",
            "text/plain": [
              "<Figure size 432x288 with 1 Axes>"
            ]
          },
          "metadata": {
            "needs_background": "light"
          }
        },
        {
          "output_type": "stream",
          "name": "stdout",
          "text": [
            "3-grams(word,count,perentage):\n",
            "[('state party treaty', 336, '2.70E-3'), ('nonproliferation nuclear weapon', 252, '2.03E-3'), ('2010 review conference', 234, '1.88E-3'), ('treaty nonproliferation nuclear', 229, '1.84E-3'), ('comprehensive nucleartestban treaty', 186, '1.50E-3'), ('2015 review conference', 175, '1.41E-3'), ('peaceful us nuclear', 160, '1.29E-3'), ('weapon mass destruction', 156, '1.26E-3'), ('islamic republic iran', 151, '1.21E-3'), ('us nuclear energy', 145, '1.17E-3')]\n",
            "\n"
          ]
        }
      ]
    },
    {
      "cell_type": "code",
      "metadata": {
        "id": "eGln5G9xgha9",
        "colab": {
          "base_uri": "https://localhost:8080/",
          "height": 589
        },
        "outputId": "594f4eef-7dd1-47a0-c771-c7a5ab8abb45"
      },
      "source": [
        "paragraphDF"
      ],
      "execution_count": null,
      "outputs": [
        {
          "output_type": "execute_result",
          "data": {
            "text/html": [
              "<div>\n",
              "<style scoped>\n",
              "    .dataframe tbody tr th:only-of-type {\n",
              "        vertical-align: middle;\n",
              "    }\n",
              "\n",
              "    .dataframe tbody tr th {\n",
              "        vertical-align: top;\n",
              "    }\n",
              "\n",
              "    .dataframe thead th {\n",
              "        text-align: right;\n",
              "    }\n",
              "</style>\n",
              "<table border=\"1\" class=\"dataframe\">\n",
              "  <thead>\n",
              "    <tr style=\"text-align: right;\">\n",
              "      <th></th>\n",
              "      <th>filename</th>\n",
              "      <th>text</th>\n",
              "      <th>keywords</th>\n",
              "      <th>1-grams</th>\n",
              "      <th>2-grams</th>\n",
              "      <th>3-grams</th>\n",
              "    </tr>\n",
              "  </thead>\n",
              "  <tbody>\n",
              "    <tr>\n",
              "      <th>0</th>\n",
              "      <td>sr_2.xml</td>\n",
              "      <td>1 mr motta pinto coelho brazil said that the p...</td>\n",
              "      <td>[motta, pinto, coelho, brazil, said, primary, ...</td>\n",
              "      <td>[nuclear, state, treaty, weapon, conference, d...</td>\n",
              "      <td>[nuclear weapon, state party, review conferenc...</td>\n",
              "      <td>[state party treaty, nonproliferation nuclear ...</td>\n",
              "    </tr>\n",
              "    <tr>\n",
              "      <th>1</th>\n",
              "      <td>wp_31.xml</td>\n",
              "      <td>1 nuclear disarmament forms one of the fundame...</td>\n",
              "      <td>[nuclear, disarmament, form, fundamental, pill...</td>\n",
              "      <td>[nuclear, state, treaty, weapon, conference, d...</td>\n",
              "      <td>[nuclear weapon, state party, review conferenc...</td>\n",
              "      <td>[state party treaty, nonproliferation nuclear ...</td>\n",
              "    </tr>\n",
              "    <tr>\n",
              "      <th>2</th>\n",
              "      <td>wp_2.xml</td>\n",
              "      <td>nonproliferation of nuclear weapons reaffirms ...</td>\n",
              "      <td>[nonproliferation, nuclear, weapon, reaffirms,...</td>\n",
              "      <td>[nuclear, state, treaty, weapon, conference, d...</td>\n",
              "      <td>[nuclear weapon, state party, review conferenc...</td>\n",
              "      <td>[state party treaty, nonproliferation nuclear ...</td>\n",
              "    </tr>\n",
              "    <tr>\n",
              "      <th>3</th>\n",
              "      <td>12.xml</td>\n",
              "      <td>1 article vii of the treaty on the nonprolifer...</td>\n",
              "      <td>[article, treaty, nonproliferation, nuclear, w...</td>\n",
              "      <td>[nuclear, state, treaty, weapon, conference, d...</td>\n",
              "      <td>[nuclear weapon, state party, review conferenc...</td>\n",
              "      <td>[state party treaty, nonproliferation nuclear ...</td>\n",
              "    </tr>\n",
              "    <tr>\n",
              "      <th>4</th>\n",
              "      <td>wp_41.xml</td>\n",
              "      <td>nuclear disarmament and nonproliferation and t...</td>\n",
              "      <td>[nuclear, disarmament, nonproliferation, peace...</td>\n",
              "      <td>[nuclear, state, treaty, weapon, disarmament, ...</td>\n",
              "      <td>[nuclear weapon, state party, nuclear disarmam...</td>\n",
              "      <td>[state party treaty, nonproliferation nuclear ...</td>\n",
              "    </tr>\n",
              "    <tr>\n",
              "      <th>...</th>\n",
              "      <td>...</td>\n",
              "      <td>...</td>\n",
              "      <td>...</td>\n",
              "      <td>...</td>\n",
              "      <td>...</td>\n",
              "      <td>...</td>\n",
              "    </tr>\n",
              "    <tr>\n",
              "      <th>66</th>\n",
              "      <td>wp_16.xml</td>\n",
              "      <td>1 the group of nonaligned states parties to th...</td>\n",
              "      <td>[group, nonaligned, state, party, treaty, nonp...</td>\n",
              "      <td>[nuclear, state, treaty, weapon, conference, d...</td>\n",
              "      <td>[nuclear weapon, state party, review conferenc...</td>\n",
              "      <td>[state party treaty, nonproliferation nuclear ...</td>\n",
              "    </tr>\n",
              "    <tr>\n",
              "      <th>67</th>\n",
              "      <td>wp_17.xml</td>\n",
              "      <td>nonproliferation of nuclear weapons emphasizes...</td>\n",
              "      <td>[nonproliferation, nuclear, weapon, emphasizes...</td>\n",
              "      <td>[nuclear, state, treaty, weapon, conference, d...</td>\n",
              "      <td>[nuclear weapon, state party, review conferenc...</td>\n",
              "      <td>[state party treaty, nonproliferation nuclear ...</td>\n",
              "    </tr>\n",
              "    <tr>\n",
              "      <th>68</th>\n",
              "      <td>20.xml</td>\n",
              "      <td>2 the present report describes the activities ...</td>\n",
              "      <td>[present, report, describes, activity, netherl...</td>\n",
              "      <td>[nuclear, state, treaty, weapon, conference, d...</td>\n",
              "      <td>[nuclear weapon, review conference, nuclear di...</td>\n",
              "      <td>[nonproliferation nuclear weapon, 2010 review ...</td>\n",
              "    </tr>\n",
              "    <tr>\n",
              "      <th>69</th>\n",
              "      <td>3.xml</td>\n",
              "      <td>1 the present report is submitted pursuant to ...</td>\n",
              "      <td>[present, report, submitted, pursuant, action,...</td>\n",
              "      <td>[nuclear, state, treaty, weapon, conference, d...</td>\n",
              "      <td>[nuclear weapon, state party, review conferenc...</td>\n",
              "      <td>[state party treaty, nonproliferation nuclear ...</td>\n",
              "    </tr>\n",
              "    <tr>\n",
              "      <th>70</th>\n",
              "      <td>wp_9.xml</td>\n",
              "      <td>3 the present paper will focus on the fulfilme...</td>\n",
              "      <td>[present, paper, focus, fulfilment, action, 20...</td>\n",
              "      <td>[nuclear, state, treaty, weapon, conference, d...</td>\n",
              "      <td>[nuclear weapon, state party, review conferenc...</td>\n",
              "      <td>[nonproliferation nuclear weapon, 2010 review ...</td>\n",
              "    </tr>\n",
              "  </tbody>\n",
              "</table>\n",
              "<p>71 rows × 6 columns</p>\n",
              "</div>"
            ],
            "text/plain": [
              "     filename  ...                                            3-grams\n",
              "0    sr_2.xml  ...  [state party treaty, nonproliferation nuclear ...\n",
              "1   wp_31.xml  ...  [state party treaty, nonproliferation nuclear ...\n",
              "2    wp_2.xml  ...  [state party treaty, nonproliferation nuclear ...\n",
              "3      12.xml  ...  [state party treaty, nonproliferation nuclear ...\n",
              "4   wp_41.xml  ...  [state party treaty, nonproliferation nuclear ...\n",
              "..        ...  ...                                                ...\n",
              "66  wp_16.xml  ...  [state party treaty, nonproliferation nuclear ...\n",
              "67  wp_17.xml  ...  [state party treaty, nonproliferation nuclear ...\n",
              "68     20.xml  ...  [nonproliferation nuclear weapon, 2010 review ...\n",
              "69      3.xml  ...  [state party treaty, nonproliferation nuclear ...\n",
              "70   wp_9.xml  ...  [nonproliferation nuclear weapon, 2010 review ...\n",
              "\n",
              "[71 rows x 6 columns]"
            ]
          },
          "metadata": {
            "tags": []
          },
          "execution_count": 47
        }
      ]
    }
  ]
}