{
  "nbformat": 4,
  "nbformat_minor": 0,
  "metadata": {
    "colab": {
      "name": "UNData.ipynb",
      "provenance": [],
      "collapsed_sections": [],
      "authorship_tag": "ABX9TyMU2TY2dpwbXYkzHxaVPKXD",
      "include_colab_link": true
    },
    "kernelspec": {
      "name": "python3",
      "display_name": "Python 3"
    },
    "language_info": {
      "name": "python"
    }
  },
  "cells": [
    {
      "cell_type": "markdown",
      "metadata": {
        "id": "view-in-github",
        "colab_type": "text"
      },
      "source": [
        "<a href=\"https://colab.research.google.com/github/richeym-umich/UsingTextAsDataWorkshop/blob/main/UNData.ipynb\" target=\"_parent\"><img src=\"https://colab.research.google.com/assets/colab-badge.svg\" alt=\"Open In Colab\"/></a>"
      ]
    },
    {
      "cell_type": "code",
      "metadata": {
        "colab": {
          "base_uri": "https://localhost:8080/"
        },
        "id": "YQrecUJjlVpM",
        "outputId": "3e30acbd-003f-46bb-ca5c-26140ad568ee"
      },
      "source": [
        "!pip3 install pandas-read-xml\n",
        "import pandas_read_xml as pdx\n",
        "from pandas_read_xml import flatten, fully_flatten, auto_separate_tables\n",
        "import os\n",
        "from zipfile import ZipFile\n",
        "import pandas as pd\n",
        "!pip3 install contractions"
      ],
      "execution_count": null,
      "outputs": [
        {
          "output_type": "stream",
          "text": [
            "Collecting pandas-read-xml\n",
            "  Downloading https://files.pythonhosted.org/packages/dd/67/033ecb058eb44bfabc1f1b4f92e4a80f59c9b423c442255a56e1826776b5/pandas_read_xml-0.3.1-py3-none-any.whl\n",
            "Collecting xmltodict\n",
            "  Downloading https://files.pythonhosted.org/packages/28/fd/30d5c1d3ac29ce229f6bdc40bbc20b28f716e8b363140c26eff19122d8a5/xmltodict-0.12.0-py2.py3-none-any.whl\n",
            "Requirement already satisfied: requests in /usr/local/lib/python3.7/dist-packages (from pandas-read-xml) (2.23.0)\n",
            "Collecting urllib3>=1.26.3\n",
            "\u001b[?25l  Downloading https://files.pythonhosted.org/packages/5f/64/43575537846896abac0b15c3e5ac678d787a4021e906703f1766bfb8ea11/urllib3-1.26.6-py2.py3-none-any.whl (138kB)\n",
            "\u001b[K     |████████████████████████████████| 143kB 6.6MB/s \n",
            "\u001b[?25hRequirement already satisfied: pyarrow in /usr/local/lib/python3.7/dist-packages (from pandas-read-xml) (3.0.0)\n",
            "Requirement already satisfied: pandas in /usr/local/lib/python3.7/dist-packages (from pandas-read-xml) (1.1.5)\n",
            "Collecting zipfile36\n",
            "  Downloading https://files.pythonhosted.org/packages/fd/8a/3b7da0b0bd87d1ef05b74207827c72d348b56a0d6d83242582be18a81e02/zipfile36-0.1.3-py3-none-any.whl\n",
            "Collecting distlib\n",
            "\u001b[?25l  Downloading https://files.pythonhosted.org/packages/87/26/f6a23dd3e578132cf924e0dd5d4e055af0cd4ab43e2a9f10b7568bfb39d9/distlib-0.3.2-py2.py3-none-any.whl (338kB)\n",
            "\u001b[K     |████████████████████████████████| 348kB 17.7MB/s \n",
            "\u001b[?25hRequirement already satisfied: chardet<4,>=3.0.2 in /usr/local/lib/python3.7/dist-packages (from requests->pandas-read-xml) (3.0.4)\n",
            "Requirement already satisfied: certifi>=2017.4.17 in /usr/local/lib/python3.7/dist-packages (from requests->pandas-read-xml) (2021.5.30)\n",
            "Requirement already satisfied: idna<3,>=2.5 in /usr/local/lib/python3.7/dist-packages (from requests->pandas-read-xml) (2.10)\n",
            "Requirement already satisfied: numpy>=1.16.6 in /usr/local/lib/python3.7/dist-packages (from pyarrow->pandas-read-xml) (1.19.5)\n",
            "Requirement already satisfied: pytz>=2017.2 in /usr/local/lib/python3.7/dist-packages (from pandas->pandas-read-xml) (2018.9)\n",
            "Requirement already satisfied: python-dateutil>=2.7.3 in /usr/local/lib/python3.7/dist-packages (from pandas->pandas-read-xml) (2.8.1)\n",
            "Requirement already satisfied: six>=1.5 in /usr/local/lib/python3.7/dist-packages (from python-dateutil>=2.7.3->pandas->pandas-read-xml) (1.15.0)\n",
            "\u001b[31mERROR: requests 2.23.0 has requirement urllib3!=1.25.0,!=1.25.1,<1.26,>=1.21.1, but you'll have urllib3 1.26.6 which is incompatible.\u001b[0m\n",
            "\u001b[31mERROR: datascience 0.10.6 has requirement folium==0.2.1, but you'll have folium 0.8.3 which is incompatible.\u001b[0m\n",
            "Installing collected packages: xmltodict, urllib3, zipfile36, distlib, pandas-read-xml\n",
            "  Found existing installation: urllib3 1.24.3\n",
            "    Uninstalling urllib3-1.24.3:\n",
            "      Successfully uninstalled urllib3-1.24.3\n",
            "Successfully installed distlib-0.3.2 pandas-read-xml-0.3.1 urllib3-1.26.6 xmltodict-0.12.0 zipfile36-0.1.3\n"
          ],
          "name": "stdout"
        },
        {
          "output_type": "stream",
          "text": [
            "/usr/local/lib/python3.7/dist-packages/requests/__init__.py:91: RequestsDependencyWarning: urllib3 (1.26.6) or chardet (3.0.4) doesn't match a supported version!\n",
            "  RequestsDependencyWarning)\n"
          ],
          "name": "stderr"
        },
        {
          "output_type": "stream",
          "text": [
            "Collecting contractions\n",
            "  Downloading https://files.pythonhosted.org/packages/93/f4/0ec4a458e4368cc3be2c799411ecf0bc961930e566dadb9624563821b3a6/contractions-0.0.52-py2.py3-none-any.whl\n",
            "Collecting textsearch>=0.0.21\n",
            "  Downloading https://files.pythonhosted.org/packages/d3/fe/021d7d76961b5ceb9f8d022c4138461d83beff36c3938dc424586085e559/textsearch-0.0.21-py2.py3-none-any.whl\n",
            "Collecting anyascii\n",
            "\u001b[?25l  Downloading https://files.pythonhosted.org/packages/a3/14/666cd44bf53f36a961544af592cb5c5c800013f9c51a4745af8d7c17362a/anyascii-0.2.0-py3-none-any.whl (283kB)\n",
            "\u001b[K     |████████████████████████████████| 286kB 10.7MB/s \n",
            "\u001b[?25hCollecting pyahocorasick\n",
            "\u001b[?25l  Downloading https://files.pythonhosted.org/packages/7f/c2/eae730037ae1cbbfaa229d27030d1d5e34a1e41114b21447d1202ae9c220/pyahocorasick-1.4.2.tar.gz (321kB)\n",
            "\u001b[K     |████████████████████████████████| 327kB 36.5MB/s \n",
            "\u001b[?25hBuilding wheels for collected packages: pyahocorasick\n",
            "  Building wheel for pyahocorasick (setup.py) ... \u001b[?25l\u001b[?25hdone\n",
            "  Created wheel for pyahocorasick: filename=pyahocorasick-1.4.2-cp37-cp37m-linux_x86_64.whl size=85402 sha256=949ec659ce8888a783fd99b01f0e07280e7a9167fa63e76143b6beac69064600\n",
            "  Stored in directory: /root/.cache/pip/wheels/3a/03/34/77e3ece0bba8b86bfac88a79f923b36d805cad63caeba38842\n",
            "Successfully built pyahocorasick\n",
            "Installing collected packages: anyascii, pyahocorasick, textsearch, contractions\n",
            "Successfully installed anyascii-0.2.0 contractions-0.0.52 pyahocorasick-1.4.2 textsearch-0.0.21\n"
          ],
          "name": "stdout"
        }
      ]
    },
    {
      "cell_type": "code",
      "metadata": {
        "colab": {
          "base_uri": "https://localhost:8080/"
        },
        "id": "Xq035sJElpM_",
        "outputId": "e9362e89-d090-4450-defb-993c98ba4054"
      },
      "source": [
        "file_name = 'pc_iii.zip'\n",
        "with ZipFile(file_name, 'r') as zipping:\n",
        "  zipping.extractall()\n",
        "  print('unzip done')"
      ],
      "execution_count": null,
      "outputs": [
        {
          "output_type": "stream",
          "text": [
            "unzip done\n"
          ],
          "name": "stdout"
        }
      ]
    },
    {
      "cell_type": "code",
      "metadata": {
        "colab": {
          "base_uri": "https://localhost:8080/",
          "height": 1000
        },
        "id": "--VR2Cf-l4hL",
        "outputId": "e209c4af-7b36-40f6-df80-06359711ce1d"
      },
      "source": [
        "directory = 'pc_iii'\n",
        "paragraphs = []\n",
        "for filename in os.listdir(directory):\n",
        "  xmlFilename = os.path.join(directory, filename)\n",
        "  print(xmlFilename)\n",
        "  if os.path.isdir(xmlFilename):\n",
        "    continue\n",
        "  df = pdx.read_xml(xmlFilename, ['TEI.2', 'text', 'body'], encoding='utf8')\n",
        "  df = fully_flatten(df, ['p|@id'])\n",
        "  df = df.drop(['p|@id', 'p|s|@id', 'p|s|@lang'], axis=1)\n",
        "  df = df.rename(columns={'p|s':'text'})\n",
        "  paragraph = ''\n",
        "  for i in range(0, len(df)):\n",
        "    sentence = df.loc[i].values[0]\n",
        "    paragraph += sentence\n",
        "    paragraph += ' '\n",
        "  paragraphs.append([filename, paragraph])\n",
        "paragraphDF = pd.DataFrame.from_dict(paragraphs)\n",
        "#rename columns\n",
        "paragraphDF.columns=['filename', 'text']\n",
        "paragraphDF.head()"
      ],
      "execution_count": null,
      "outputs": [
        {
          "output_type": "stream",
          "text": [
            "pc_iii/sr_2.xml\n",
            "pc_iii/wp_31.xml\n",
            "pc_iii/wp_2.xml\n",
            "pc_iii/12.xml\n",
            "pc_iii/wp_41.xml\n",
            "pc_iii/wp_39.xml\n",
            "pc_iii/wp_43.xml\n",
            "pc_iii/wp_30.xml\n",
            "pc_iii/wp_19.xml\n",
            "pc_iii/sr_17.xml\n",
            "pc_iii/18.xml\n",
            "pc_iii/wp_29.xml\n",
            "pc_iii/wp_1.xml\n",
            "pc_iii/9.xml\n",
            "pc_iii/wp_25.xml\n",
            "pc_iii/wp_44.xml\n",
            "pc_iii/15.xml\n",
            "pc_iii/wp_20.xml\n",
            "pc_iii/14.xml\n",
            "pc_iii/sr_5.xml\n",
            "pc_iii/wp_32.xml\n",
            "pc_iii/wp_45.xml\n",
            "pc_iii/wp_18.xml\n",
            "pc_iii/sr_3.xml\n",
            "pc_iii/17.xml\n",
            "pc_iii/wp_6.xml\n",
            "pc_iii/wp_24.xml\n",
            "pc_iii/19.xml\n",
            "pc_iii/wp_33.xml\n",
            "pc_iii/wp_3.xml\n",
            "pc_iii/wp_15.xml\n",
            "pc_iii/wp_8.xml\n",
            "pc_iii/4.xml\n",
            "pc_iii/wp_42.xml\n",
            "pc_iii/wp_22.xml\n",
            "pc_iii/wp_26.xml\n",
            "pc_iii/wp_35.xml\n",
            "pc_iii/wp_14.xml\n",
            "pc_iii/wp_13.xml\n",
            "pc_iii/wp_23.xml\n",
            "pc_iii/10.xml\n",
            "pc_iii/wp_28.xml\n",
            "pc_iii/wp_37.xml\n",
            "pc_iii/wp_27.xml\n",
            "pc_iii/6.xml\n",
            "pc_iii/wp_5.xml\n",
            "pc_iii/wp_11.xml\n",
            "pc_iii/wp_21.xml\n",
            "pc_iii/16.xml\n",
            "pc_iii/sr_6.xml\n",
            "pc_iii/11.xml\n",
            "pc_iii/5.xml\n",
            "pc_iii/wp_34.xml\n",
            "pc_iii/wp_38.xml\n",
            "pc_iii/2.xml\n",
            "pc_iii/wp_7.xml\n",
            "pc_iii/8.xml\n",
            "pc_iii/wp_40.xml\n",
            "pc_iii/21.xml\n",
            "pc_iii/wp_12.xml\n",
            "pc_iii/wp_10.xml\n",
            "pc_iii/wp_46.xml\n",
            "pc_iii/7.xml\n",
            "pc_iii/1.xml\n",
            "pc_iii/wp_36.xml\n",
            "pc_iii/13.xml\n",
            "pc_iii/wp_16.xml\n",
            "pc_iii/wp_17.xml\n",
            "pc_iii/20.xml\n",
            "pc_iii/3.xml\n",
            "pc_iii/wp_9.xml\n"
          ],
          "name": "stdout"
        },
        {
          "output_type": "execute_result",
          "data": {
            "text/html": [
              "<div>\n",
              "<style scoped>\n",
              "    .dataframe tbody tr th:only-of-type {\n",
              "        vertical-align: middle;\n",
              "    }\n",
              "\n",
              "    .dataframe tbody tr th {\n",
              "        vertical-align: top;\n",
              "    }\n",
              "\n",
              "    .dataframe thead th {\n",
              "        text-align: right;\n",
              "    }\n",
              "</style>\n",
              "<table border=\"1\" class=\"dataframe\">\n",
              "  <thead>\n",
              "    <tr style=\"text-align: right;\">\n",
              "      <th></th>\n",
              "      <th>filename</th>\n",
              "      <th>text</th>\n",
              "    </tr>\n",
              "  </thead>\n",
              "  <tbody>\n",
              "    <tr>\n",
              "      <th>0</th>\n",
              "      <td>sr_2.xml</td>\n",
              "      <td>1. Mr. Motta Pinto Coelho (Brazil) said that t...</td>\n",
              "    </tr>\n",
              "    <tr>\n",
              "      <th>1</th>\n",
              "      <td>wp_31.xml</td>\n",
              "      <td>1. Nuclear disarmament forms one of the fundam...</td>\n",
              "    </tr>\n",
              "    <tr>\n",
              "      <th>2</th>\n",
              "      <td>wp_2.xml</td>\n",
              "      <td>Non-Proliferation of Nuclear Weapons reaffirms...</td>\n",
              "    </tr>\n",
              "    <tr>\n",
              "      <th>3</th>\n",
              "      <td>12.xml</td>\n",
              "      <td>1. Article VII of the Treaty on the Non-Prolif...</td>\n",
              "    </tr>\n",
              "    <tr>\n",
              "      <th>4</th>\n",
              "      <td>wp_41.xml</td>\n",
              "      <td>Nuclear disarmament and non-proliferation and ...</td>\n",
              "    </tr>\n",
              "  </tbody>\n",
              "</table>\n",
              "</div>"
            ],
            "text/plain": [
              "    filename                                               text\n",
              "0   sr_2.xml  1. Mr. Motta Pinto Coelho (Brazil) said that t...\n",
              "1  wp_31.xml  1. Nuclear disarmament forms one of the fundam...\n",
              "2   wp_2.xml  Non-Proliferation of Nuclear Weapons reaffirms...\n",
              "3     12.xml  1. Article VII of the Treaty on the Non-Prolif...\n",
              "4  wp_41.xml  Nuclear disarmament and non-proliferation and ..."
            ]
          },
          "metadata": {
            "tags": []
          },
          "execution_count": 34
        }
      ]
    },
    {
      "cell_type": "code",
      "metadata": {
        "colab": {
          "base_uri": "https://localhost:8080/",
          "height": 272
        },
        "id": "GktjFXp3vEyy",
        "outputId": "7dd72c0e-48ea-464b-995c-a8002b5252b6"
      },
      "source": [
        "#Do processing on the text\n",
        "import string\n",
        "import contractions\n",
        "import nltk\n",
        "nltk.download('stopwords')\n",
        "from nltk.corpus import stopwords\n",
        "from nltk.stem import PorterStemmer\n",
        "from nltk.stem import WordNetLemmatizer\n",
        "from nltk.tokenize import TweetTokenizer\n",
        "from nltk.corpus import stopwords\n",
        "nltk.download('wordnet')\n",
        "\n",
        "def get_key_words(comment):\n",
        "    words = TweetTokenizer().tokenize(comment)\n",
        "    words = [w for w in words if len(w) > 3] #word length\n",
        "    words = [w for w in words if w.lower() not in stopwords]\n",
        "    words = [WordNetLemmatizer().lemmatize(w) for w in words]\n",
        "    return words\n",
        "\n",
        "paragraphDF['text'] = paragraphDF['text'].apply(lambda x: \" \".join(x.lower() for x in x.split()))\n",
        "#Expand contractions?\n",
        "paragraphDF['text'] = paragraphDF['text'].apply(lambda x: \" \".join(contractions.fix(word) for word in x.split()))\n",
        "\n",
        "#Remove all punctuation\n",
        "paragraphDF['text'] = paragraphDF['text'].str.translate(str.maketrans('', '', string.punctuation))\n",
        "\n",
        "#Remove stopwords\n",
        "stopwords  = [w.lower() for w in list(stopwords.words('english'))]\n",
        "paragraphDF['keywords'] = paragraphDF['text'].apply(get_key_words)\n",
        "\n",
        "#Stemming\n",
        "#st = PorterStemmer()\n",
        "#paragraphDF['keywords'] = paragraphDF['keywords'].apply(lambda x: [st.stem(word) for word in x])\n",
        "paragraphDF.head()"
      ],
      "execution_count": null,
      "outputs": [
        {
          "output_type": "stream",
          "text": [
            "[nltk_data] Downloading package stopwords to /root/nltk_data...\n",
            "[nltk_data]   Package stopwords is already up-to-date!\n",
            "[nltk_data] Downloading package wordnet to /root/nltk_data...\n",
            "[nltk_data]   Package wordnet is already up-to-date!\n"
          ],
          "name": "stdout"
        },
        {
          "output_type": "execute_result",
          "data": {
            "text/html": [
              "<div>\n",
              "<style scoped>\n",
              "    .dataframe tbody tr th:only-of-type {\n",
              "        vertical-align: middle;\n",
              "    }\n",
              "\n",
              "    .dataframe tbody tr th {\n",
              "        vertical-align: top;\n",
              "    }\n",
              "\n",
              "    .dataframe thead th {\n",
              "        text-align: right;\n",
              "    }\n",
              "</style>\n",
              "<table border=\"1\" class=\"dataframe\">\n",
              "  <thead>\n",
              "    <tr style=\"text-align: right;\">\n",
              "      <th></th>\n",
              "      <th>filename</th>\n",
              "      <th>text</th>\n",
              "      <th>keywords</th>\n",
              "    </tr>\n",
              "  </thead>\n",
              "  <tbody>\n",
              "    <tr>\n",
              "      <th>0</th>\n",
              "      <td>sr_2.xml</td>\n",
              "      <td>1 mr motta pinto coelho brazil said that the p...</td>\n",
              "      <td>[motta, pinto, coelho, brazil, said, primary, ...</td>\n",
              "    </tr>\n",
              "    <tr>\n",
              "      <th>1</th>\n",
              "      <td>wp_31.xml</td>\n",
              "      <td>1 nuclear disarmament forms one of the fundame...</td>\n",
              "      <td>[nuclear, disarmament, form, fundamental, pill...</td>\n",
              "    </tr>\n",
              "    <tr>\n",
              "      <th>2</th>\n",
              "      <td>wp_2.xml</td>\n",
              "      <td>nonproliferation of nuclear weapons reaffirms ...</td>\n",
              "      <td>[nonproliferation, nuclear, weapon, reaffirms,...</td>\n",
              "    </tr>\n",
              "    <tr>\n",
              "      <th>3</th>\n",
              "      <td>12.xml</td>\n",
              "      <td>1 article vii of the treaty on the nonprolifer...</td>\n",
              "      <td>[article, treaty, nonproliferation, nuclear, w...</td>\n",
              "    </tr>\n",
              "    <tr>\n",
              "      <th>4</th>\n",
              "      <td>wp_41.xml</td>\n",
              "      <td>nuclear disarmament and nonproliferation and t...</td>\n",
              "      <td>[nuclear, disarmament, nonproliferation, peace...</td>\n",
              "    </tr>\n",
              "  </tbody>\n",
              "</table>\n",
              "</div>"
            ],
            "text/plain": [
              "    filename  ...                                           keywords\n",
              "0   sr_2.xml  ...  [motta, pinto, coelho, brazil, said, primary, ...\n",
              "1  wp_31.xml  ...  [nuclear, disarmament, form, fundamental, pill...\n",
              "2   wp_2.xml  ...  [nonproliferation, nuclear, weapon, reaffirms,...\n",
              "3     12.xml  ...  [article, treaty, nonproliferation, nuclear, w...\n",
              "4  wp_41.xml  ...  [nuclear, disarmament, nonproliferation, peace...\n",
              "\n",
              "[5 rows x 3 columns]"
            ]
          },
          "metadata": {
            "tags": []
          },
          "execution_count": 35
        }
      ]
    },
    {
      "cell_type": "code",
      "metadata": {
        "colab": {
          "base_uri": "https://localhost:8080/",
          "height": 1000
        },
        "id": "9dKyoStxeE-T",
        "outputId": "43b0b252-c9ab-4125-e652-fbbe3ad01aa4"
      },
      "source": [
        "import collections\n",
        "from collections import Counter\n",
        "from decimal import Decimal\n",
        "import matplotlib.pyplot as plt\n",
        "\n",
        "N = 3 #N-grams\n",
        "T = 10 #Max top words\n",
        "\n",
        "def n_grams(kw, n):\n",
        "    output = []\n",
        "    for i in range(len(kw)-n+1):\n",
        "        output.append(kw[i:i+n])\n",
        "    return output\n",
        "\n",
        "for n in range(1, N+1):\n",
        "    key_words = paragraphDF[\"keywords\"].tolist()\n",
        "    key_words = [[' '.join(x) for x in n_grams(kw, n)] for kw in key_words]\n",
        "    row_key_words = key_words\n",
        "    key_words = [[each_word] for each_list in key_words for each_word in each_list]\n",
        "    count = dict(Counter(map(tuple, key_words)))\n",
        "    count = sorted(count.items(), key=lambda x: x[1], reverse=True)\n",
        "    count = [(c[0][0],c[1]) for c in count]\n",
        "    data = count[:T]\n",
        "    x, y = zip(*data)\n",
        "\n",
        "    most_important_words = list(x)\n",
        "    allMatches = []\n",
        "    for row in row_key_words:\n",
        "      matches = []\n",
        "      for word in most_important_words:\n",
        "        if word in row:\n",
        "          matches.append(word)\n",
        "      allMatches.append(matches)\n",
        "    columnName = str(n) + '-grams'\n",
        "    paragraphDF[columnName] = allMatches\n",
        "\n",
        "    plt.bar(x,y)\n",
        "    plt.xticks(rotation = 90)\n",
        "    plt.show()\n",
        "    sumc = sum([c[1] for c in count])\n",
        "    def get_sci_val(x):\n",
        "        x = round(x/sumc, 6)\n",
        "        x = \"{:.2E}\".format(Decimal(x))\n",
        "        return x\n",
        "    count = [(c[0],c[1],get_sci_val(c[1])) for c in count]\n",
        "    print(\"{}-grams(word,count,perentage):\\n{}\\n\".format(n,count[:T]))"
      ],
      "execution_count": null,
      "outputs": [
        {
          "output_type": "display_data",
          "data": {
            "image/png": "[encoded data removed]",
            "text/plain": [
              "<Figure size 432x288 with 1 Axes>"
            ]
          },
          "metadata": {
            "tags": [],
            "needs_background": "light"
          }
        },
        {
          "output_type": "stream",
          "text": [
            "1-grams(word,count,perentage):\n",
            "[('nuclear', 5464, '4.39E-2'), ('state', 2957, '2.38E-2'), ('treaty', 2489, '2.00E-2'), ('weapon', 2019, '1.62E-2'), ('conference', 1378, '1.11E-2'), ('disarmament', 1152, '9.26E-3'), ('nonproliferation', 1098, '8.82E-3'), ('security', 1086, '8.73E-3'), ('international', 1057, '8.49E-3'), ('party', 1050, '8.44E-3')]\n",
            "\n"
          ],
          "name": "stdout"
        },
        {
          "output_type": "display_data",
          "data": {
            "image/png": "[encoded data removed]",
            "text/plain": [
              "<Figure size 432x288 with 1 Axes>"
            ]
          },
          "metadata": {
            "tags": [],
            "needs_background": "light"
          }
        },
        {
          "output_type": "stream",
          "text": [
            "2-grams(word,count,perentage):\n",
            "[('nuclear weapon', 1652, '1.33E-2'), ('state party', 774, '6.22E-3'), ('review conference', 618, '4.97E-3'), ('nuclear disarmament', 587, '4.72E-3'), ('nuclearweapon state', 535, '4.30E-3'), ('party treaty', 480, '3.86E-3'), ('united state', 379, '3.05E-3'), ('nuclear energy', 366, '2.94E-3'), ('nuclear security', 327, '2.63E-3'), ('middle east', 318, '2.56E-3')]\n",
            "\n"
          ],
          "name": "stdout"
        },
        {
          "output_type": "display_data",
          "data": {
            "image/png": "[encoded data removed]",
            "text/plain": [
              "<Figure size 432x288 with 1 Axes>"
            ]
          },
          "metadata": {
            "tags": [],
            "needs_background": "light"
          }
        },
        {
          "output_type": "stream",
          "text": [
            "3-grams(word,count,perentage):\n",
            "[('state party treaty', 336, '2.70E-3'), ('nonproliferation nuclear weapon', 252, '2.03E-3'), ('2010 review conference', 234, '1.88E-3'), ('treaty nonproliferation nuclear', 229, '1.84E-3'), ('comprehensive nucleartestban treaty', 186, '1.50E-3'), ('2015 review conference', 175, '1.41E-3'), ('peaceful us nuclear', 160, '1.29E-3'), ('weapon mass destruction', 156, '1.26E-3'), ('islamic republic iran', 151, '1.21E-3'), ('us nuclear energy', 145, '1.17E-3')]\n",
            "\n"
          ],
          "name": "stdout"
        }
      ]
    },
    {
      "cell_type": "code",
      "metadata": {
        "id": "eGln5G9xgha9",
        "colab": {
          "base_uri": "https://localhost:8080/",
          "height": 589
        },
        "outputId": "594f4eef-7dd1-47a0-c771-c7a5ab8abb45"
      },
      "source": [
        "paragraphDF"
      ],
      "execution_count": null,
      "outputs": [
        {
          "output_type": "execute_result",
          "data": {
            "text/html": [
              "<div>\n",
              "<style scoped>\n",
              "    .dataframe tbody tr th:only-of-type {\n",
              "        vertical-align: middle;\n",
              "    }\n",
              "\n",
              "    .dataframe tbody tr th {\n",
              "        vertical-align: top;\n",
              "    }\n",
              "\n",
              "    .dataframe thead th {\n",
              "        text-align: right;\n",
              "    }\n",
              "</style>\n",
              "<table border=\"1\" class=\"dataframe\">\n",
              "  <thead>\n",
              "    <tr style=\"text-align: right;\">\n",
              "      <th></th>\n",
              "      <th>filename</th>\n",
              "      <th>text</th>\n",
              "      <th>keywords</th>\n",
              "      <th>1-grams</th>\n",
              "      <th>2-grams</th>\n",
              "      <th>3-grams</th>\n",
              "    </tr>\n",
              "  </thead>\n",
              "  <tbody>\n",
              "    <tr>\n",
              "      <th>0</th>\n",
              "      <td>sr_2.xml</td>\n",
              "      <td>1 mr motta pinto coelho brazil said that the p...</td>\n",
              "      <td>[motta, pinto, coelho, brazil, said, primary, ...</td>\n",
              "      <td>[nuclear, state, treaty, weapon, conference, d...</td>\n",
              "      <td>[nuclear weapon, state party, review conferenc...</td>\n",
              "      <td>[state party treaty, nonproliferation nuclear ...</td>\n",
              "    </tr>\n",
              "    <tr>\n",
              "      <th>1</th>\n",
              "      <td>wp_31.xml</td>\n",
              "      <td>1 nuclear disarmament forms one of the fundame...</td>\n",
              "      <td>[nuclear, disarmament, form, fundamental, pill...</td>\n",
              "      <td>[nuclear, state, treaty, weapon, conference, d...</td>\n",
              "      <td>[nuclear weapon, state party, review conferenc...</td>\n",
              "      <td>[state party treaty, nonproliferation nuclear ...</td>\n",
              "    </tr>\n",
              "    <tr>\n",
              "      <th>2</th>\n",
              "      <td>wp_2.xml</td>\n",
              "      <td>nonproliferation of nuclear weapons reaffirms ...</td>\n",
              "      <td>[nonproliferation, nuclear, weapon, reaffirms,...</td>\n",
              "      <td>[nuclear, state, treaty, weapon, conference, d...</td>\n",
              "      <td>[nuclear weapon, state party, review conferenc...</td>\n",
              "      <td>[state party treaty, nonproliferation nuclear ...</td>\n",
              "    </tr>\n",
              "    <tr>\n",
              "      <th>3</th>\n",
              "      <td>12.xml</td>\n",
              "      <td>1 article vii of the treaty on the nonprolifer...</td>\n",
              "      <td>[article, treaty, nonproliferation, nuclear, w...</td>\n",
              "      <td>[nuclear, state, treaty, weapon, conference, d...</td>\n",
              "      <td>[nuclear weapon, state party, review conferenc...</td>\n",
              "      <td>[state party treaty, nonproliferation nuclear ...</td>\n",
              "    </tr>\n",
              "    <tr>\n",
              "      <th>4</th>\n",
              "      <td>wp_41.xml</td>\n",
              "      <td>nuclear disarmament and nonproliferation and t...</td>\n",
              "      <td>[nuclear, disarmament, nonproliferation, peace...</td>\n",
              "      <td>[nuclear, state, treaty, weapon, disarmament, ...</td>\n",
              "      <td>[nuclear weapon, state party, nuclear disarmam...</td>\n",
              "      <td>[state party treaty, nonproliferation nuclear ...</td>\n",
              "    </tr>\n",
              "    <tr>\n",
              "      <th>...</th>\n",
              "      <td>...</td>\n",
              "      <td>...</td>\n",
              "      <td>...</td>\n",
              "      <td>...</td>\n",
              "      <td>...</td>\n",
              "      <td>...</td>\n",
              "    </tr>\n",
              "    <tr>\n",
              "      <th>66</th>\n",
              "      <td>wp_16.xml</td>\n",
              "      <td>1 the group of nonaligned states parties to th...</td>\n",
              "      <td>[group, nonaligned, state, party, treaty, nonp...</td>\n",
              "      <td>[nuclear, state, treaty, weapon, conference, d...</td>\n",
              "      <td>[nuclear weapon, state party, review conferenc...</td>\n",
              "      <td>[state party treaty, nonproliferation nuclear ...</td>\n",
              "    </tr>\n",
              "    <tr>\n",
              "      <th>67</th>\n",
              "      <td>wp_17.xml</td>\n",
              "      <td>nonproliferation of nuclear weapons emphasizes...</td>\n",
              "      <td>[nonproliferation, nuclear, weapon, emphasizes...</td>\n",
              "      <td>[nuclear, state, treaty, weapon, conference, d...</td>\n",
              "      <td>[nuclear weapon, state party, review conferenc...</td>\n",
              "      <td>[state party treaty, nonproliferation nuclear ...</td>\n",
              "    </tr>\n",
              "    <tr>\n",
              "      <th>68</th>\n",
              "      <td>20.xml</td>\n",
              "      <td>2 the present report describes the activities ...</td>\n",
              "      <td>[present, report, describes, activity, netherl...</td>\n",
              "      <td>[nuclear, state, treaty, weapon, conference, d...</td>\n",
              "      <td>[nuclear weapon, review conference, nuclear di...</td>\n",
              "      <td>[nonproliferation nuclear weapon, 2010 review ...</td>\n",
              "    </tr>\n",
              "    <tr>\n",
              "      <th>69</th>\n",
              "      <td>3.xml</td>\n",
              "      <td>1 the present report is submitted pursuant to ...</td>\n",
              "      <td>[present, report, submitted, pursuant, action,...</td>\n",
              "      <td>[nuclear, state, treaty, weapon, conference, d...</td>\n",
              "      <td>[nuclear weapon, state party, review conferenc...</td>\n",
              "      <td>[state party treaty, nonproliferation nuclear ...</td>\n",
              "    </tr>\n",
              "    <tr>\n",
              "      <th>70</th>\n",
              "      <td>wp_9.xml</td>\n",
              "      <td>3 the present paper will focus on the fulfilme...</td>\n",
              "      <td>[present, paper, focus, fulfilment, action, 20...</td>\n",
              "      <td>[nuclear, state, treaty, weapon, conference, d...</td>\n",
              "      <td>[nuclear weapon, state party, review conferenc...</td>\n",
              "      <td>[nonproliferation nuclear weapon, 2010 review ...</td>\n",
              "    </tr>\n",
              "  </tbody>\n",
              "</table>\n",
              "<p>71 rows × 6 columns</p>\n",
              "</div>"
            ],
            "text/plain": [
              "     filename  ...                                            3-grams\n",
              "0    sr_2.xml  ...  [state party treaty, nonproliferation nuclear ...\n",
              "1   wp_31.xml  ...  [state party treaty, nonproliferation nuclear ...\n",
              "2    wp_2.xml  ...  [state party treaty, nonproliferation nuclear ...\n",
              "3      12.xml  ...  [state party treaty, nonproliferation nuclear ...\n",
              "4   wp_41.xml  ...  [state party treaty, nonproliferation nuclear ...\n",
              "..        ...  ...                                                ...\n",
              "66  wp_16.xml  ...  [state party treaty, nonproliferation nuclear ...\n",
              "67  wp_17.xml  ...  [state party treaty, nonproliferation nuclear ...\n",
              "68     20.xml  ...  [nonproliferation nuclear weapon, 2010 review ...\n",
              "69      3.xml  ...  [state party treaty, nonproliferation nuclear ...\n",
              "70   wp_9.xml  ...  [nonproliferation nuclear weapon, 2010 review ...\n",
              "\n",
              "[71 rows x 6 columns]"
            ]
          },
          "metadata": {
            "tags": []
          },
          "execution_count": 47
        }
      ]
    },
    {
      "cell_type": "code",
      "metadata": {
        "id": "F95tBjnUvK1g"
      },
      "source": [
        ""
      ],
      "execution_count": null,
      "outputs": []
    }
  ]
}